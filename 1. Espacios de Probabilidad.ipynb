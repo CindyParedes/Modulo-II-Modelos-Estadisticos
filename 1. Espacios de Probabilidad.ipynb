{
 "cells": [
  {
   "cell_type": "markdown",
   "id": "50dff7e1-c126-416c-8e82-a10faba82984",
   "metadata": {},
   "source": [
    "# 1. ESPACIOS DE PROBABILIDAD."
   ]
  },
  {
   "cell_type": "markdown",
   "id": "a03756ed-a3c2-4a9a-929a-8169e3e56d17",
   "metadata": {},
   "source": [
    "**Definición**: Un **espacio de probabilidad** es un triple ordenado $(\\Omega, \\mathcal{F}, P)$, donde:\n",
    "\n",
    "- $\\Omega$ es el **espacio muestral**, es decir, el conjunto de todos los posibles resultados de un experimento aleatorio.\n",
    "- $\\mathcal{F}$ es una **σ-álgebra** de subconjuntos de $\\Omega$, cuyos elementos se llaman **eventos**.\n",
    "- $P : \\mathcal{F} \\to [0,1]$ es una **función de probabilidad**, que cumple las siguientes propiedades:\n",
    "\n",
    "  1. $P(A) \\geq 0$, para todo $A \\in \\mathcal{F}$,\n",
    "  2. $P(\\Omega) = 1$,\n",
    "  3. Si $\\{A_i\\}_{i=1}^{\\infty}$ es una colección de eventos mutuamente excluyentes (es decir, $A_i \\cap A_j = \\emptyset$ para $i \\neq j$), entonces:\n",
    "\n",
    "$$\n",
    "P\\left( \\bigcup_{i=1}^{\\infty} A_i \\right) = \\sum_{i=1}^{\\infty} P(A_i)\n",
    "$$\n",
    "\n",
    "Este modelo matemático proporciona el fundamento riguroso para definir y analizar fenómenos aleatorios en el contexto de la teoría de la probabilidad.\n",
    "\n",
    "---\n",
    "**Fuente:** \n",
    "- Rincón, L. (año). *Probabilidad y estadística para ingeniería y ciencias*. Ediciones Trillas."
   ]
  },
  {
   "cell_type": "markdown",
   "id": "f8180fa4-0ec4-4def-a19e-17f9f6805262",
   "metadata": {},
   "source": [
    "## 1.1. Probabilidad Laplaciana (Clásica).\n",
    "\n",
    "La **probabilidad clásica**, también llamada **probabilidad a priori** o **laplaciana**, se basa en el supuesto de que todos los resultados del experimento son *equiprobables*, es decir, tienen la misma probabilidad de ocurrir.\n",
    "\n",
    "Esta definición requiere que:\n",
    "\n",
    "- El número de resultados posibles sea *finito y contable*.\n",
    "- Cada resultado elemental tenga la *misma probabilidad de ocurrencia*.\n",
    "\n",
    "Es una definición intuitiva y útil en contextos simétricos, como juegos de azar, conteos combinatorios y experimentos donde no existe información empírica previa.\n",
    "\n",
    "**Definición:**\n",
    "Para un experimento aleatorio, se tiene que $\\Omega$ es el espacio muestral.\n",
    "\n",
    "Sea $A$ un evento, entonces\n",
    "\n",
    "**$$ \\mathbb{P}(A) = \\frac{\\#A}{\\#\\Omega} $$**\n",
    "\n",
    "**Observaciones:**\n",
    "- Según *Rincón*, esta formulación es válida solo cuando se puede justificar la equiprobabilidad, es decir, que no existe razón para preferir un resultado sobre otro.\n",
    "- *Mood, Graybill y Boes* destacan que esta definición, aunque sencilla, no es aplicable a fenómenos complejos o infinitos, por lo que debe usarse con cuidado.\n",
    "- *Mendenhall y Scheaffer* subrayan que la probabilidad clásica representa un caso particular dentro de los modelos de probabilidad y no debe confundirse con la definición axiomática general de Kolmogorov.\n",
    "  \n",
    "---\n",
    "\n",
    "**Fuente:**\n",
    "- Rincón, L. (año). *Probabilidad y estadística para ingeniería y ciencias*. Ediciones Trillas.  \n",
    "- Mood, A. M., Graybill, F. A., & Boes, D. C. (año). *Introduction to the Theory of Statistics*. McGraw-Hill.  \n",
    "- Mendenhall, W., & Scheaffer, R. L. (año). *Mathematical Statistics with Applications*. Duxbury."
   ]
  },
  {
   "cell_type": "markdown",
   "id": "55e1df4a-7939-4b07-bdc7-56db6c791809",
   "metadata": {},
   "source": [
    "### 1.1.1. Espacio Muestral ($\\Omega $).\n",
    "Un **espacio muestral** es un conjunto no vacío que contiene todos los resultados posibles de un experimento aleatorio. Formalmente, si $ \\omega_1, \\omega_2, \\dots, \\omega_n $ son los posibles resultados de un experimento, entonces el espacio muestral se define como:\n",
    "\n",
    "$$\n",
    "\\Omega = \\{\\omega_1, \\omega_2, \\dots, \\omega_n\\}\n",
    "$$\n",
    "\n",
    "Donde \\( \\Omega \\) es el conjunto de todos los resultados que pueden ocurrir, y cada \\( \\omega_i \\) es un elemento del espacio muestral que representa un resultado individual del experimento.\n"
   ]
  },
  {
   "cell_type": "markdown",
   "id": "ead6e09d-c0e7-4046-9652-3171ede158fa",
   "metadata": {},
   "source": [
    "### 1.1.2. Eventos.\n",
    "Un **evento** $ A $ es cualquier subconjunto de $ \\Omega $. Dicho de otra manera, un evento es un conjunto que contiene uno o más resultados del espacio muestral. Formalmente, si $ A \\subseteq \\Omega $, entonces $ A $ es un evento. Los eventos pueden ser simples (contienen un solo resultado) o compuestos (contienen varios resultados). Por ejemplo, si $ \\Omega = \\{1, 2, 3, 4, 5, 6\\} $, un evento podría ser $ A = \\{2, 4, 6\\} $, que corresponde al evento de obtener un número par en el lanzamiento de un dado.\n"
   ]
  },
  {
   "cell_type": "markdown",
   "id": "e2d02248-fb5b-4cbd-8f62-09b9bb8461b8",
   "metadata": {},
   "source": [
    "<font color=\"blue\">**EJEMPLO:**</font> Sea el experimento de lanzar una moneda 3 veces, de manera independiente (es decir, el $i$-ésimo lanzamiento no me afecta al $i+1$ lanzamiento). El espacio muestral de este experimento es:\n",
    "\n",
    "$$ \\Omega = \\{A,S\\} \\times \\{A,S\\} \\times \\{A,S\\} = \\{A,S\\}^3 $$\n",
    "y tenemos que $\\#\\Omega = 2^3$.\n",
    "\n",
    "Sean los eventos:\n",
    "* $A$: todos los resultados son águila\n",
    "* $S$: todos los resultados son soles\n",
    "* $E$: Por lo menos un resultado es sol\n",
    "  \n",
    "Calcular las probabilidades de estos eventos:\n",
    "\n",
    "**Solución** Vamos a descomponer mi conjunto $A$ de la siguiente manera:\n",
    "$$A = A_1 \\cap A_2 \\cap A_3 $$\n",
    "donde $A_i$: caé águila en el $i$-ésimo resultado."
   ]
  },
  {
   "cell_type": "code",
   "execution_count": 2,
   "id": "f092d13f-3b4e-4eee-b7e7-4861e60ddd6e",
   "metadata": {},
   "outputs": [
    {
     "data": {
      "text/plain": [
       "{('A', 'A', 'A'),\n",
       " ('A', 'A', 'S'),\n",
       " ('A', 'S', 'A'),\n",
       " ('A', 'S', 'S'),\n",
       " ('S', 'A', 'A'),\n",
       " ('S', 'A', 'S'),\n",
       " ('S', 'S', 'A'),\n",
       " ('S', 'S', 'S')}"
      ]
     },
     "execution_count": 2,
     "metadata": {},
     "output_type": "execute_result"
    }
   ],
   "source": [
    "# Vamos a crear el espacio muestral\n",
    "import itertools #importamos el modulo\n",
    "from itertools import product\n",
    "\n",
    "Omega = set( product({\"A\",\"S\"},repeat=3 ))\n",
    "Omega"
   ]
  },
  {
   "cell_type": "code",
   "execution_count": 3,
   "id": "7c887e2b-6618-4394-9ad8-efc0537c0eb5",
   "metadata": {},
   "outputs": [
    {
     "data": {
      "text/plain": [
       "8"
      ]
     },
     "execution_count": 3,
     "metadata": {},
     "output_type": "execute_result"
    }
   ],
   "source": [
    "len(Omega) # cardinalidad de Omega"
   ]
  },
  {
   "cell_type": "code",
   "execution_count": 4,
   "id": "075bc2e0-379a-40ad-a126-fb333ceaa196",
   "metadata": {},
   "outputs": [
    {
     "data": {
      "text/plain": [
       "{('A', 'A', 'A'), ('A', 'A', 'S'), ('A', 'S', 'A'), ('A', 'S', 'S')}"
      ]
     },
     "execution_count": 4,
     "metadata": {},
     "output_type": "execute_result"
    }
   ],
   "source": [
    "# Vamos a crear el evento A_1\n",
    "A_1 = { om for om in Omega if om[0]==\"A\"} # la primera coordenada es águila\n",
    "A_1"
   ]
  },
  {
   "cell_type": "code",
   "execution_count": 5,
   "id": "6611e443-3c6a-4c2e-aa20-85681249c7a4",
   "metadata": {},
   "outputs": [
    {
     "data": {
      "text/plain": [
       "{('A', 'A', 'A'), ('A', 'A', 'S'), ('S', 'A', 'A'), ('S', 'A', 'S')}"
      ]
     },
     "execution_count": 5,
     "metadata": {},
     "output_type": "execute_result"
    }
   ],
   "source": [
    "# Vamos a crear el evento A_2\n",
    "A_2 = { om for om in Omega if om[1]==\"A\"} # la segunda coordenada es águila\n",
    "A_2"
   ]
  },
  {
   "cell_type": "code",
   "execution_count": 6,
   "id": "0f1ef909-1dac-497c-b028-45d0933ff9e6",
   "metadata": {},
   "outputs": [
    {
     "data": {
      "text/plain": [
       "{('A', 'A', 'A'), ('A', 'S', 'A'), ('S', 'A', 'A'), ('S', 'S', 'A')}"
      ]
     },
     "execution_count": 6,
     "metadata": {},
     "output_type": "execute_result"
    }
   ],
   "source": [
    "# Vamos a crear el evento A_3\n",
    "A_3 = { om for om in Omega if om[2]==\"A\"} # la tercera coordenada es águila\n",
    "A_3"
   ]
  },
  {
   "cell_type": "code",
   "execution_count": 7,
   "id": "d7a7deb5-0d77-4163-b729-a42e7f2e7cd7",
   "metadata": {},
   "outputs": [
    {
     "data": {
      "text/plain": [
       "{('A', 'A', 'A')}"
      ]
     },
     "execution_count": 7,
     "metadata": {},
     "output_type": "execute_result"
    }
   ],
   "source": [
    "# Vamos a crear el evento A \n",
    "A = A_1.intersection(A_2.intersection(A_3))\n",
    "A"
   ]
  },
  {
   "cell_type": "code",
   "execution_count": 8,
   "id": "ada50aec-e0e2-4d88-aded-ac1ce5c4c6f9",
   "metadata": {},
   "outputs": [
    {
     "data": {
      "text/plain": [
       "1"
      ]
     },
     "execution_count": 8,
     "metadata": {},
     "output_type": "execute_result"
    }
   ],
   "source": [
    "len(A)"
   ]
  },
  {
   "cell_type": "code",
   "execution_count": 9,
   "id": "d79d2dac-702e-4349-bcb8-e26dbbce583d",
   "metadata": {},
   "outputs": [
    {
     "data": {
      "text/plain": [
       "0.125"
      ]
     },
     "execution_count": 9,
     "metadata": {},
     "output_type": "execute_result"
    }
   ],
   "source": [
    "# Vamos a calcular la probabilidad de A\n",
    "P_A = len(A) / len(Omega)\n",
    "P_A"
   ]
  },
  {
   "cell_type": "markdown",
   "id": "306b4a1a-f685-4015-93ee-fce77d086914",
   "metadata": {},
   "source": [
    "Yo quiero expresar mi resultado en fracción, esto se hace de la siguiente manera:"
   ]
  },
  {
   "cell_type": "code",
   "execution_count": 10,
   "id": "0503b0ef-6a77-445f-9544-d2f2b3a05e76",
   "metadata": {},
   "outputs": [],
   "source": [
    "from fractions import Fraction\n",
    "\n",
    "def p(E,Omega):\n",
    "    p = Fraction(len(E),len(Omega))\n",
    "    return p"
   ]
  },
  {
   "cell_type": "code",
   "execution_count": 11,
   "id": "7ac30a2b-e172-4c2b-8bb4-de405e12503a",
   "metadata": {},
   "outputs": [
    {
     "data": {
      "text/plain": [
       "Fraction(1, 8)"
      ]
     },
     "execution_count": 11,
     "metadata": {},
     "output_type": "execute_result"
    }
   ],
   "source": [
    "prob = p(A,Omega)\n",
    "prob"
   ]
  },
  {
   "cell_type": "markdown",
   "id": "e787b054-0521-4949-a9c9-df9ff89722db",
   "metadata": {
    "jp-MarkdownHeadingCollapsed": true
   },
   "source": [
    "<font color=\"red\">**Evento S**</font>"
   ]
  },
  {
   "cell_type": "code",
   "execution_count": 12,
   "id": "e70ef9f6-3430-4a3d-86a7-24d54ad39227",
   "metadata": {},
   "outputs": [
    {
     "data": {
      "text/plain": [
       "{('S', 'A', 'A'), ('S', 'A', 'S'), ('S', 'S', 'A'), ('S', 'S', 'S')}"
      ]
     },
     "execution_count": 12,
     "metadata": {},
     "output_type": "execute_result"
    }
   ],
   "source": [
    "# Vamos a crear el evento S_1\n",
    "S_1 = { om for om in Omega if om[0]==\"S\"} # la primera coordenada es SOL\n",
    "S_1"
   ]
  },
  {
   "cell_type": "code",
   "execution_count": 13,
   "id": "98706650-7006-46a2-a2cc-4ce5ca12e165",
   "metadata": {},
   "outputs": [
    {
     "data": {
      "text/plain": [
       "{('A', 'S', 'A'), ('A', 'S', 'S'), ('S', 'S', 'A'), ('S', 'S', 'S')}"
      ]
     },
     "execution_count": 13,
     "metadata": {},
     "output_type": "execute_result"
    }
   ],
   "source": [
    "# Vamos a crear el evento S_2\n",
    "S_2 = { om for om in Omega if om[1]==\"S\"} # la segunda coordenada es SOL\n",
    "S_2"
   ]
  },
  {
   "cell_type": "code",
   "execution_count": 14,
   "id": "577f9c4b-4c79-4033-a56e-c544abba3559",
   "metadata": {},
   "outputs": [
    {
     "data": {
      "text/plain": [
       "{('A', 'A', 'S'), ('A', 'S', 'S'), ('S', 'A', 'S'), ('S', 'S', 'S')}"
      ]
     },
     "execution_count": 14,
     "metadata": {},
     "output_type": "execute_result"
    }
   ],
   "source": [
    "# Vamos a crear el evento S_3\n",
    "S_3 = { om for om in Omega if om[2]==\"S\"} # la tercera coordenada es SOL\n",
    "S_3"
   ]
  },
  {
   "cell_type": "code",
   "execution_count": 15,
   "id": "f0b71653-1a7a-43c9-a775-6266fb1577a8",
   "metadata": {},
   "outputs": [
    {
     "data": {
      "text/plain": [
       "{('S', 'S', 'S')}"
      ]
     },
     "execution_count": 15,
     "metadata": {},
     "output_type": "execute_result"
    }
   ],
   "source": [
    "# Vamos a crear el evento S\n",
    "S = S_1.intersection(S_2.intersection(S_3))\n",
    "S"
   ]
  },
  {
   "cell_type": "code",
   "execution_count": 16,
   "id": "8f391951-d570-4024-8c41-298e189464fc",
   "metadata": {},
   "outputs": [
    {
     "data": {
      "text/plain": [
       "1"
      ]
     },
     "execution_count": 16,
     "metadata": {},
     "output_type": "execute_result"
    }
   ],
   "source": [
    "len(S)"
   ]
  },
  {
   "cell_type": "code",
   "execution_count": 17,
   "id": "9dfc66fe-1c5f-4329-8d62-3fa27c4e0c0b",
   "metadata": {},
   "outputs": [
    {
     "data": {
      "text/plain": [
       "0.125"
      ]
     },
     "execution_count": 17,
     "metadata": {},
     "output_type": "execute_result"
    }
   ],
   "source": [
    "# Vamos a calcular la probabilidad de S\n",
    "P_S = len(S) / len(Omega)\n",
    "P_S"
   ]
  },
  {
   "cell_type": "code",
   "execution_count": 18,
   "id": "ff0eb012-28fb-4e4b-af56-e8345d18184a",
   "metadata": {},
   "outputs": [
    {
     "data": {
      "text/plain": [
       "Fraction(1, 8)"
      ]
     },
     "execution_count": 18,
     "metadata": {},
     "output_type": "execute_result"
    }
   ],
   "source": [
    "prob = p(S,Omega)\n",
    "prob"
   ]
  },
  {
   "cell_type": "markdown",
   "id": "901d6b72-a7f4-43d5-9785-94dfceee2d92",
   "metadata": {},
   "source": [
    "<font color=\"red\">**Evento E**</font>"
   ]
  },
  {
   "cell_type": "code",
   "execution_count": 19,
   "id": "fd399bf6-c4d0-4237-948d-974d61051470",
   "metadata": {},
   "outputs": [
    {
     "data": {
      "text/plain": [
       "{('A', 'A', 'S'),\n",
       " ('A', 'S', 'A'),\n",
       " ('A', 'S', 'S'),\n",
       " ('S', 'A', 'A'),\n",
       " ('S', 'A', 'S'),\n",
       " ('S', 'S', 'A'),\n",
       " ('S', 'S', 'S')}"
      ]
     },
     "execution_count": 19,
     "metadata": {},
     "output_type": "execute_result"
    }
   ],
   "source": [
    "# Vamos a crear el evento E\n",
    "E = { om for om in Omega if \"S\" in om} #\n",
    "E"
   ]
  },
  {
   "cell_type": "code",
   "execution_count": 20,
   "id": "b76a54cb-4f39-4ea3-a977-b7c9d452ed7b",
   "metadata": {},
   "outputs": [
    {
     "data": {
      "text/plain": [
       "7"
      ]
     },
     "execution_count": 20,
     "metadata": {},
     "output_type": "execute_result"
    }
   ],
   "source": [
    "len(E)"
   ]
  },
  {
   "cell_type": "code",
   "execution_count": 21,
   "id": "abe2cfa8-53e4-4d83-a107-95600f26a23c",
   "metadata": {},
   "outputs": [
    {
     "data": {
      "text/plain": [
       "0.875"
      ]
     },
     "execution_count": 21,
     "metadata": {},
     "output_type": "execute_result"
    }
   ],
   "source": [
    "# Vamos a calcular la probabilidad de E\n",
    "P_E = len(E) / len(Omega)\n",
    "P_E"
   ]
  },
  {
   "cell_type": "code",
   "execution_count": 22,
   "id": "c66ed30d-8337-480d-b1cd-6fc4f8a2b210",
   "metadata": {},
   "outputs": [
    {
     "data": {
      "text/plain": [
       "Fraction(7, 8)"
      ]
     },
     "execution_count": 22,
     "metadata": {},
     "output_type": "execute_result"
    }
   ],
   "source": [
    "prob = p(E,Omega)\n",
    "prob"
   ]
  },
  {
   "cell_type": "markdown",
   "id": "e3d0d4be-99f3-4921-b514-b00086f04a10",
   "metadata": {},
   "source": [
    "### 1.1.3. Probabilidad condicional.\n",
    "\n",
    "Definimos la probabilidad de que ocurra un evento $A$ sabiendo que ocurre el evento $B$, \n",
    "$$ \\mathbb{P}(A \\mid B) = \\frac{\\mathbb{P}(A \\cap B)}{\\mathbb{P}(B)} = \\frac{\\# A\\cap B}{\\#B} $$\n",
    "donde $\\mathbb{P}(B)>0$. "
   ]
  },
  {
   "cell_type": "code",
   "execution_count": 48,
   "id": "b0d05ba7-c5cb-495d-9db3-59ef3b28d06d",
   "metadata": {},
   "outputs": [],
   "source": [
    "def prob_cond(E,F):\n",
    "    return len(E & F) / len(F)"
   ]
  },
  {
   "cell_type": "markdown",
   "id": "4370e3d2-b867-4386-82f0-830b751591d3",
   "metadata": {},
   "source": [
    "Quiero calcular la probabilidad condicional de los siguientes eventos:\n",
    "\n",
    "El primer lanzamiento es águila\n",
    "Dos de los resultados son águila"
   ]
  },
  {
   "cell_type": "code",
   "execution_count": 49,
   "id": "6abab73b-d5ce-46a9-be99-187551639ca8",
   "metadata": {},
   "outputs": [
    {
     "data": {
      "text/plain": [
       "{('A', 'A', 'A'), ('A', 'A', 'S'), ('A', 'S', 'A'), ('A', 'S', 'S')}"
      ]
     },
     "execution_count": 49,
     "metadata": {},
     "output_type": "execute_result"
    }
   ],
   "source": [
    "# El primer lanzamiento es águila\n",
    "B = { om for om in Omega if om[0]==\"A\"} # el primer lanzamiento es águila\n",
    "B"
   ]
  },
  {
   "cell_type": "code",
   "execution_count": 50,
   "id": "727df4de-64ae-4f36-8fdd-e8bb2f95cae0",
   "metadata": {},
   "outputs": [
    {
     "data": {
      "text/plain": [
       "{('A', 'A', 'S'), ('A', 'S', 'A'), ('S', 'A', 'A')}"
      ]
     },
     "execution_count": 50,
     "metadata": {},
     "output_type": "execute_result"
    }
   ],
   "source": [
    "C = { om for om in Omega if om.count(\"A\")==2}\n",
    "C"
   ]
  },
  {
   "cell_type": "code",
   "execution_count": 51,
   "id": "1b14e57f-5b20-40e8-9652-b310c69932d3",
   "metadata": {},
   "outputs": [],
   "source": [
    "def prob(E): \n",
    "    return len(E) / len(Omega)"
   ]
  },
  {
   "cell_type": "code",
   "execution_count": 52,
   "id": "b3891867-a95c-4300-b549-73897204e53c",
   "metadata": {},
   "outputs": [
    {
     "data": {
      "text/plain": [
       "0.5"
      ]
     },
     "execution_count": 52,
     "metadata": {},
     "output_type": "execute_result"
    }
   ],
   "source": [
    "prob(B)"
   ]
  },
  {
   "cell_type": "code",
   "execution_count": 53,
   "id": "de123445-b727-4f4a-b2f9-29d8f306fc95",
   "metadata": {},
   "outputs": [
    {
     "data": {
      "text/plain": [
       "0.375"
      ]
     },
     "execution_count": 53,
     "metadata": {},
     "output_type": "execute_result"
    }
   ],
   "source": [
    "prob(C)"
   ]
  },
  {
   "cell_type": "code",
   "execution_count": 54,
   "id": "6defffff-81e4-4685-adc0-88c47a5741da",
   "metadata": {},
   "outputs": [
    {
     "data": {
      "text/plain": [
       "0.6666666666666666"
      ]
     },
     "execution_count": 54,
     "metadata": {},
     "output_type": "execute_result"
    }
   ],
   "source": [
    "prob_cond(B,C)"
   ]
  },
  {
   "cell_type": "markdown",
   "id": "321999d2-1240-4d83-a25d-5486dadd367e",
   "metadata": {},
   "source": [
    "### 1.1.4. Independencia de eventos.\n",
    "\n",
    "Decimos que dos eventos $A$ y $B$ son independientes si\n",
    "$$ \\mathbb{P}(A\\cap B) = \\mathbb{P}(A)\\mathbb{P}(B)$$\n",
    "o de manera equivalente\n",
    "$$ \\mathbb{P}(A | B ) = \\mathbb{P}(A) $$"
   ]
  },
  {
   "cell_type": "code",
   "execution_count": 55,
   "id": "a439aef1-1c1e-4a18-8a65-645d2af32b7c",
   "metadata": {},
   "outputs": [],
   "source": [
    "def indep(E,F):\n",
    "    return prob(E & F) == prob(E)*prob(F)"
   ]
  },
  {
   "cell_type": "code",
   "execution_count": 56,
   "id": "398d002b-edcf-4b6c-b4b7-34902307d7dc",
   "metadata": {},
   "outputs": [
    {
     "data": {
      "text/plain": [
       "False"
      ]
     },
     "execution_count": 56,
     "metadata": {},
     "output_type": "execute_result"
    }
   ],
   "source": [
    "indep(B,C)"
   ]
  },
  {
   "cell_type": "markdown",
   "id": "488c5d99-7e60-4507-a8b1-48d02450a527",
   "metadata": {},
   "source": [
    "Vamos a considerar el evento:\n",
    "* $D$ : en el segundo lanzamiento es sol"
   ]
  },
  {
   "cell_type": "code",
   "execution_count": 57,
   "id": "c26f72ee-1fad-448a-97b3-f8b925fe3ad8",
   "metadata": {},
   "outputs": [
    {
     "data": {
      "text/plain": [
       "{('A', 'S', 'A'), ('A', 'S', 'S'), ('S', 'S', 'A'), ('S', 'S', 'S')}"
      ]
     },
     "execution_count": 57,
     "metadata": {},
     "output_type": "execute_result"
    }
   ],
   "source": [
    "D = { om for om in Omega if om[1]==\"S\"}\n",
    "D"
   ]
  },
  {
   "cell_type": "code",
   "execution_count": 58,
   "id": "50e017ad-6a97-491d-8fc3-4c377d7f5989",
   "metadata": {},
   "outputs": [
    {
     "data": {
      "text/plain": [
       "0.5"
      ]
     },
     "execution_count": 58,
     "metadata": {},
     "output_type": "execute_result"
    }
   ],
   "source": [
    "prob(D)"
   ]
  },
  {
   "cell_type": "code",
   "execution_count": 59,
   "id": "9da32a5e-71e7-45b4-8a86-9ffdd6d263fe",
   "metadata": {},
   "outputs": [
    {
     "data": {
      "text/plain": [
       "0.5"
      ]
     },
     "execution_count": 59,
     "metadata": {},
     "output_type": "execute_result"
    }
   ],
   "source": [
    "prob_cond(B,D)"
   ]
  },
  {
   "cell_type": "code",
   "execution_count": 60,
   "id": "d69d210c-03d6-4867-a2f4-2247918cbd73",
   "metadata": {},
   "outputs": [
    {
     "data": {
      "text/plain": [
       "True"
      ]
     },
     "execution_count": 60,
     "metadata": {},
     "output_type": "execute_result"
    }
   ],
   "source": [
    "indep(B,D)"
   ]
  },
  {
   "cell_type": "markdown",
   "id": "c85c6aff-8d6c-4760-9909-0c0fcd6934e6",
   "metadata": {},
   "source": [
    "Quiero verificar si $B$, $C$ y $D$ son independientes:"
   ]
  },
  {
   "cell_type": "code",
   "execution_count": 61,
   "id": "03020d6f-ad97-432c-8975-911fefef4c05",
   "metadata": {},
   "outputs": [
    {
     "data": {
      "text/plain": [
       "True"
      ]
     },
     "execution_count": 61,
     "metadata": {},
     "output_type": "execute_result"
    }
   ],
   "source": [
    "indep(B,D)"
   ]
  },
  {
   "cell_type": "code",
   "execution_count": 62,
   "id": "013436b5-072f-4a78-8cbc-61752f59b3d2",
   "metadata": {},
   "outputs": [
    {
     "data": {
      "text/plain": [
       "False"
      ]
     },
     "execution_count": 62,
     "metadata": {},
     "output_type": "execute_result"
    }
   ],
   "source": [
    "indep(C,D)"
   ]
  },
  {
   "cell_type": "code",
   "execution_count": 63,
   "id": "21bf8c15-0a5f-4247-8cdf-deabe37a14ee",
   "metadata": {},
   "outputs": [
    {
     "data": {
      "text/plain": [
       "False"
      ]
     },
     "execution_count": 63,
     "metadata": {},
     "output_type": "execute_result"
    }
   ],
   "source": [
    "indep(B,C)"
   ]
  },
  {
   "cell_type": "markdown",
   "id": "205592f8-2b4f-491b-88b2-5adbc60161ce",
   "metadata": {},
   "source": [
    "Por lo tanto, los eventos no son independientes. "
   ]
  },
  {
   "cell_type": "markdown",
   "id": "69cce7d3-ef09-46d6-b354-b8885595de20",
   "metadata": {},
   "source": [
    "<font color=\"blue\">**EJEMPLO:**</font> Sea el experimento aleatorio de lanzar un dado dos veces. Sabemos que el espacio muestral es el siguiente:\n",
    "$$ \\Omega = \\{ (i,j) | i,j \\in \\{1,2,3,4,5,6 \\} \\} = \\{1,2,3,4,5,6 \\} \\times \\{1,2,3,4,5,6 \\} = \\{1,2,3,4,5,6 \\}^2$$ \n",
    "y además $\\#\\Omega = 6^2 = 36$"
   ]
  },
  {
   "cell_type": "code",
   "execution_count": 64,
   "id": "41f83244-1aef-4cba-9be7-b204a7ede715",
   "metadata": {},
   "outputs": [
    {
     "data": {
      "text/plain": [
       "{(1, 1),\n",
       " (1, 2),\n",
       " (1, 3),\n",
       " (1, 4),\n",
       " (1, 5),\n",
       " (1, 6),\n",
       " (2, 1),\n",
       " (2, 2),\n",
       " (2, 3),\n",
       " (2, 4),\n",
       " (2, 5),\n",
       " (2, 6),\n",
       " (3, 1),\n",
       " (3, 2),\n",
       " (3, 3),\n",
       " (3, 4),\n",
       " (3, 5),\n",
       " (3, 6),\n",
       " (4, 1),\n",
       " (4, 2),\n",
       " (4, 3),\n",
       " (4, 4),\n",
       " (4, 5),\n",
       " (4, 6),\n",
       " (5, 1),\n",
       " (5, 2),\n",
       " (5, 3),\n",
       " (5, 4),\n",
       " (5, 5),\n",
       " (5, 6),\n",
       " (6, 1),\n",
       " (6, 2),\n",
       " (6, 3),\n",
       " (6, 4),\n",
       " (6, 5),\n",
       " (6, 6)}"
      ]
     },
     "execution_count": 64,
     "metadata": {},
     "output_type": "execute_result"
    }
   ],
   "source": [
    "Omega_dado =  set( product([1,2,3,4,5,6],repeat=2 )) \n",
    "Omega_dado"
   ]
  },
  {
   "cell_type": "code",
   "execution_count": 65,
   "id": "0ad2cba2-e62a-48c5-94fe-112f926e6f85",
   "metadata": {},
   "outputs": [
    {
     "data": {
      "text/plain": [
       "36"
      ]
     },
     "execution_count": 65,
     "metadata": {},
     "output_type": "execute_result"
    }
   ],
   "source": [
    "cardOm = len(Omega_dado)\n",
    "cardOm"
   ]
  },
  {
   "cell_type": "markdown",
   "id": "9e72c8ce-3e44-4146-a0be-a2cb4e505579",
   "metadata": {},
   "source": [
    "### 1.1.5. Evento como un subconjunto del espacio muestral.\n",
    "Definimos el evento:\n",
    "* $S_n$: la suma de los dados en $n$\n",
    "y escrito como conjunto es\n",
    "$$ S_n = \\{ (i,j)\\in\\Omega \\mid i+j = n \\}$$"
   ]
  },
  {
   "cell_type": "code",
   "execution_count": 66,
   "id": "3607a369-ec97-43a5-9b7f-72415a7e47aa",
   "metadata": {},
   "outputs": [],
   "source": [
    "def S(n): \n",
    "    Sn = { (i,j) for i in range(1,7) for j in range(1,7) if i+j == n }\n",
    "    return Sn"
   ]
  },
  {
   "cell_type": "code",
   "execution_count": 67,
   "id": "a1ad6e57-5e4c-4b2e-9084-7afa58e4398b",
   "metadata": {},
   "outputs": [
    {
     "data": {
      "text/plain": [
       "{(3, 6), (4, 5), (5, 4), (6, 3)}"
      ]
     },
     "execution_count": 67,
     "metadata": {},
     "output_type": "execute_result"
    }
   ],
   "source": [
    "S_nueve = S(9)\n",
    "S_nueve"
   ]
  },
  {
   "cell_type": "code",
   "execution_count": 68,
   "id": "e23ef7c9-ee65-48ed-bc85-37a6139ae847",
   "metadata": {},
   "outputs": [
    {
     "data": {
      "text/plain": [
       "0.1111111111111111"
      ]
     },
     "execution_count": 68,
     "metadata": {},
     "output_type": "execute_result"
    }
   ],
   "source": [
    "len(S_nueve) / cardOm"
   ]
  },
  {
   "cell_type": "markdown",
   "id": "f20903ed-94d1-4e6a-81bc-a778f3cfee20",
   "metadata": {},
   "source": [
    "$$ \\mathbb{P}(S(9)) = 4/36 $$"
   ]
  },
  {
   "cell_type": "markdown",
   "id": "152748f9-0067-49c6-a7c9-d8cf80acd09a",
   "metadata": {},
   "source": [
    "<font color=\"red\">Ejercicio.</font>\n",
    "Se tienen $2$ urnas, cada una de las cuales contiene $10$ bolas numeradas del $1$ al $10$.\n",
    "\n",
    "Un experimento aleatorio consiste en seleccionar al azar una bola de cada urna.\n",
    "\n",
    "Sea $X$ la variable aleatoria que representa la diferencia de los números de las dos bolas seleccionadas.\n",
    "\n",
    "* Define $\\Omega$\n",
    "* Calcula las probabilidades asociadas\n",
    "* Define la función de densidad\n",
    "* Verifica que $\\sum_{x\\in R_X}f_X(x) = 1$\n",
    "* Gráfica la función de densidad\n",
    "\n",
    "Además, calcula la probabilidad de que los números de las dos bolas seleccionadas difieran por $2$ o más."
   ]
  },
  {
   "cell_type": "code",
   "execution_count": 24,
   "id": "88b0d608-b659-4f49-9bbd-c053e70920dc",
   "metadata": {},
   "outputs": [
    {
     "name": "stdout",
     "output_type": "stream",
     "text": [
      "Cardinalidad de Ω: 100\n",
      "Función de densidad: {5: 0.1, 4: 0.12, 1: 0.18, 0: 0.1, 6: 0.08, 3: 0.14, 2: 0.16, 8: 0.04, 7: 0.06, 9: 0.02}\n",
      "Suma de las probabilidades: 1.0\n"
     ]
    },
    {
     "data": {
      "image/png": "[encoded data removed]",
      "text/plain": [
       "<Figure size 640x480 with 1 Axes>"
      ]
     },
     "metadata": {},
     "output_type": "display_data"
    }
   ],
   "source": [
    "# Importamos las librerías necesarias\n",
    "from itertools import product\n",
    "from collections import defaultdict\n",
    "from fractions import Fraction\n",
    "import pandas as pd\n",
    "import matplotlib.pyplot as plt\n",
    "\n",
    "# -------------------- 1. Definir el espacio muestral (Ω) --------------------\n",
    "Omega = set(product(range(1, 11), repeat=2))  # Todas las combinaciones (i, j) con i, j ∈ {1, ..., 10}\n",
    "card_Omega = len(Omega)  # Tamaño del espacio muestral\n",
    "\n",
    "print(f\"Cardinalidad de Ω: {card_Omega}\")\n",
    "\n",
    "# -------------------- 2. Definir la variable aleatoria X = |i - j| --------------------\n",
    "X = {(i, j): abs(i - j) for i, j in Omega}  # Diccionario donde cada par (i, j) se asocia con |i - j|\n",
    "\n",
    "# Agrupamos por valores de X\n",
    "dX = defaultdict(set)\n",
    "for (i, j), x in X.items():\n",
    "    dX[x].add((i, j))\n",
    "\n",
    "# -------------------- 3. Calcular las probabilidades asociadas --------------------\n",
    "def P(A):\n",
    "    return Fraction(len(A), card_Omega)  # Probabilidad como fracción\n",
    "\n",
    "# Función de densidad fX(x)\n",
    "fX = {x: P(A) for x, A in dX.items()}\n",
    "fX_decimal = {x: float(p) for x, p in fX.items()}  # Convertimos a decimal\n",
    "\n",
    "print(f\"Función de densidad: {fX_decimal}\")\n",
    "\n",
    "# -------------------- 4. Verificar que ∑ fX(x) = 1 --------------------\n",
    "suma_prob = sum(fX_decimal.values())\n",
    "print(f\"Suma de las probabilidades: {suma_prob}\")\n",
    "\n",
    "# -------------------- 5. Graficar la función de densidad --------------------\n",
    "df_fX = pd.DataFrame(list(fX_decimal.items()), columns=['x', 'fX(x)']).sort_values(by='x')\n",
    "\n",
    "plt.bar(df_fX['x'], df_fX['fX(x)'], color='skyblue', edgecolor='black')\n",
    "plt.xlabel(\"Diferencia |i - j|\")\n",
    "plt.ylabel(\"Probabilidad fX(x)\")\n",
    "plt.title(\"Función de Densidad de X\")\n",
    "plt.xticks(range(10))  # Posibles valores de X\n",
    "plt.grid(axis=\"y\", linestyle=\"--\", alpha=0.7)\n",
    "plt.show()"
   ]
  },
  {
   "cell_type": "code",
   "execution_count": 25,
   "id": "820c35d4-b20c-4765-828b-2ceb02ffc44e",
   "metadata": {},
   "outputs": [
    {
     "name": "stdout",
     "output_type": "stream",
     "text": [
      "P(X ≥ 2) = 0.72\n"
     ]
    }
   ],
   "source": [
    "# -------------------- 6. Calcular P(X ≥ 2) --------------------\n",
    "P_X_mayor_igual_2 = sum(fX_decimal[x] for x in range(2, 10))\n",
    "print(f\"P(X ≥ 2) = {P_X_mayor_igual_2}\")"
   ]
  },
  {
   "cell_type": "markdown",
   "id": "5c367888-8330-4671-9bd2-06029d676dd8",
   "metadata": {},
   "source": [
    "## 1.2. Probabilidad Geométrica.\n",
    "\n",
    "La **probabilidad geométrica** se utiliza cuando el espacio muestral no es discreto, sino continuo, y los posibles resultados de un experimento se pueden asociar con puntos en un intervalo, área, volumen u otra medida geométrica.\n",
    "\n",
    "En este enfoque, si el experimento aleatorio produce un resultado que puede ubicarse aleatoriamente dentro de una región $R$ (como un intervalo en la recta real, una figura en el plano o un cuerpo en el espacio), y si un evento $A$ corresponde a una subregión de $R$, entonces la probabilidad de que ocurra el evento $A$ se define como:\n",
    "\n",
    "$$\n",
    "P(A) = \\frac{\\text{Medida}(A)}{\\text{Medida}(R)},\n",
    "$$\n",
    "\n",
    "donde:\n",
    "\n",
    "- $\\text{Medida}(A)$ es la longitud, área o volumen (según el caso) de la región asociada al evento $A$,\n",
    "- $\\text{Medida}(R)$ es la medida total del espacio muestral continuo $R$.\n",
    "\n",
    "**Supuestos clave:**\n",
    "\n",
    "- El resultado del experimento se distribuye de manera **uniforme** sobre la región $R$,\n",
    "- Las medidas deben ser **positivas y finitas**."
   ]
  },
  {
   "cell_type": "markdown",
   "id": "24c0d469-3c03-4ca9-bf65-b99215f22783",
   "metadata": {},
   "source": [
    "<font color=\"blue\">**EJEMPLO:**</font> Supongamos que se selecciona un punto al azar en el intervalo $[0, 5]$. Sea $A$ el evento de que el punto caiga en el subintervalo $[2, 3]$. Entonces:\n",
    "\n",
    "$$\n",
    "P(A) = \\frac{\\text{longitud de } [2, 3]}{\\text{longitud de } [0, 5]} = \\frac{1}{5}.\n",
    "$$\n",
    "\n",
    "Este tipo de probabilidad es especialmente útil en problemas físicos, modelos continuos y situaciones donde el azar se relaciona con posiciones o ubicaciones en un espacio."
   ]
  },
  {
   "cell_type": "code",
   "execution_count": 39,
   "id": "a363a4e9-7067-4b8f-90db-e7e94a72f704",
   "metadata": {},
   "outputs": [
    {
     "data": {
      "image/png": "[encoded data removed]",
      "text/plain": [
       "<Figure size 1000x200 with 1 Axes>"
      ]
     },
     "metadata": {},
     "output_type": "display_data"
    }
   ],
   "source": [
    "import matplotlib.pyplot as plt\n",
    "import numpy as np\n",
    "\n",
    "# Crear el intervalo total\n",
    "x_total = np.linspace(0, 5, 1000)\n",
    "y_total = np.ones_like(x_total)\n",
    "\n",
    "# Crear el subintervalo A = [2, 3]\n",
    "x_A = np.linspace(2, 3, 1000)\n",
    "y_A = np.ones_like(x_A)\n",
    "\n",
    "# Crear la figura\n",
    "plt.figure(figsize=(10, 2))\n",
    "plt.plot(x_total, y_total, color='lightgray', linewidth=15, label='Espacio muestral [0, 5]')\n",
    "plt.plot(x_A, y_A, color='skyblue', linewidth=15, label='Evento A: [2, 3]')\n",
    "\n",
    "# Anotar los extremos\n",
    "plt.text(0, 1.05, '0', fontsize=12)\n",
    "plt.text(5, 1.05, '5', fontsize=12)\n",
    "plt.text(2, 1.15, '2', fontsize=12, ha='center')\n",
    "plt.text(3, 1.15, '3', fontsize=12, ha='center')\n",
    "\n",
    "# Etiquetas y leyenda\n",
    "plt.title('Probabilidad Geométrica: $P(A) = \\\\frac{\\\\text{longitud de } A}{\\\\text{longitud total}} = \\\\frac{1}{5}$')\n",
    "plt.yticks([])\n",
    "plt.ylim(0.8, 1.4)\n",
    "plt.xlabel('Intervalo [0, 5]')\n",
    "plt.legend(loc='upper right')\n",
    "plt.grid(False)\n",
    "plt.show()\n"
   ]
  },
  {
   "cell_type": "markdown",
   "id": "41289c4b-8ea8-4fb9-bb41-d7c25840b5a7",
   "metadata": {},
   "source": [
    "#### <font color=\"red\">El problema del encuentro.</font>"
   ]
  },
  {
   "cell_type": "markdown",
   "id": "c9ffea58-b0f8-4ad3-9f29-6d0c3dc33a01",
   "metadata": {},
   "source": [
    "Romeo y Julieta pretenden encontrarse en un lugar específico entree $[0,60]$.\n",
    "\n",
    "- Si Romeo llega primero, entonces piensa esperar 10 minutos\n",
    "- Si Julieta llega primero, entonces piensa esperar 10 minutos\n",
    "\n",
    "Se elige un número al azar entre $0$ y $60$, y supongamos que el par de números se eñige sobre el cuadrado $60^2$, de modo que la probabilidad de un evento, sea el área favorable entre el área total.\n",
    "\n",
    "Sea el evento \n",
    "- $A$: Romeo y Julieta se encuentran a una distancia de $10$ minutos. "
   ]
  },
  {
   "cell_type": "code",
   "execution_count": 42,
   "id": "47cbe8cc-6054-4063-8add-20ad8289fa30",
   "metadata": {},
   "outputs": [
    {
     "name": "stdout",
     "output_type": "stream",
     "text": [
      "La probabilidad del evento A es: 0.305231.\n"
     ]
    },
    {
     "data": {
      "image/png": "[encoded data removed]",
      "text/plain": [
       "<Figure size 640x480 with 1 Axes>"
      ]
     },
     "metadata": {},
     "output_type": "display_data"
    }
   ],
   "source": [
    "# Vamos a generar 100,000 simulaciones\n",
    "muestra = 1000000\n",
    "\n",
    "# Generamos los tiempos aleatorios entre [0,60]\n",
    "# x : tiempo de llegada de Romero [0,60]\n",
    "# y : tiempo de llegada de Romero [0,60]\n",
    "\n",
    "x,y = np.random.uniform(0,60,muestra), np.random.uniform(0,60,muestra)\n",
    "\n",
    "# Vamos a añadir nuestra condición de encuentro \n",
    "encuentro = np.where(abs(x-y)<=10, 'r', 'b') # r si se encuentran y b si no se encuentran\n",
    "\n",
    "# Calculo de la probabilidad del encuentro\n",
    "k=0\n",
    "for elemento in encuentro:\n",
    "    if elemento == 'r':\n",
    "        k += 1\n",
    "\n",
    "print(\"La probabilidad del evento A es: {}.\".format(k/muestra))\n",
    "\n",
    "plt.scatter(x,y,c=encuentro,s=1)\n",
    "plt.show()"
   ]
  },
  {
   "cell_type": "markdown",
   "id": "32d272c6-6d53-4d9e-9a7a-542761c6cefd",
   "metadata": {},
   "source": [
    "## 1.3. Probabilidad Frecuentista.\n",
    "\n",
    "En el enfoque **frecuentista** de la probabilidad, se parte de la hipótesis de que el espacio muestral $ \\Omega $ es un conjunto finito, y que un experimento aleatorio puede repetirse un número suficientemente grande de veces bajo condiciones idénticas. En este contexto, la probabilidad de un evento $ A \\subseteq \\Omega $ se define como el *límite de su frecuencia relativa* de ocurrencia cuando el número de repeticiones del experimento tiende a infinito.\n",
    "\n",
    "Para un número finito de repeticiones $ n $, la *frecuencia relativa* de un evento $ A $ se denota como:\n",
    "\n",
    "$$\n",
    "f_n(A) = \\frac{n(A)}{n},\n",
    "$$\n",
    "\n",
    "donde:\n",
    "\n",
    "- $n(A)$ es el número de veces que ocurre el evento $A$ en $n$ repeticiones del experimento,\n",
    "- $n$ es el número total de veces que se ha realizado el experimento.\n",
    "\n",
    "La **probabilidad frecuentista** de $A$ se define entonces como:\n",
    "\n",
    "$$\n",
    "P(A) = \\lim_{n \\to \\infty} f_n(A) = \\lim_{n \\to \\infty} \\frac{n(A)}{n}.\n",
    "$$\n",
    "\n",
    "Bajo este enfoque, la probabilidad no es una propiedad asignada *a priori* a un evento, sino una característica que se manifiesta como una proporción estable en el largo plazo. Es decir, *la probabilidad de un evento es su frecuencia relativa en una secuencia infinita de repeticiones independientes del mismo experimento*.\n",
    "\n",
    "Este concepto es fundamental en la estadística clásica y en el análisis empírico, donde las probabilidades se estiman a partir de datos observados.\n"
   ]
  },
  {
   "cell_type": "markdown",
   "id": "69b1ca10-d6ac-49f0-9283-9e057f35f244",
   "metadata": {},
   "source": [
    "<font color=\"blue\">**EJEMPLO:**</font> Se tiene el lanzamiento de monedas injustas (volados)"
   ]
  },
  {
   "cell_type": "code",
   "execution_count": 30,
   "id": "3b1595a8-57b3-4cd1-b148-a30f1a8cb606",
   "metadata": {},
   "outputs": [],
   "source": [
    "import random "
   ]
  },
  {
   "cell_type": "code",
   "execution_count": 31,
   "id": "5b12b378-603f-4ced-bceb-d8aea3bf15c9",
   "metadata": {},
   "outputs": [],
   "source": [
    "def volado(p):\n",
    "    return 'sol' if random.random() < p else 'aguila'"
   ]
  },
  {
   "cell_type": "code",
   "execution_count": 32,
   "id": "74a56083-51ab-4695-a7f3-823a395df616",
   "metadata": {},
   "outputs": [
    {
     "data": {
      "text/plain": [
       "'sol'"
      ]
     },
     "execution_count": 32,
     "metadata": {},
     "output_type": "execute_result"
    }
   ],
   "source": [
    "volado(0.4)"
   ]
  },
  {
   "cell_type": "code",
   "execution_count": 33,
   "id": "3cd4d98a-088c-4b72-806f-7fc5cf596421",
   "metadata": {},
   "outputs": [
    {
     "data": {
      "text/plain": [
       "['aguila',\n",
       " 'aguila',\n",
       " 'aguila',\n",
       " 'aguila',\n",
       " 'sol',\n",
       " 'aguila',\n",
       " 'aguila',\n",
       " 'sol',\n",
       " 'sol',\n",
       " 'aguila']"
      ]
     },
     "execution_count": 33,
     "metadata": {},
     "output_type": "execute_result"
    }
   ],
   "source": [
    "a = [volado(0.4) for i in range(10)]\n",
    "a"
   ]
  },
  {
   "cell_type": "code",
   "execution_count": 34,
   "id": "4c0f8068-7cc0-4255-a1cc-9b2249d56913",
   "metadata": {},
   "outputs": [
    {
     "data": {
      "text/plain": [
       "3"
      ]
     },
     "execution_count": 34,
     "metadata": {},
     "output_type": "execute_result"
    }
   ],
   "source": [
    "a.count(\"sol\")"
   ]
  },
  {
   "cell_type": "code",
   "execution_count": 35,
   "id": "43e761d7-862f-4027-bf28-7dcbf5339f26",
   "metadata": {},
   "outputs": [],
   "source": [
    "resultados = [] # lista vacia"
   ]
  },
  {
   "cell_type": "code",
   "execution_count": 36,
   "id": "b9ad8dfa-c35c-4f0f-85d9-1085b4492947",
   "metadata": {},
   "outputs": [
    {
     "data": {
      "text/plain": [
       "['aguila',\n",
       " 'sol',\n",
       " 'sol',\n",
       " 'sol',\n",
       " 'sol',\n",
       " 'aguila',\n",
       " 'aguila',\n",
       " 'sol',\n",
       " 'sol',\n",
       " 'aguila']"
      ]
     },
     "execution_count": 36,
     "metadata": {},
     "output_type": "execute_result"
    }
   ],
   "source": [
    "for i in range(10):\n",
    "    resultado = volado(0.4)\n",
    "    resultados.append(resultado)\n",
    "resultados"
   ]
  },
  {
   "cell_type": "code",
   "execution_count": 37,
   "id": "5897f30b-5bbd-491b-ae7d-a9f6f072efea",
   "metadata": {},
   "outputs": [
    {
     "name": "stdout",
     "output_type": "stream",
     "text": [
      "Probabiliad 0.630\n"
     ]
    }
   ],
   "source": [
    "# Vamos a simular nuestra probabilidad frecuentista\n",
    "p = [] #Lista para almacernar las probabilidades\n",
    "\n",
    "for i in range(1000): #Simula 1000 experimentos\n",
    "    N = 1000 # numero de lanzamientos \n",
    "    resultados = []\n",
    "\n",
    "    for i in range(N):\n",
    "        resultado = volado(0.63)\n",
    "        resultados.append(resultado)\n",
    "\n",
    "    n_soles = resultados.count(\"sol\") # cuenta en número de soles\n",
    "    p_soles = n_soles / N #calcula la proporción\n",
    "\n",
    "    p.append(p_soles)\n",
    "\n",
    "# Probabilidad promedio\n",
    "p_soles_prom = sum(p) / 1000 \n",
    "\n",
    "print(\"Probabiliad {:.3f}\".format(p_soles_prom))   "
   ]
  },
  {
   "cell_type": "code",
   "execution_count": 38,
   "id": "b0895845-b9b7-46d2-b936-db712f608445",
   "metadata": {},
   "outputs": [
    {
     "data": {
      "image/png": "[encoded data removed]",
      "text/plain": [
       "<Figure size 1000x500 with 1 Axes>"
      ]
     },
     "metadata": {},
     "output_type": "display_data"
    }
   ],
   "source": [
    "import matplotlib.pyplot as plt\n",
    "\n",
    "# Asegúrate de tener la lista `p` ya generada\n",
    "plt.figure(figsize=(10,5))\n",
    "plt.hist(p, bins=30, color='skyblue', edgecolor='black', alpha=0.7)\n",
    "\n",
    "# Línea de la probabilidad real\n",
    "plt.axvline(0.63, color='red', linestyle='--', linewidth=2, label='Probabilidad real (0.63)')\n",
    "\n",
    "# Línea de la probabilidad promedio simulada\n",
    "plt.axvline(p_soles_prom, color='green', linestyle='-', linewidth=2, label=f'Promedio simulado ({p_soles_prom:.3f})')\n",
    "\n",
    "plt.title(\"Distribución de la probabilidad frecuentista estimada\")\n",
    "plt.xlabel(\"Probabilidad estimada de 'sol'\")\n",
    "plt.ylabel(\"Frecuencia\")\n",
    "plt.legend()\n",
    "plt.grid(True)\n",
    "plt.show()\n"
   ]
  },
  {
   "cell_type": "code",
   "execution_count": null,
   "id": "80b32527-d270-4106-b562-2933797e23a2",
   "metadata": {},
   "outputs": [],
   "source": []
  }
 ],
 "metadata": {
  "kernelspec": {
   "display_name": "Python 3 (ipykernel)",
   "language": "python",
   "name": "python3"
  },
  "language_info": {
   "codemirror_mode": {
    "name": "ipython",
    "version": 3
   },
   "file_extension": ".py",
   "mimetype": "text/x-python",
   "name": "python",
   "nbconvert_exporter": "python",
   "pygments_lexer": "ipython3",
   "version": "3.11.0"
  }
 },
 "nbformat": 4,
 "nbformat_minor": 5
}
