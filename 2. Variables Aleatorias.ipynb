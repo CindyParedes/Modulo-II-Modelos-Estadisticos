{
 "cells": [
  {
   "cell_type": "markdown",
   "id": "45cf0d3f-ad07-4b08-a747-17350fc648e1",
   "metadata": {},
   "source": [
    "# 2. VARIABLES ALEATORIAS."
   ]
  },
  {
   "cell_type": "markdown",
   "id": "1243f50a-471b-47e0-8b2c-0c29f79edf7a",
   "metadata": {
    "jp-MarkdownHeadingCollapsed": true
   },
   "source": [
    "Una **variable aleatoria** es una función que asigna un número real a cada resultado posible de un experimento aleatorio. Si $\\Omega$ es el espacio muestral, entonces una variable aleatoria $X$ es una función:\n",
    "\n",
    "$$\n",
    "X: \\Omega \\rightarrow \\mathbb{R}\n",
    "$$\n",
    "\n",
    "donde a cada $\\omega \\in \\Omega$ se le asocia un valor numérico $X(\\omega)$. Esta función permite representar cuantitativamente los resultados de un fenómeno aleatorio, haciendo posible su análisis mediante herramientas matemáticas.\n",
    "\n",
    "**Definición:** Sea $(\\Omega, \\mathcal{F}, P)$ un espacio de probabilidad, donde:\n",
    "- $\\Omega$ es el espacio muestral,\n",
    "- $\\mathcal{F}$ es una σ-álgebra de subconjuntos de $\\Omega$ (eventos),\n",
    "- $P$ es una medida de probabilidad definida sobre $\\mathcal{F}$.\n",
    "\n",
    "Una función $X: \\Omega \\to \\mathbb{R}$ es una **variable aleatoria** si es *medible*, es decir, si para todo conjunto boreliano $B \\subseteq \\mathbb{R}$, el conjunto:\n",
    "\n",
    "$$\n",
    "\\{ \\omega \\in \\Omega : X(\\omega) \\in B \\}\n",
    "$$\n",
    "\n",
    "pertenece a $\\mathcal{F}$. Esta propiedad garantiza que se puede calcular la probabilidad de eventos definidos en términos de la variable aleatoria.\n",
    "\n",
    "\n",
    "**Interpretación:**\n",
    "- Aunque el experimento es aleatorio, la variable aleatoria es una función determinista que actúa sobre un resultado incierto.\n",
    "- Es la herramienta que nos permite modelar y analizar fenómenos aleatorios de forma cuantitativa.\n",
    "- Puede representar resultados tanto cualitativos como cuantitativos, transformándolos en valores numéricos.\n",
    "\n",
    "---\n",
    "\n",
    "**Fuente:**\n",
    "- *Mood, Graybill y Boes*: La variable aleatoria es “una función que asocia un número real a cada resultado del espacio muestral”.\n",
    "- *Sheldon Ross*: Destaca que la variable aleatoria no es aleatoria, sino una función definida sobre resultados aleatorios.\n",
    "- *Luis Rincón*: Señala que permite estudiar el azar desde una perspectiva matemática y operativa.\n",
    "\n"
   ]
  },
  {
   "cell_type": "markdown",
   "id": "1f866245-8e4a-4633-8f73-1f4da51c013c",
   "metadata": {},
   "source": [
    "## 2.1. Variables aleatorias discretas."
   ]
  },
  {
   "cell_type": "markdown",
   "id": "46735a26-021b-4f17-bbc7-43e2822a8c39",
   "metadata": {
    "id": "8d5a083a-ca70-4135-91be-f0a6288a52b5"
   },
   "source": [
    "Una **variable aleatoria discreta** es una variable aleatoria cuya imagen es un conjunto *finito o infinitamente numerable* de números reales.\n",
    "\n",
    "**Definición:** Una variable aleatoria $X$ es discreta si existe un conjunto numerable $\\{x_1, x_2, x_3, \\dots\\} \\subset \\mathbb{R}$ tal que:\n",
    "\n",
    "$$\n",
    "P(X = x_i) \\geq 0 \\quad \\text{para todo } i, \\quad \\text{y} \\quad \\sum_{i=1}^{\\infty} P(X = x_i) = 1\n",
    "$$\n",
    "\n",
    "La función que asigna a cada valor $x_i$ su probabilidad se llama función de masa de probabilidad *(f.m.p)*:\n",
    "\n",
    "$$\n",
    "f(x_i) = P(X = x_i)\n",
    "$$\n",
    "\n",
    "donde $f(x)$ satisface:\n",
    "\n",
    "- $f(x) \\geq 0$ para todo $x$ en el rango de $X$,\n",
    "- $\\sum_x f(x) = 1$."
   ]
  },
  {
   "cell_type": "markdown",
   "id": "2b208686-f840-4c8c-bd11-4ed935284c7f",
   "metadata": {},
   "source": [
    "<font color=\"blue\">**EJEMPLO:**</font> Sea $X$ la variable aleatoria que representa el número de caras al lanzar dos monedas. Entonces:\n",
    "\n",
    "- El espacio muestral es $\\Omega = \\{\\text{CC}, \\text{CS}, \\text{SC}, \\text{SS}\\}$\n",
    "- Los posibles valores de $X$ son $\\{0, 1, 2\\}$\n",
    "- $X$ es discreta, y su función de masa de probabilidad es:\n",
    "\n",
    "$$\n",
    "P(X = 0) = \\frac{1}{4}, \\quad P(X = 1) = \\frac{1}{2}, \\quad P(X = 2) = \\frac{1}{4}\n",
    "$$"
   ]
  },
  {
   "cell_type": "code",
   "execution_count": null,
   "id": "78aa98d3-8d3c-48b6-8e06-9b94d3d8ea49",
   "metadata": {
    "id": "78aa98d3-8d3c-48b6-8e06-9b94d3d8ea49"
   },
   "outputs": [],
   "source": [
    "import numpy as np # Importamos Numpy\n",
    "import numpy.random as npr # para generar numeros aleatorios\n",
    "\n",
    "import scipy.stats as sps # Importamos el modulo SciPy\n",
    "from scipy.stats import randint # para trabajar una uniforme discreta en un rango de enteros\n",
    "\n",
    "import matplotlib.pyplot as plt #Visualizar datos\n",
    "\n",
    "import random # para generar numeros aleatorios\n"
   ]
  },
  {
   "cell_type": "markdown",
   "id": "aa802341-6ce9-4a19-8250-c7530f75007b",
   "metadata": {},
   "source": [
    "### 2.1.1. Variable aleatoria uniforme discreta"
   ]
  },
  {
   "cell_type": "markdown",
   "id": "b7969eed-408e-424a-b734-5db0203eb4fe",
   "metadata": {
    "id": "b7969eed-408e-424a-b734-5db0203eb4fe",
    "jp-MarkdownHeadingCollapsed": true
   },
   "source": [
    "**Definición:** Una variable aleatoria $X$ tiene distribución uniforme discreta en el conjunto $\\{x_1,...,x_n\\}$ si su función de densidad está dada por\n",
    "$$ f_X(x) = \\mathbb{P}(X=x) = \\begin{cases} \\frac{1}{n}, \\quad \\text{si } x\\in \\{x_1,...,x_n\\} \\\\\n",
    "0, \\quad \\text{e.o.c} \\end{cases}$$\n",
    "\n",
    "Se llama uniforme porque cada uno de sus posibles resultados de $X$ tienene la misma probabilidad.\n",
    "\n",
    "**Notación:** $X\\sim Unif(x_1,...,x_n)$\n",
    "\n",
    "La esperanza y varianza de $X$, están dadas por:\n",
    "\n",
    "$$ \\mathbb{E}[X] = \\sum_{x} xf_X(x) = \\frac{x_n + x_1}{2} $$\n",
    "y\n",
    "$$ \\text{Var}(X) = \\mathbb{E}\\left[ (X-\\mathbb{E}[X])^2\\right] = \\frac{(x_n - x_1 + 1)^2 -1}{12}$$"
   ]
  },
  {
   "cell_type": "markdown",
   "id": "5b298581-1587-45e3-8294-f764950e69ec",
   "metadata": {
    "id": "5b298581-1587-45e3-8294-f764950e69ec"
   },
   "source": [
    "La función de distribución de una v.a. uniforme es:\n",
    "$$ F_X(x) = \\mathbb{P}(X\\le x) = \\begin{cases} 0, \\quad \\text{si } x < x_1 \\\\ \\frac{x}{n}, \\quad \\text{si } x\\in \\{x_1,...,x_n\\} \\\\\n",
    "1, \\quad \\text{si } x > x_n \\end{cases}$$"
   ]
  },
  {
   "cell_type": "markdown",
   "id": "c6219c03-0ede-4c2e-8715-85dfccc22726",
   "metadata": {
    "id": "c6219c03-0ede-4c2e-8715-85dfccc22726"
   },
   "source": [
    "<font color=\"blue\">**EJEMPLO:**</font> Se lleva a cabo una rifa donde los boletos están enumerados del $00$ al $99$. Si $Y$ es la variable aleatoria definida como el número del boleto ganador, entonces:  \n",
    "$$\\mathbb{P}(Y=k)=\\begin{cases}\n",
    "\t\\frac{1}{100} &\\quad \\text{si } k=00,01,\\dots,99 \\\\\n",
    "\t0 &\\quad \\text{en otro caso}\n",
    "\\end{cases}$$\n",
    "Consideremos que el premio de la rifa se determina a partir del número premiado de la siguiente forma: $X=Y+1$, donde $X$ es el monto del premio en pesos y $Y$ es el número premiado, entonces $X$ es una variable aleatoria, pues es una función de $Y$, y además se tiene\n",
    "\t$$f_{X}(k)=\\begin{cases}\n",
    "\t\t\\frac{1}{100} &\\quad \\text{si } x=1,2,\\dots,100 \\\\\n",
    "\t\t0 &\\quad \\text{en otro caso}\n",
    "\t\\end{cases}$$"
   ]
  },
  {
   "cell_type": "markdown",
   "id": "f126b773-705b-4040-adda-5b173007459b",
   "metadata": {},
   "source": [
    "$\\color{red}{\\text{Ejercicio.}}$ Calcular la esperanza y varianza.    \n",
    "Supongamos que nos interesa calcular la probabilidad de que el premio sea mayor a $\\$80$, entonces\n",
    "$$ \\mathbb{P}(X>80) = \\sum_{k=81}^{100} \\frac{1}{100} = \\frac{20}{100} = 0.2 $$"
   ]
  },
  {
   "cell_type": "markdown",
   "id": "b04b79e9-68e7-4921-806c-64263e57a84b",
   "metadata": {},
   "source": [
    "Supongamos que $X \\sim \\text{Uniforme}(1, 100)$.\n",
    "Entonces:\n",
    "\n",
    "$$\n",
    "\\mathbb{E}[X] = \\frac{1 + 100}{2} = \\frac{101}{2} = 50.5\n",
    "$$\n",
    "\n",
    "y\n",
    "\n",
    "$$\n",
    "\\text{Var}(X) = \\frac{(100 - 1 + 1)^2 - 1}{12} = \\frac{100^2 - 1}{12} = \\frac{9999}{12} = 833.25\n",
    "$$\n"
   ]
  },
  {
   "cell_type": "code",
   "execution_count": null,
   "id": "6f72c182-5eea-4f6b-990b-70d4c412eccc",
   "metadata": {},
   "outputs": [],
   "source": [
    "# Definir el rango de la distribución uniforme discreta [low, high)\n",
    "low = 1\n",
    "high = 101  # Para incluir el 100\n",
    "\n",
    "# Crear los valores posibles dentro del rango\n",
    "x = np.arange(low, high)  # x = [1, 2, ..., 100]\n",
    "\n",
    "# Calcular la función de masa de probabilidad (PMF)\n",
    "pmf = np.full_like(x, 1 / (high - low), dtype=float)  # Probabilidad uniforme\n",
    "\n",
    "# Graficar la PMF\n",
    "plt.figure(figsize=(12, 4))\n",
    "plt.bar(x, pmf, width=0.8, color='skyblue', edgecolor='black')\n",
    "plt.xlabel('Valores')\n",
    "plt.ylabel('Probabilidad')\n",
    "plt.title('Función de masa de probabilidad (Uniforme discreta: 1 a 100)')\n",
    "plt.grid(True, axis='y', linestyle='--', alpha=0.7)\n",
    "plt.show()\n",
    "\n",
    "# Calcular esperanza y varianza\n",
    "esperanza = np.mean(x)\n",
    "varianza = np.var(x)\n",
    "\n",
    "print(f\"Esperanza: {esperanza}\")\n",
    "print(f\"Varianza: {varianza}\")\n",
    "\n",
    "# Calcular P(X > 80)\n",
    "probabilidad_mayor_80 = np.sum(pmf[x > 80])\n",
    "print(f\"P(X > 80): {probabilidad_mayor_80}\")"
   ]
  },
  {
   "cell_type": "markdown",
   "id": "2cf733c3-e107-4f0d-9436-090ebbeaa049",
   "metadata": {
    "id": "2cf733c3-e107-4f0d-9436-090ebbeaa049"
   },
   "source": [
    "Para más información, ver [Matplotlib colores](https://matplotlib.org/stable/gallery/color/named_colors.html)"
   ]
  },
  {
   "cell_type": "markdown",
   "id": "33de95d1-b6ab-44da-8c2d-7884b6dee81b",
   "metadata": {
    "id": "33de95d1-b6ab-44da-8c2d-7884b6dee81b"
   },
   "source": [
    "#### Gráfica de la distribución Uniforme Discreta"
   ]
  },
  {
   "cell_type": "code",
   "execution_count": null,
   "id": "02f23090-b60f-4953-9daf-0535c3c14ed1",
   "metadata": {
    "id": "02f23090-b60f-4953-9daf-0535c3c14ed1",
    "outputId": "c88d5cb5-a758-430c-efc6-a2ae63553830"
   },
   "outputs": [],
   "source": [
    "# Definir el rango de la distribución uniforme discreta [low, high)\n",
    "low = 0 #límite inferior\n",
    "high = 10 #límite superior\n",
    "\n",
    "#Crear los valores posibles dentro del rango\n",
    "x = np.arange(low, high)\n",
    "\n",
    "#Calcular la función de masa de probabilidad\n",
    "pmf = np.full_like(x, 1/ (high-low) , dtype = float )\n",
    "\n",
    "#Para crear una figura más grande\n",
    "plt.figure(figsize=(10, 5))\n",
    "\n",
    "#Graficar pmf\n",
    "plt.bar(x, pmf, width=0.2, color='b', edgecolor='black')\n",
    "plt.xlabel('Valores')\n",
    "plt.ylabel('Probabilidad')\n",
    "plt.title('Función de densidad de una uniforme discreta')\n",
    "plt.grid(True)\n",
    "plt.show() #mostrar el gráfica\n"
   ]
  },
  {
   "cell_type": "markdown",
   "id": "87d58180-99cb-40b2-9f50-55cb8c3bed72",
   "metadata": {
    "id": "87d58180-99cb-40b2-9f50-55cb8c3bed72"
   },
   "source": [
    "### 2.1.2. Variable aleatoria Bernoulli con parámetro $p\\in (0,1)$"
   ]
  },
  {
   "cell_type": "markdown",
   "id": "0f4dc41f-51e7-4401-a0dd-688e92afbc22",
   "metadata": {
    "id": "0f4dc41f-51e7-4401-a0dd-688e92afbc22"
   },
   "source": [
    "**Definición:** Este modelo se aplica a un experiemento cuyo espacio muestral tiene dos resultados\n",
    "$$ \\Omega = \\{\\text{éxito} , \\text{fracaso}\\}$$\n",
    "y definimos\n",
    "- $X(\\{\\text{éxito}\\}) =1$\n",
    "- $X(\\{\\text{fracaso}\\}) =0$\n",
    "\n",
    "Las probabilidades asociadas a este modelo son\n",
    "- $\\mathbb{P}(\\{\\text{éxito}\\}) = p$\n",
    "- $\\mathbb{P}(\\{\\text{fracaso}\\}) = 1-p$\n",
    "donde $0<p<1$.\n",
    "\n",
    "La función de densidad, está definida de la siguiente manera\n",
    "$$ f_X(x) = \\mathbb{P}(X=x) = \\begin{cases} p^x(1-p)^{1-x}, \\quad \\text{si } x\\in \\{0,1\\} \\\\\n",
    "0, \\quad \\text{e.o.c} \\end{cases}$$\n",
    "\n",
    "**Notación:** $X\\sim Ber(p)$\n",
    "\n",
    "Mediante la combinación de v.a. Bernoulli es posible construir otras v.a.\n",
    "\n",
    "La esperanza y varianza de $X\\sim Ber(p)$, esá dada por:\n",
    "\n",
    "$$ \\mathbb{E}[X] =\\sum_{x=0}^{1} x f_{X}(x) = 0\\cdot (1-p) + 1 \\cdot p = p $$\n",
    "y\n",
    "$$ \\mathbb{E}[X^2] =\\sum_{x=0}^{1} x^2 f_{X}(x) = 0^2 \\cdot (1-p) + 1^2 \\cdot p = p $$\n",
    "entonces\n",
    "$$ \\text{Var}(X) = \\mathbb{E}[X^2] - (\\mathbb{E}[X])^2  = p - p^2 = p(1-p)$$"
   ]
  },
  {
   "cell_type": "markdown",
   "id": "99a3bb81-dd47-4da9-98cc-5ea4bac36835",
   "metadata": {
    "id": "99a3bb81-dd47-4da9-98cc-5ea4bac36835"
   },
   "source": [
    "Para más información, ver [Bernoulli](https://docs.scipy.org/doc/scipy/reference/generated/scipy.stats.bernoulli.html)"
   ]
  },
  {
   "cell_type": "markdown",
   "id": "327552ab-217d-4483-87f0-114049604993",
   "metadata": {
    "id": "327552ab-217d-4483-87f0-114049604993"
   },
   "source": [
    "#### Gráfica de la distribución Bernoulli"
   ]
  },
  {
   "cell_type": "code",
   "execution_count": null,
   "id": "98f093f0-1cfe-42f8-8c05-f599a3a5cf0d",
   "metadata": {
    "id": "98f093f0-1cfe-42f8-8c05-f599a3a5cf0d",
    "outputId": "14b4e226-d080-48b7-ad08-bb4e6bd1fe6a"
   },
   "outputs": [],
   "source": [
    "from scipy.stats import bernoulli\n",
    "\n",
    "#Definimos nuestra probabilidad de éxito\n",
    "p=0.3\n",
    "\n",
    "#Defino los posibles valores\n",
    "x=[0,1]\n",
    "\n",
    "#Calculamos la función de densidad\n",
    "pmf = bernoulli.pmf(x, p)\n",
    "\n",
    "print(\"La función de densidad = \", pmf)\n",
    "\n",
    "#Graficamos la función de densidad\n",
    "plt.bar(x,pmf,width=0.2)\n",
    "plt.xlabel('Valores')\n",
    "plt.ylabel('Probabilidad')\n",
    "plt.title('Función de densidad de una bernoulli con p=0.3')\n",
    "#plt.grid(True)\n",
    "plt.show() #mostrar el gráfica\n",
    "\n",
    "#Calculo de la esperanza\n",
    "print(\"La esperanza es = \", bernoulli.mean(p))\n",
    "\n",
    "#Calculo de la varianza\n",
    "print(\"La varianza es = \", bernoulli.var(p))"
   ]
  },
  {
   "cell_type": "markdown",
   "id": "4ddf7170-0801-470a-87e6-24d032c7eff4",
   "metadata": {
    "id": "4ddf7170-0801-470a-87e6-24d032c7eff4"
   },
   "source": [
    "### 2.1.3. Variable aleatoria Binomial con parámetros $n$ y $p\\in(0,1)$"
   ]
  },
  {
   "cell_type": "markdown",
   "id": "5ca6e237-ca40-48fa-8144-ee5d986ee39a",
   "metadata": {
    "id": "5ca6e237-ca40-48fa-8144-ee5d986ee39a"
   },
   "source": [
    "**Definición:** Decimos que una v.a. $X$ tiene distribución binomial con parámetros $n$ y $p$, si su función de densidad está dada por\n",
    "$$ f_X(x) = \\mathbb{P}(X=x) = \\begin{cases} \\binom{n}{x}p^x (1-p)^{n-x}, \\quad \\text{si } x\\in \\{0,1,...,n\\} \\\\\n",
    "0, \\quad \\text{e.o.c} \\end{cases}$$\n",
    "donde $n\\in\\mathbb{Z}_{+}$ y $0<p<1$.\n",
    "\n",
    "**Obs:** Los ensayos deben ser independientes.\n",
    "\n",
    "La esperanza de $X$ es\n",
    "$$\\begin{align*}\n",
    "\\mathbb{E}[X]\n",
    "&=np.\n",
    "\\end{align*}$$\n",
    "y\n",
    "$$ \\begin{align*}\n",
    "\\mathbb{E}[X^2]\n",
    "&= (np)^2 +np(1-p),\n",
    "\\end{align*} $$\n",
    "\n",
    "Por lo que la varianza de $X$ es\n",
    "$$\\text{Var}(X) = np(1-p) $$"
   ]
  },
  {
   "cell_type": "markdown",
   "id": "0f325500-fd10-4074-aeb6-ee71739c19fb",
   "metadata": {
    "id": "0f325500-fd10-4074-aeb6-ee71739c19fb"
   },
   "source": [
    "<font color=\"blue\">**EJEMPLO:**</font> Una moneda justa se tira seis veces, donde la probabilidad de obtener sol es de $0.3$. Sea $X$ el número de veces que cae sol, entonces dabemos que $X$ tiene una distribución binomial con parámetros $n=6$ y $p=0.3$. Calcular:\n",
    "1. La probabilidad de que $ X = 2 $ es:\n",
    "\n",
    "$$\n",
    "\\mathbb{P}(X = 2) = \\binom{6}{2} (0.3)^2 (1 - 0.3)^{6 - 2} = 0.3241\n",
    "$$\n",
    "\n",
    "2. La probabilidad de que $ X = 3 $ es:\n",
    "\n",
    "$$\n",
    "\\mathbb{P}(X = 3) = \\binom{6}{3} (0.3)^3 (1 - 0.3)^{6 - 3} = 0.1852\n",
    "$$\n",
    "\n",
    "3. La probabilidad de que $ 1 < X \\leq 5 $ se calcula como la suma de las probabilidades de $ X = 2 $, $ X = 3 $, $ X = 4 $ y $ X = 5 $:\n",
    "\n",
    "$$\n",
    "\\mathbb{P}(1 < X \\leq 5) = \\mathbb{P}(X = 2) + \\mathbb{P}(X = 3) + \\mathbb{P}(X = 4) + \\mathbb{P}(X = 5)\n",
    "$$\n",
    "\n",
    "$$\n",
    "= 0.3241 + 0.1852 + \\binom{6}{4} (0.3)^4 (1 - 0.3)^{6 - 4} + \\binom{6}{5} (0.3)^5 (1 - 0.3)^{6 - 5}\n",
    "$$\n",
    "\n",
    "$$\n",
    "= 0.579\n",
    "$$\n"
   ]
  },
  {
   "cell_type": "markdown",
   "id": "d2bae93e-71dc-4f59-b4a7-71d39ba9bf3a",
   "metadata": {
    "id": "d2bae93e-71dc-4f59-b4a7-71d39ba9bf3a"
   },
   "source": [
    "Para más información, ver [Binomial](https://docs.scipy.org/doc/scipy/reference/generated/scipy.stats.binom.html)"
   ]
  },
  {
   "cell_type": "markdown",
   "id": "0094baaf-5849-4c50-9a35-1e21a90faf26",
   "metadata": {
    "id": "0094baaf-5849-4c50-9a35-1e21a90faf26"
   },
   "source": [
    "Notemos que $\\mathbb{P}(1<X\\le 5) = F_X(5) - F_X(1) $"
   ]
  },
  {
   "cell_type": "markdown",
   "id": "f11b2098-7c47-4587-a5ef-8123d5448fd9",
   "metadata": {
    "id": "f11b2098-7c47-4587-a5ef-8123d5448fd9"
   },
   "source": [
    "Usamos el atributo `.cdf ` para calcular estas probabilidades"
   ]
  },
  {
   "cell_type": "code",
   "execution_count": null,
   "id": "d28fdc9e-b3b7-4c56-9d33-673ea9b2b280",
   "metadata": {
    "id": "d28fdc9e-b3b7-4c56-9d33-673ea9b2b280",
    "outputId": "8593020e-cda9-480f-f3bf-30874e20ee61"
   },
   "outputs": [],
   "source": [
    "from scipy.stats import binom\n",
    "binom.cdf(5,6,0.3) # calcula la probabilidad acumulada de que haya 5 o menos éxitos en 6 ensayos\n",
    "binom.cdf(1,6,0.3) # calcula la probabilidad acumulada de que haya 1 o menos éxitos en 6 ensayos\n",
    "binom.cdf(5,6,0.3)-binom.cdf(1,6,0.3) # calcula la probabilidad deseada"
   ]
  },
  {
   "cell_type": "markdown",
   "id": "85bb831a-f939-45be-a043-5db32d40ba49",
   "metadata": {
    "id": "85bb831a-f939-45be-a043-5db32d40ba49"
   },
   "source": [
    "#### Gráfica de la distribución Binomial"
   ]
  },
  {
   "cell_type": "code",
   "execution_count": null,
   "id": "1c2bea3b-67df-442a-bc43-3106d87d3315",
   "metadata": {
    "id": "1c2bea3b-67df-442a-bc43-3106d87d3315",
    "outputId": "4265ddec-c868-4f1c-8079-ff9c235d1626"
   },
   "outputs": [],
   "source": [
    "n = 25 # número de ensayos bernoulli\n",
    "p = 0.8 # probabilidad de éxito\n",
    "s= 100000 # número de muestras\n",
    "\n",
    "#Vamos a generar numeros aleatorios que siguen una distribución binomial\n",
    "binom_numeros = sps.binom.rvs(n,p,size=s)\n",
    "\n",
    "#Creamos un histograma\n",
    "plt.figure(figsize=(10,6))\n",
    "plt.hist(\n",
    "    binom_numeros,\n",
    "    density=True, # Normaliza el area para que sea 1\n",
    "    bins=len(np.unique(binom_numeros)), # número de barras del histograma\n",
    "    color = \"blue\",\n",
    "    edgecolor=\"grey\"\n",
    ")\n",
    "\n",
    "plt.xlabel('Valores')\n",
    "plt.ylabel('Probabilidad')\n",
    "plt.title('Función de densidad de una binomial')\n",
    "#plt.grid(True)\n",
    "plt.show() #mostrar el gráfica"
   ]
  },
  {
   "cell_type": "markdown",
   "id": "2e46f7fc-1388-4e60-966f-bb914c59c6d0",
   "metadata": {
    "id": "2e46f7fc-1388-4e60-966f-bb914c59c6d0"
   },
   "source": [
    "### 2.1.4. Variable aleatoria Poisson"
   ]
  },
  {
   "cell_type": "markdown",
   "id": "9256aaad-4607-4705-bf2d-19c8a6f83776",
   "metadata": {
    "id": "9256aaad-4607-4705-bf2d-19c8a6f83776"
   },
   "source": [
    "**Definición:** Es una distribución de probabilidad discreta que sirve para calcular la probabilidad de que ocurra un determinado número de eventos raros durante un intervalo dado (puede ser tiempo, lingitud, área, etc).\n",
    "\n",
    "Esta v.a. tomavalores sobre el conjunto $\\{0,1,2,...\\}$ y tiene un parámetro $\\lambda>0$, el cual representa el número de veces que se **espera** que ocurra un evento durante un intervalo dado.\n",
    "\n",
    "Su función de densidad, está dado como sigue:\n",
    "$$ f_X(x) = \\mathbb{P}(X=x) = \\begin{cases} e^{-\\lambda}\\frac{\\lambda^x}{x!}, \\quad \\text{si } x\\in \\{0,1,...\\} \\\\\n",
    "0, \\quad \\text{e.o.c} \\end{cases}$$\n",
    "\n",
    "Notemos que $\\mathbb{E}[X]=\\lambda$ y que $\\text{Var}(X)=\\lambda$."
   ]
  },
  {
   "cell_type": "markdown",
   "id": "f9d20b58-9a30-4d44-9d18-d1fd6c95ac44",
   "metadata": {},
   "source": [
    "<font color=\"blue\">**EJEMPLO:**</font> Supongamos que el número de accidentes que ocurre en un punto en un día tiene distribución Poisson con parámetro $\\lambda=2$,\n",
    "\n",
    "- ¿cuál es la probabilidad de que en un día ocurran más de dos accidentes?\n",
    "  $$ \\begin{align*} \\mathbb{P}(X>2) &= 1- \\mathbb{P}(X\\le 2) \\\\\n",
    "    &= 1- [\\mathbb{P}(X=0) + \\mathbb{P}(X=1) + \\mathbb{P}(X=2)] \\\\\n",
    "    &= 1- \\left[ e^{-2}\\frac{2^0}{0!} + e^{-2}\\frac{2^1}{1!} + e^{-2}\\frac{2^2}{2!} \\right] \\\\\n",
    "    &= 1 - e^{-2}[1+2+2] = 1-5e^{-2} = 0.3233\n",
    "    \\end{align*} $$\n",
    "- ¿cuál es la probabilidad de que ocurran más de dos accidentes sabiendo que por lo menos ocurre uno?\n",
    "  $$ \\begin{align*} \\mathbb{P}(X>2 \\mid X \\ge 1) &= \\frac{\\mathbb{P}(\\{X>2\\} \\cap \\{X \\ge 1\\} )}{\\mathbb{P}\\{X \\ge 1)\\}} \\\\\n",
    "       &= \\frac{\\mathbb{P}(\\{X>2\\})}{\\mathbb{P}\\{X \\ge 1)\\}} \\\\\n",
    "       & = \\frac{.3233}{1-\\mathbb{P}(X<1)} = \\frac{0.3233}{1-e^{-2}} \\frac{0.3233}{.8646} = 0.3739\n",
    "       \\end{align*} $$."
   ]
  },
  {
   "cell_type": "markdown",
   "id": "dcaaf1d8-afd6-47fd-9bbd-42e1c89d8337",
   "metadata": {},
   "source": [
    "$\\color{red}{\\text{Ejercicio.}}$ Usando el atributo `.cdf` [Poisson](https://docs.scipy.org/doc/scipy/reference/generated/scipy.stats.poisson.html) calcula las probabilidades anteriores."
   ]
  },
  {
   "cell_type": "code",
   "execution_count": null,
   "id": "cb4f0fdc-9a42-4c24-b2cd-d620a197a2fe",
   "metadata": {},
   "outputs": [],
   "source": [
    "from scipy.stats import poisson\n",
    "lambda_poisson = 2\n",
    "distribucion_poisson = poisson(lambda_poisson)\n",
    "\n",
    "# Cálculo de P(X > 2)\n",
    "probabilidad_mayor_2 = 1 - distribucion_poisson.cdf(2)\n",
    "print(f\"P(X > 2): {probabilidad_mayor_2}\")\n",
    "\n",
    "# Cálculo de P(X > 2 | X >= 1)\n",
    "probabilidad_mayor_igual_1 = 1 - distribucion_poisson.cdf(0)\n",
    "probabilidad_condicional = probabilidad_mayor_2 / probabilidad_mayor_igual_1\n",
    "print(f\"P(X > 2 | X >= 1): {probabilidad_condicional}\")"
   ]
  },
  {
   "cell_type": "markdown",
   "id": "05f4c193-bac9-46a5-a71c-1ffd9cff1da6",
   "metadata": {
    "id": "05f4c193-bac9-46a5-a71c-1ffd9cff1da6"
   },
   "source": [
    "### 2.1.5. Aproximación de Poisson a la Binomial\n",
    "La distribución de Poisson es una forma límite de la distribución binomial, es decir, es una buena aproximación cuando $n$ es suficientemente grande y $p$ suficientemente pequeña.\n",
    "\n",
    "$\\textbf{Teorema (Poisson).-}$ Sean $S_{n}\\sim Bin(n,p_{n})$ bajo el regimen $$\\lim_{n\\to \\infty}np_{n}=\\lambda>0.$$\n",
    "Consideremos la siguiente sucesión de números reales:\n",
    "$$a_{j}(n,p_n)=\\begin{cases}\\binom{n}{j}(p_n)^{j}(1-p_{n})^{n-j} & j\\leq n\\\\\n",
    "0 & j\\geq n+1\\end{cases}$$\n",
    "\n",
    " Entonces,\n",
    " $$\\lim_{n\\to \\infty}a_{j}(n,p_n)=a_{j}=e^{-\\lambda}\\frac{\\lambda^{j}}{j!} \\ \\ \\forall j\\in \\mathbb{N}.$$\n",
    "\n",
    " El teorema anterior implica que la distribución de Poisson ofrece un modelo probabilístico adecuado para todos aquellos experimentos aleatorios \ten los que las repeticiones son independientes unas de otras y en los \tque sólo hay dos posibles resultados: éxito o fracaso, con probabilidad de \téxito pequeña, y en los que el interés se centra en conocer el número de éxitos obtenidos al realizar el experimento un número suficientemente grande de veces.\n",
    "\n",
    "Empíricamente se ha establecido, que la aproximación se puede aplicar con seguridad si $n\\ge100$, $p\\le 0.01$ y $np \\le20$."
   ]
  },
  {
   "cell_type": "markdown",
   "id": "d63edf45-3e03-44ae-b22f-421b9d57819e",
   "metadata": {},
   "source": [
    "<font color=\"blue\">**EJEMPLO:**</font> Supongamos que la probabilidad de que un producto producido por cierta máquina es defectuoso es de $0.1$. ¿Cuál es la probabilidad de que un lote de 10 productos contenga a lo más un producto defectuoso?\n",
    "\n",
    "Sea $X$ el número de productos defectuosos, y sabemos que $X$ tiene una distribución binomial con parámetros $n=10$ y $p=0.1$, entonces\n",
    "\\begin{align*}\n",
    "\\mathbb{P}(X\\le 1) &= \\mathbb{P}(X=0)+\\mathbb{P}(X=1) \\\\ &= \\binom{10}{0}(0.1)^{0}(0.9)^{10-0}+\\binom{10}{1}(0.1)^{1}(0.9)^{10-1} \\\\ &= 0.7361\n",
    "\t\\end{align*}\n",
    "\n",
    "Ahora, con la distribución Poisson, tenemos que $\\lambda=10(0.1)=1$, por lo que\n",
    "$$\\mathbb{P}(X\\le 1) = \\mathbb{P}(X=0)+\\mathbb{P}(X=1) = \\frac{e^{-1}1^{0}}{0!}+\\frac{e^{-1}1^{1}}{1!} = e^{-1}+e^{-1} =0.7358$$"
   ]
  },
  {
   "cell_type": "markdown",
   "id": "b352608d-3279-49bc-b058-d417d40804ba",
   "metadata": {
    "id": "b352608d-3279-49bc-b058-d417d40804ba"
   },
   "source": [
    "#### Gráfica de la aproximación de la binomial a la Poisson"
   ]
  },
  {
   "cell_type": "code",
   "execution_count": null,
   "id": "e0bddda6-0270-45ea-bafd-ecfa7cf2744e",
   "metadata": {
    "id": "e0bddda6-0270-45ea-bafd-ecfa7cf2744e",
    "outputId": "70e5c416-7b06-40fd-826d-f20dc3ad4191"
   },
   "outputs": [],
   "source": [
    "# Simulación de la aproximación de la Bonomial a la Poisson\n",
    "param=3 # Parametro de la Poisson que queremos aproximar\n",
    "n=1000 # Este es el número de ensayos en la distribución binomial\n",
    "N=5000 # Este es el número de simulaciones que realizaremos.\n",
    "\n",
    "# Genera una muestra de N valores aleatorios de una distribución binomial con parámetros:\n",
    "# n = 1000 (número de ensayos), p = param/n = 3/1000\n",
    "X=npr.binomial(n,param/n,N)\n",
    "\n",
    "# Calcular la frecuencia relativa de los valores simulados\n",
    "counts = np.bincount(X) / float(N)\n",
    "\n",
    "# Crear un array de valores posibles\n",
    "x = np.arange(len(counts))\n",
    "\n",
    "# Calcular la función de masa de probabilidad (FMP) de la distribución Poisson teórica\n",
    "f_x = sps.poisson.pmf(x, param)\n",
    "\n",
    "plt.close()\n",
    "plt.bar(x - 0.5, counts, width=1., label=\"ley empírica\")\n",
    "p2 = plt.stem(x, f_x, \"r\", label=\"ley teórica\")\n",
    "plt.legend()\n",
    "plt.show()\n"
   ]
  },
  {
   "cell_type": "markdown",
   "id": "c0ace876-148d-4fa8-9fc7-d6bd6b337340",
   "metadata": {
    "id": "c0ace876-148d-4fa8-9fc7-d6bd6b337340"
   },
   "source": [
    "### 2.1.6. Variable aleatoria Geométrica con parámetro $p\\in (0,1)$."
   ]
  },
  {
   "cell_type": "markdown",
   "id": "dc3a6079-1196-42a2-a67d-318b731a762b",
   "metadata": {
    "id": "dc3a6079-1196-42a2-a67d-318b731a762b"
   },
   "source": [
    "**Definición:** Esta variable aleatoria cuenta el número de fracasos antes del primer éxito en ensayos bernoulli independientes con parámetro $0<p<1$, y su función de masa de probabilidades está dada por:\n",
    "$$f_{X}(x)=\\begin{cases}\n",
    "\tp(1-p)^{x-1} &\\quad \\text{si } x=1,2,\\dots \\\\\n",
    "\t\\qquad 0 &\\quad \\text{en otro caso}  \n",
    "\\end{cases}$$\n",
    "\n",
    "\n",
    "**Notación:** $X\\sim Geo(p)$\n",
    "\n",
    "La cual es una función de densidad ya que:\n",
    "* $0\\le f_{X}(x)\\le 1$ para toda $x$.\n",
    "* $$\\begin{align*}\n",
    "\t\\sum_{x\\in R_{X}}f_{X}(x) &= \\sum_{x=1}^{\\infty}(1-p)^{x-1}p \\\\\n",
    "\t&= p\\sum_{y=0}^{\\infty}(1-p)^{y} \\\\\n",
    "\t&= p\\left(\\frac{1}{1-(1-p)}\\right) = 1\n",
    "    \\end{align*}$$\n",
    "\n",
    "Si por el contrario queremos contar el número de éxitos antes del primer fracaso, tenemos que la función de está dada por:\n",
    "$$f_{X}(x)=\\begin{cases}\n",
    "\tp^{x}(1-p) &\\quad \\text{si } x=0,1,2,\\dots \\\\\n",
    "\t\\qquad 0 &\\quad \\text{en otro caso}  \n",
    "\\end{cases}$$\n",
    "\n",
    "Para calcular la esperanza y varianza de $X$, necesitamos del siguiente lema:\n",
    "\n",
    "**Lema 1.** Sea $x$ un número real tal que $│x│<1$. Entonces,\n",
    "$$\\sum_{k=1}^{\\infty}kx^{k-1}=\\frac{1}{(1-x)^2}.$$\n",
    "\n",
    "La esperanza de $X$ es:\n",
    "$$\\begin{align*}\n",
    "\\mathbb{E}[X]&= \\frac{1}{p}\n",
    "\\end{align*}$$\n",
    "\n",
    "Por lo tanto,\n",
    "$$\\text{Var}(X)=\\frac{1-p}{p^2}.$$"
   ]
  },
  {
   "cell_type": "markdown",
   "id": "8aaa1e27-63e1-44c7-bf27-4ea6fcee8d01",
   "metadata": {
    "id": "8aaa1e27-63e1-44c7-bf27-4ea6fcee8d01"
   },
   "source": [
    "#### Gráfica de la distribución geométrica."
   ]
  },
  {
   "cell_type": "code",
   "execution_count": null,
   "id": "f6ca6728-f2c5-4404-8cad-5b478dec7ecc",
   "metadata": {
    "id": "f6ca6728-f2c5-4404-8cad-5b478dec7ecc",
    "outputId": "ba6b4292-e250-4182-ed82-f9745c4ebcfe"
   },
   "outputs": [],
   "source": [
    "p = 0.6 # probabilidad de éxito\n",
    "s= 100000 # número de muestras\n",
    "\n",
    "random.seed(3) #fijar una semilla\n",
    "#Vamos a generar numeros aleatorios que siguen una distribución geométrica\n",
    "geom_numeros = sps.geom.rvs(p,size=s)\n",
    "\n",
    "#Creamos un histograma\n",
    "plt.figure(figsize=(10,6))\n",
    "plt.hist(\n",
    "    geom_numeros,\n",
    "    density=True, # Normaliza el area para que sea 1\n",
    "    bins=len(np.unique(geom_numeros)), # número de barras del histograma\n",
    "    color = \"blue\",\n",
    "    edgecolor=\"grey\"\n",
    ")\n",
    "\n",
    "plt.xlabel('Valores')\n",
    "plt.ylabel('Probabilidad')\n",
    "plt.title('Función de densidad de una geométrica')\n",
    "plt.show() #mostrar el gráfica"
   ]
  },
  {
   "cell_type": "markdown",
   "id": "ec527425-8fdd-4f48-a269-5c84d90b43bc",
   "metadata": {
    "id": "ec527425-8fdd-4f48-a269-5c84d90b43bc"
   },
   "source": [
    "### 2.1.7. Variable aleatoria Binomial Negativa con parámetros $r\\geq 1$ y $p\\in (0,1)$."
   ]
  },
  {
   "cell_type": "markdown",
   "id": "054bc781-2f37-49b5-9080-b593ee7a3b8b",
   "metadata": {
    "id": "054bc781-2f37-49b5-9080-b593ee7a3b8b"
   },
   "source": [
    "**Definición:** Supongamos que se realizan ensayos independientes, cada uno con probabilidad $0<p<1$ de ser un éxito, hasta obtener un total de $r$ éxitos acumulados. Sea $X$ el número de ensayos que se requieren, entonces su función de masa de probabilidades está dada por:\n",
    "$$ f_{X}(x)=\\begin{cases}\n",
    "\t\\binom{x-1}{r-1}p^{r}(1-p)^{x-r} &\\quad \\text{si } x=r,r+1,\\dots \\\\\n",
    "\t\\qquad 0 &\\quad \\text{en otro caso}  \n",
    "\\end{cases}$$\n",
    "\n",
    "**Notación.** $X\\sim \\text{BN}(r,p)$.\n",
    "\n",
    "Se tiene que\n",
    "$$ \\mathbb{E}[X]=\\frac{r}{p}$$\n",
    "y\n",
    "$$ \\text{Var}[X]=\\frac{r(1-p)}{p^2}.$$"
   ]
  },
  {
   "cell_type": "markdown",
   "id": "74646def-632a-4e6d-b8a4-06ac0d85a0d3",
   "metadata": {
    "id": "74646def-632a-4e6d-b8a4-06ac0d85a0d3"
   },
   "source": [
    "#### Gráfica de la distribución Binomial Negativa."
   ]
  },
  {
   "cell_type": "code",
   "execution_count": null,
   "id": "93f940db-2aa3-432a-8876-73e23ee38ed4",
   "metadata": {
    "id": "93f940db-2aa3-432a-8876-73e23ee38ed4",
    "outputId": "935a8fe1-681e-40ea-bda9-10dc28675728"
   },
   "outputs": [],
   "source": [
    "r = 10\n",
    "p = 0.4 # probabilidad de éxito\n",
    "s= 100000 # número de muestras\n",
    "\n",
    "random.seed(3) #fijar una semilla\n",
    "#Vamos a generar numeros aleatorios que siguen una distribución geométrica\n",
    "nbinom_numeros = sps.nbinom.rvs(r,p,size=s)\n",
    "\n",
    "#Creamos un histograma\n",
    "plt.figure(figsize=(10,6))\n",
    "plt.hist(\n",
    "    nbinom_numeros,\n",
    "    density=True, # Normaliza el area para que sea 1\n",
    "    bins=len(np.unique(nbinom_numeros)), # número de barras del histograma\n",
    "    color = \"blue\",\n",
    "    edgecolor=\"grey\"\n",
    ")\n",
    "\n",
    "plt.xlabel('Valores')\n",
    "plt.ylabel('Probabilidad')\n",
    "plt.title('Función de densidad de una BN con r=10 y p=0.4')\n",
    "plt.show() #mostrar el gráfica"
   ]
  },
  {
   "cell_type": "markdown",
   "id": "f947d8f1-f166-4886-930b-2dac2381440c",
   "metadata": {
    "id": "f947d8f1-f166-4886-930b-2dac2381440c"
   },
   "source": [
    "$\\color{red}{\\text{Ejercicio.}}$ Un examen de Estadística consta de 20 preguntas tipo test y se conoce de experiencias\n",
    "anteriores que un alumno tiene probabilidad 0.7 de contestar bien cada pregunta. Obtener:\n",
    "\n",
    "a) La probabilidad de que la primera pregunta que contesta bien sea la cuarta.\n",
    "\n",
    "b) Sabiendo que para aprobar el examen es necesario contestar bien a 10 preguntas, ¿cuál es la probabilidad de que apruebe al contestar la pregunta duodécima?"
   ]
  },
  {
   "cell_type": "code",
   "execution_count": null,
   "id": "66955241-157f-43df-af84-70187c470042",
   "metadata": {},
   "outputs": [],
   "source": [
    "from scipy.stats import geom, binom\n",
    "\n",
    "# Datos del problema\n",
    "prob_correcta = 0.7  # Probabilidad de contestar bien cada pregunta\n",
    "preguntas_totales = 20  # Número total de preguntas\n",
    "\n",
    "# a) Probabilidad de que la primera pregunta correcta sea la cuarta\n",
    "pregunta_objetivo_a = 4  # La cuarta pregunta\n",
    "prob_a = geom.pmf(pregunta_objetivo_a, prob_correcta)\n",
    "print(f\"a) Probabilidad de que la primera pregunta correcta sea la cuarta: {prob_a}\")\n",
    "\n",
    "# b) Probabilidad de aprobar en la pregunta duodécima\n",
    "preguntas_necesarias_aprobar = 10  # Necesita 10 correctas para aprobar\n",
    "preguntas_b = 12  # Pregunta duodécima\n",
    "\n",
    "# Calcular la probabilidad de 9 correctas en las primeras 11 preguntas\n",
    "prob_b = binom.pmf(preguntas_necesarias_aprobar - 1, preguntas_b - 1, prob_correcta)\n",
    "\n",
    "# Multiplicar por la probabilidad de que la pregunta 12 sea correcta\n",
    "prob_c = prob_b * prob_correcta\n",
    "print(f\"b) Probabilidad de aprobar en la pregunta duodécima: {prob_c}\")"
   ]
  },
  {
   "cell_type": "markdown",
   "id": "d7fc3c86-be48-4b0a-a58a-80c208933587",
   "metadata": {},
   "source": [
    "#### $\\color{red}{\\text{Problema de la Caja de Cerillos de Banach.}}$"
   ]
  },
  {
   "cell_type": "markdown",
   "id": "5cea20d4-b56c-4626-9775-f2eee571d47d",
   "metadata": {},
   "source": [
    "El **Problema de la Caja de Cerillos de Banach** es un ejemplo clásico que ilustra conceptos fundamentales de procesos estocásticos y variables aleatorias.\n",
    "\n",
    "---\n",
    "\"Un matemático lleva siempre consigo dos cajas de cerillos, una en el bolsillo derecho y otra en el izquierdo. Cada vez que necesita un cerillo, elige al azar uno de los dos bolsillos. Supongamos que inicialmente cada caja contiene N cerillos. ¿Cuál es la probabilidad de que, cuando el matemático descubre que una de las cajas está vacía, la otra caja contenga exactamente k cerillos?\"\n",
    "\n",
    "--- \n",
    "\n",
    "1. **Proceso Estocástico**\n",
    "Es un conjunto de variables aleatorias que evolucionan con el tiempo. En este problema, el número de cerillos en la caja es una **variable aleatoria discreta** que cambia en cada extracción.\n",
    "\n",
    "2. **Cadenas de Markov**\n",
    "El problema puede modelarse como un **proceso de Markov**, donde el número de cerillos en la caja es el \"estado\" y las transiciones entre estados dependen solo del estado actual (memoria sin memoria).\n",
    "\n",
    "3. **Distribución de Probabilidad**\n",
    "La probabilidad de que haya un número específico de cerillos después de \\(n\\) extracciones se puede modelar con una **distribución binomial**:\n",
    "$$\n",
    "P(X = k) = \\binom{n}{k} p^k (1-p)^{n-k}\n",
    "$$\n",
    "donde:\n",
    "- \\(n\\) = número de extracciones,\n",
    "- \\(p\\) = probabilidad de que un cerillo no se reemplace,\n",
    "- \\(k\\) = número de cerillos restantes.\n",
    "\n",
    "4. **Convergencia y Estado Estacionario**\n",
    "Después de muchas extracciones, el sistema puede llegar a un **estado estacionario**, donde la probabilidad de estar en un determinado estado (número de cerillos) se estabiliza.\n",
    "\n",
    "Este problema es útil para entender cómo las las probabilidades evolucionan en procesos estocásticos y cadenas de Markov.\n"
   ]
  },
  {
   "cell_type": "markdown",
   "id": "6e851e52-7eca-432f-bf75-b5e985ea7cfb",
   "metadata": {
    "id": "6e851e52-7eca-432f-bf75-b5e985ea7cfb"
   },
   "source": [
    "### 2.1.8. Variable aleatoria Hipergeométrica con parámetros $n,N,m$."
   ]
  },
  {
   "cell_type": "markdown",
   "id": "54617707-1158-4f6d-9d14-4db1f4167588",
   "metadata": {
    "id": "54617707-1158-4f6d-9d14-4db1f4167588"
   },
   "source": [
    "**Definición:** Supongamos que se elige, sin reemplazo, una muestra de tamaño $n$ de una urna que contiene $N$ bolas, de las cuales $m$ son rojas y $N-m$ son verdes. Sea $X$ el número de bolas rojas seleccionadas, entonces su función de masa de probabilidades está dada por:\n",
    "$$ f_{X}(x)=\n",
    "\t\\frac{\\binom{m}{x}\\binom{N-m}{n-x}}{\\binom{N}{n}} \\quad \\text{si } x=0,1,\\dots, n $$\n",
    "\n",
    "**Notación.** $X\\sim \\text{Hiper}(n,N,m)$.\n",
    "\n",
    "Se tiene que\n",
    "$$ \\mathbb{E}[X]=\\frac{nm}{N}$$\n",
    "y\n",
    "$$ \\text{Var}[X]=\\frac{nm}{N}\\left[\\frac{(n-1)(m-1)}{N-1}+1-\\frac{nm}{N} \\right].$$\n",
    "\n",
    "**Nota.** Si $x\\leq n$ y $X\\sim \\text{Hiper}(n,N,m)$, cuando $p=\\frac{m}{N}$ y $m,N$ son muy grandes con respecto a $n$ y $x$:\n",
    "$$\\mathbb{P}(X=x)\\approx \\binom{n}{x}p^{x}(1-p)^{n-x}.$$"
   ]
  },
  {
   "cell_type": "markdown",
   "id": "4bf42501-b420-406e-9a08-2fbc84079188",
   "metadata": {
    "id": "4bf42501-b420-406e-9a08-2fbc84079188"
   },
   "source": [
    "$\\color{red}{\\text{Ejercicio.}}$ Replicar la grafica de la función de densidad."
   ]
  },
  {
   "cell_type": "code",
   "execution_count": null,
   "id": "b097304d-5f29-4e7d-81d3-b65b46bb1490",
   "metadata": {},
   "outputs": [],
   "source": [
    "from scipy.special import comb\n",
    "\n",
    "def hipergeometrica_pmf(x, n, N, m):\n",
    "    \"\"\"Calcula la PMF de la distribución hipergeométrica.\"\"\"\n",
    "    numerador = comb(m, x, exact=True) * comb(N - m, n - x, exact=True)\n",
    "    denominador = comb(N, n, exact=True)\n",
    "    return numerador / denominador\n",
    "\n",
    "def graficar_hipergeometrica(n, N, m):\n",
    "    \"\"\"Grafica la PMF de la distribución hipergeométrica.\"\"\"\n",
    "    x_values = np.arange(0, min(n, m) + 1)\n",
    "    pmf_values = [hipergeometrica_pmf(x, n, N, m) for x in x_values]\n",
    "\n",
    "    plt.figure(figsize=(10, 6))\n",
    "    plt.bar(x_values, pmf_values, color='skyblue')\n",
    "    plt.xlabel('Número de éxitos en la muestra (x)')\n",
    "    plt.ylabel('Probabilidad')\n",
    "    plt.title(f'Distribución Hipergeométrica (n={n}, N={N}, m={m})')\n",
    "    plt.xticks(x_values)\n",
    "    plt.grid(axis='y')\n",
    "    plt.show()\n",
    "\n",
    "# Ejemplo de uso\n",
    "n = 10  # Tamaño de la muestra\n",
    "N = 50  # Tamaño de la población\n",
    "m = 20  # Número de éxitos en la población\n",
    "\n",
    "graficar_hipergeometrica(n, N, m)"
   ]
  },
  {
   "cell_type": "markdown",
   "id": "776c0366-22f5-49d0-84ac-7bf8eab52b8c",
   "metadata": {},
   "source": [
    "\n",
    "$\\color{red}{\\text{Ejercicio.}}$ Una compañía petrolera realiza un estudio geológico que indica que un pozo petrolero exploratorio debería tener un 20% de posibilidades de encontrar petróleo.\n",
    "\n",
    "- ¿Cuál es la probabilidad de que el primer pozo se produzca en el tercer pozo perforado?\n",
    "\n",
    "- ¿Cuál es la probabilidad de que el tercer pozo se produzca en el séptimo pozo perforado?\n",
    "\n",
    "- ¿Cuál es la media y la varianza del número de pozos que se deben perforar si la compañía petrolera quiere establecer tres pozos productores?"
   ]
  },
  {
   "cell_type": "code",
   "execution_count": null,
   "id": "98628880-9bd4-438b-886e-3ec6675c1a17",
   "metadata": {},
   "outputs": [],
   "source": [
    "from scipy.stats import geom, nbinom\n",
    "\n",
    "# Datos del problema\n",
    "prob_exito = 0.2  # Probabilidad de encontrar petróleo\n",
    "\n",
    "# a) Probabilidad de que el primer pozo se produzca en el tercer pozo\n",
    "prob_a = geom.pmf(3, prob_exito)\n",
    "print(f\"a) Probabilidad: {prob_a}\")\n",
    "\n",
    "# b) Probabilidad de que el tercer pozo se produzca en el séptimo pozo\n",
    "prob_b = nbinom.pmf(4, 3, prob_exito)  # nbinom.pmf(k-r, r, p)\n",
    "print(f\"b) Probabilidad: {prob_b}\")\n",
    "\n",
    "# c) Media y varianza del número de pozos para 3 éxitos\n",
    "media = 3 / prob_exito\n",
    "varianza = (3 * (1 - prob_exito)) / (prob_exito ** 2)\n",
    "print(f\"c) Media: {media}, Varianza: {varianza}\")"
   ]
  },
  {
   "cell_type": "markdown",
   "id": "68c1d6a7-2a46-410f-a1f9-4bd9ec2a07db",
   "metadata": {},
   "source": [
    "## 2.2. Variables Aleatorias (absolutamente) Continuas."
   ]
  },
  {
   "cell_type": "markdown",
   "id": "13966f0a-c2d8-4dab-b659-52e5fb9326b1",
   "metadata": {},
   "source": [
    "**Definición.** Una variable aleatoria absolutamente continua es aquella para la cual existe una función $f_X$ no negativa, llamada función de densidad, tal que:\n",
    "$$\n",
    "F_X(x) = \\mathbb{P}(X\\leq x) = \\int_{-\\infty}^{x} f_X(y) dy, \\quad x\\in \\mathbb{R}\n",
    "$$\n",
    "\n",
    "**Lema.** Sea $F_X$ una función de distribución. Supongamos que $F_X$ es derivable y que su derivada es continua en $(a, b)$, donde:\n",
    "$ a = \\inf \\{ x \\in \\mathbb{R} \\mid F_X(x) > 0 \\}, \\quad b = \\sup \\{ x \\in \\mathbb{R} \\mid F_X(x) < 1 \\}$\n",
    "entonces, la función de densidad se puede obtener como:\n",
    "$$ f_X(x) =\n",
    "\\begin{cases} \n",
    "F'_X(x), & \\text{si } x \\in (a, b), \\\\\n",
    "0, & \\text{e.o.c.}\n",
    "\\end{cases}$$\n",
    "\n",
    "Es decir,\n",
    "$$ \\frac{dF_X(x)}{dx} = f_X(x)$$"
   ]
  },
  {
   "cell_type": "code",
   "execution_count": null,
   "id": "46ca9375-8562-4027-a2bb-3f8dc6c2cdd3",
   "metadata": {},
   "outputs": [],
   "source": [
    "import numpy as np # Importamos Numpy\n",
    "import numpy.random as npr # para generar numeros aleatorios\n",
    "\n",
    "import scipy.stats as sps # Importamos el modulo SciPy\n",
    "from scipy.stats import randint # para trabajar una uniforme discreta en un rango de enteros\n",
    "\n",
    "import matplotlib.pyplot as plt #Visualizar datos \n",
    "\n",
    "import random # para generar numeros aleatorios"
   ]
  },
  {
   "cell_type": "markdown",
   "id": "ffa6ea47-d854-4c3a-88b8-c8228ca990fb",
   "metadata": {},
   "source": [
    "### 2.2.1. Variable aleatoria uniforme sobre el intervalo $(a,b)$."
   ]
  },
  {
   "cell_type": "markdown",
   "id": "1c65e83b-f29e-46ee-bbfc-2bb2afa14bc0",
   "metadata": {},
   "source": [
    "**Definición:** Una variable aleatoria $X$ se dice que tiene distribución uniforme continua  en el intervalo $(a,b)$ con $a,b\\in\\mathbb{R}$, si su función de densidad esta dada por:\n",
    "$$f_{X}(x)=\\begin{cases}\n",
    "\t\\frac{1}{b-a} &\\quad \\text{si } a< x < b\\\\\n",
    "\t\\qquad 0 &\\quad \\text{en otro caso}  \n",
    "\\end{cases}$$\n",
    "\n",
    "**Notación.** $X\\sim \\text{Unif}(a,b)$ $\\text{Unif}[a,b]$\n",
    "\n",
    "**Obs:**\n",
    "* La distribución uniforme continua en $(a,b)$ es simétrica.\n",
    "* A los intervalos de la misma longitud contenidos en $(a,b)$ se les asigna la misma probabilidad. Esto se representa gráficamente con la probabilidad de que $X$ se encuentre en el intervalo $(s,t)$:\n",
    "\n",
    "\n",
    "La función de distribución de $X\\sim Unif((a,b))$ esta dada por:\n",
    "$$F_{X}(x)=\\begin{cases}\n",
    "\t 0 &\\quad \\text{si } x\\le a \\\\\n",
    "\t\\frac{x-a}{b-a} &\\quad \\text{si } a<x<b\\\\\n",
    "\t 1 &\\quad \\text{si } x\\ge b  \n",
    "\\end{cases}$$\n",
    "\n",
    "La esperanza de una variable aleatoria uniforme es la siguiente,\n",
    "$$\\begin{align*}\n",
    "\\mathbb{E}[X] &= \\frac{a+b}{2}.\n",
    "\\end{align*}$$\n",
    "\n",
    "y su varianza es:\n",
    "\n",
    "$$Var(X) = \\frac{(b-a)^{2}}{12}.$$"
   ]
  },
  {
   "cell_type": "markdown",
   "id": "15df8413-55cf-4d39-8891-0b271a8e80cf",
   "metadata": {},
   "source": [
    "#### Gráfica de la distribución Uniforme."
   ]
  },
  {
   "cell_type": "code",
   "execution_count": null,
   "id": "96e896ad-3c5a-4beb-bf54-0b88df44fb79",
   "metadata": {},
   "outputs": [],
   "source": [
    "# Parámetros de la distribución uniforme\n",
    "a = 0  # límite inferior\n",
    "b = 1  # límite superior\n",
    "\n",
    "# Definimos las funciones de densidad y distribución\n",
    "# Función de densidad (pdf) de la distribución uniforme\n",
    "def uniform_pdf(x, a, b):\n",
    "    return np.where((x >= a) & (x <= b), 1 / (b - a), 0)\n",
    "\n",
    "# Función de distribución (cdf) de la distribución uniforme\n",
    "def uniform_cdf(x, a, b):\n",
    "    return np.where(x < a, 0, np.where(x > b, 1, (x - a) / (b - a)))\n",
    "    \n",
    "# Generar valores de x\n",
    "x = np.linspace(-0.5, 1.5, 1000)\n",
    "\n",
    "# Calcular la función densidad \n",
    "pdf_values = uniform_pdf(x, a, b)\n",
    "\n",
    "# Calcular la función de distribución\n",
    "cdf_values = uniform_cdf(x, a, b)\n",
    "\n",
    "# Graficar la PDF\n",
    "plt.figure(figsize=(10, 5))\n",
    "plt.subplot(1, 2, 1)\n",
    "plt.plot(x, pdf_values, label='PDF', color='blue')\n",
    "plt.xlabel('x')\n",
    "plt.ylabel('Densidad de probabilidad')\n",
    "plt.title('Función de Densidad (PDF)')\n",
    "plt.grid(True)\n",
    "\n",
    "# Graficar la CDF\n",
    "plt.subplot(1, 2, 2)\n",
    "plt.plot(x, cdf_values, label='CDF', color='orange')\n",
    "plt.xlabel('x')\n",
    "plt.ylabel('Función de distribución acumulada')\n",
    "plt.title('Función de Distribución Acumulada (CDF)')\n",
    "plt.grid(True)\n",
    "\n",
    "plt.tight_layout()\n",
    "plt.show()"
   ]
  },
  {
   "cell_type": "markdown",
   "id": "f0106b5e-a9cc-44d7-b64c-61ccdd584734",
   "metadata": {},
   "source": [
    "<font color=\"blue\">**EJEMPLO:**</font> Sea $X\\sim Unif((-3,2))$. Vamos a calcular: $P(X\\ge 0)$ y\n",
    "$P(-5 \\le X \\le 1/2)$.\n",
    "\n",
    "**Solución.** La función de densidad de esta variable aleatoria esta dada por:\n",
    "$$f_{X}(x)=\\begin{cases}\n",
    "\t\\quad \\frac{1}{5} &\\quad \\text{si } -3\\le x \\le 2\\\\\n",
    "\t\\quad 0 &\\quad \\text{e.o.c}  \n",
    "\\end{cases}$$\n",
    "Entonces,\n",
    "\n",
    "$$\\begin{align}\n",
    "\\mathbb{P}(X\\ge 0) &= \\int_{0}^{2}\\frac{1}{5}dx=\\frac{1}{5}x\\Big|_{0}^{2}=\\frac{2}{5} \\\\\n",
    "\\mathbb{P}(-5 \\le X \\le 1/2) &= \\int_{-5}^{-3}f_{X}(x)dx+\\int_{-3}^{1/2}\\frac{1}{5}dx=\\frac{1}{5}x\\Big|_{-3}^{1/2}=\\frac{1}{5}\\left(\\frac{1}{2}+3\\right)=\\frac{7}{10}\n",
    "\\end{align}$$\n",
    "\n",
    "Utilizando la $F_X$, se tiene:\n",
    "\n",
    "- $\\mathbb{P}(X\\ge 0)=1-F_X(0)$ "
   ]
  },
  {
   "cell_type": "code",
   "execution_count": null,
   "id": "d512c786-04f3-4b62-bce3-80ffbf27f4dc",
   "metadata": {},
   "outputs": [],
   "source": [
    "from scipy.stats import uniform\n",
    "\n",
    "# Parámetros de la distribución uniforme\n",
    "a = -3  # límite inferior\n",
    "b = 2   # límite superior\n",
    "\n",
    "# Crear el objeto de distribución uniforme usando scipy\n",
    "uniform_dist = uniform(loc=a, scale=b-a)\n",
    "\n",
    "# Calcular P(X >= 0) = 1 - P(X < 0)\n",
    "p_0 = 1 - uniform_dist.cdf(0)\n",
    "\n",
    "# Calcular P(-5 <= X <= 1/2)\n",
    "p_interval = uniform_dist.cdf(1/2) - uniform_dist.cdf(-5)\n",
    "\n",
    "# Imprimir los resultados\n",
    "print(f\"P(X >= 0) = {p_0}\")\n",
    "print(f\"P(-5 <= X <= 1/2) = {p_interval}\")"
   ]
  },
  {
   "cell_type": "markdown",
   "id": "14d11d86-eba9-4bca-9069-304579c4ac23",
   "metadata": {},
   "source": [
    "$\\color{red}{\\text{Ejercicio.}}$ Un alumno se dirige a la biblioteca para solicitar el préstamo de un libro y decide que no puede esperar más de $10$ minutos en ser atendido. Supongamos que el bibliotecario tarda por lo menos $0.5$ minutos en atender a una persona, entonces es razonable proponer una distribución uniforme en el intervalo $[0.5,10]$ para modelar el comportamiento de la variable $X$ que es el tiempo en ser atendido (en  minutos).\n",
    "\n",
    "- Da la función de densidad y gráfica.\n",
    "- ¿Cuál es la probabilidad de que el tiempo en ser atendido sea mayor a $5$ minutos pero menor a $8$ minutos?\n",
    "- ¿Cuál es la esperanza y varianza?\n",
    "- Calcula la función de distribución y gráficala, y con ella calcula: $\\mathbb{P}(2.51\\le X \\le 7.99)$."
   ]
  },
  {
   "cell_type": "code",
   "execution_count": null,
   "id": "90c2e305-aefb-4c12-a467-782f06306bb0",
   "metadata": {},
   "outputs": [],
   "source": [
    "# Definir los parámetros de la distribución uniforme\n",
    "a, b = 0.5, 10  # Intervalo [0.5, 10]\n",
    "\n",
    "# Crear la función de densidad (PDF)\n",
    "x = np.linspace(a - 1, b + 1, 1000)  # Valores en un rango mayor para visualizar mejor\n",
    "pdf = uniform.pdf(x, loc=a, scale=b-a)\n",
    "\n",
    "# ---- 2. Calcular P(5 < X < 8) ----\n",
    "prob_5_8 = uniform.cdf(8, loc=a, scale=b-a) - uniform.cdf(5, loc=a, scale=b-a)\n",
    "print(f\"Probabilidad de que 5 < X < 8: {prob_5_8:.4f}\")\n",
    "\n",
    "# ---- 3. Calcular esperanza y varianza ----\n",
    "esperanza = (a + b) / 2\n",
    "varianza = ((b - a) ** 2) / 12\n",
    "print(f\"Esperanza (E[X]): {esperanza:.2f}\")\n",
    "print(f\"Varianza (Var[X]): {varianza:.2f}\")\n",
    "\n",
    "# Graficar la función de densidad\n",
    "plt.figure(figsize=(8, 4))\n",
    "plt.plot(x, pdf, label='Función de Densidad (PDF)', color='b')\n",
    "plt.axhline(y=1/(b-a), color='r', linestyle='--', label=f'Densidad constante = {1/(b-a):.3f}')\n",
    "plt.xlabel(\"Tiempo de espera (X)\")\n",
    "plt.ylabel(\"Densidad de probabilidad\")\n",
    "plt.title(\"Distribución Uniforme U(0.5,10)\")\n",
    "plt.legend()\n",
    "plt.grid()\n",
    "plt.show()\n",
    "\n",
    "# ---- 4. Función de distribución acumulada (CDF) y P(2.51 ≤ X ≤ 7.99) ----\n",
    "x_cdf = np.linspace(a - 1, b + 1, 1000)\n",
    "cdf = uniform.cdf(x_cdf, loc=a, scale=b-a)\n",
    "\n",
    "# Calcular P(2.51 ≤ X ≤ 7.99)\n",
    "prob_2_51_7_99 = uniform.cdf(7.99, loc=a, scale=b-a) - uniform.cdf(2.51, loc=a, scale=b-a)\n",
    "print(f\"Probabilidad de que 2.51 ≤ X ≤ 7.99: {prob_2_51_7_99:.4f}\")\n",
    "\n",
    "# Graficar la función de distribución acumulada (CDF)\n",
    "plt.figure(figsize=(8, 4))\n",
    "plt.plot(x_cdf, cdf, label='Función de Distribución Acumulada (CDF)', color='g')\n",
    "plt.xlabel(\"Tiempo de espera (X)\")\n",
    "plt.ylabel(\"Probabilidad acumulada\")\n",
    "plt.title(\"Distribución Acumulada U(0.5,10)\")\n",
    "plt.legend()\n",
    "plt.grid()\n",
    "plt.show()\n"
   ]
  },
  {
   "cell_type": "markdown",
   "id": "e239404c-c32d-4386-90a4-3f3cf7e6c094",
   "metadata": {},
   "source": [
    "### 2.2.2. Variable aleatoria exponencial con parámetro $\\lambda >0$."
   ]
  },
  {
   "cell_type": "markdown",
   "id": "3de24276-61e2-4476-a2a9-2e03546e7d44",
   "metadata": {},
   "source": [
    "La distribución exponencial es una de las distribuciones continuas más utilizadas. A menudo se utiliza para modelar el tiempo transcurrido entre eventos.  \n",
    "\n",
    "Algunos ejemplos en los que podría utilizarse la distribución exponencial son:\n",
    "* El tiempo transcurrido en un call center hasta recibir la primer llamada del día.\n",
    "* El  tiempo entre terremotos de una determinada magnitud.\n",
    "* Supongamos una máquina que produce hilo de alambre, la cantidad de metros de alambre hasta encontrar una falla en el alambre se podría modelar como una exponencial.\n",
    "\n",
    "**Definición:** Se dice que la variable aleatoria $X$ tiene distribución exponecial de parámetro $\\lambda>0$, si su función de densidad está dada por:\n",
    "$$f_{X}(x)=\\begin{cases}\n",
    "\\lambda e^{-\\lambda x} & x>0\\\\\n",
    "0 & \\text{en otro caso}\n",
    "\\end{cases}$$\n",
    "\n",
    "\n",
    "Notación. $X\\sim \\exp(\\lambda).$\n",
    "\n",
    "**Propiedad de pérdida de memoria:**\n",
    "$$\\mathbb{P}(X>t+s \\mid X>t)=\\mathbb{P}(X>s)=e^{-\\lambda s}.$$"
   ]
  },
  {
   "cell_type": "markdown",
   "id": "6443d9f0-18d2-43f3-87c7-ffc05cc45208",
   "metadata": {},
   "source": [
    "$\\color{red}{\\text{Ejercicio.}}$ Demostrar la propiedad de pérdida de memoria para $X\\sim \\exp(\\lambda)$.\n",
    "Usamos la definición de probabilidad condicional:\n",
    "\n",
    "$$\n",
    "\\mathbb{P}(X > s + t \\mid X > s) = \\frac{\\mathbb{P}(X > s + t \\cap X > s)}{\\mathbb{P}(X > s)} = \\frac{\\mathbb{P}(X > s + t)}{\\mathbb{P}(X > s)}\n",
    "$$\n",
    "\n",
    "Dado que $X \\sim \\exp(\\lambda)$, su función de supervivencia es:\n",
    "\n",
    "$$\n",
    "\\mathbb{P}(X > x) = e^{-\\lambda x}\n",
    "$$\n",
    "\n",
    "Sustituimos:\n",
    "\n",
    "$$\n",
    "\\frac{e^{-\\lambda (s + t)}}{e^{-\\lambda s}} = e^{-\\lambda t}\n",
    "$$\n",
    "\n",
    "Por lo tanto:\n",
    "\n",
    "$$\n",
    "\\mathbb{P}(X > s + t \\mid X > s) = \\mathbb{P}(X > t)\n",
    "$$\n",
    "\n",
    "Esto prueba que la distribución exponencial **no tiene memoria**: el tiempo adicional a esperar no depende de cuánto tiempo ya ha pasado."
   ]
  },
  {
   "cell_type": "code",
   "execution_count": null,
   "id": "891ef7ef-8cb1-4404-a250-f6b181bfd8f6",
   "metadata": {},
   "outputs": [],
   "source": [
    "import seaborn as sns\n",
    "\n",
    "# Parámetro lambda\n",
    "lamb = 1.5\n",
    "size = 100_000\n",
    "\n",
    "# Simulación de X ~ Exp(lambda)\n",
    "X = np.random.exponential(1/lamb, size)\n",
    "\n",
    "# Parámetros de tiempo\n",
    "s, t = 2, 3\n",
    "\n",
    "# Estimaciones por simulación\n",
    "P_cond = np.mean(X > s + t) / np.mean(X > s)\n",
    "P_direct = np.mean(X > t)\n",
    "\n",
    "print(f\"P(X > {s+t} | X > {s}) ≈ {P_cond:.4f}\")\n",
    "print(f\"P(X > {t}) ≈ {P_direct:.4f}\")\n",
    "\n",
    "# Gráfica de Distribucón exponencial\n",
    "sns.set(style=\"whitegrid\")\n",
    "\n",
    "plt.figure(figsize=(10, 6))\n",
    "sns.histplot(X[X > s] - s, bins=100, stat=\"density\", label=f\"$X - {s}$ dado $X > {s}$\", color='skyblue', kde=True)\n",
    "sns.histplot(X, bins=100, stat=\"density\", label=\"$X$\", color='salmon', kde=True, alpha=0.4)\n",
    "plt.axvline(t, color='black', linestyle='--', label=f\"$t = {t}$\")\n",
    "\n",
    "plt.title(\"Verificación visual de la propiedad de pérdida de memoria\")\n",
    "plt.xlabel(\"Tiempo\")\n",
    "plt.ylabel(\"Densidad\")\n",
    "plt.legend()\n",
    "plt.show()\n"
   ]
  },
  {
   "cell_type": "markdown",
   "id": "56c916e1-3b86-46d9-a443-0d76d3cbeb62",
   "metadata": {},
   "source": [
    "<font color=\"blue\">**EJEMPLO:**</font> Hipótesis natural para modelar las duraciones de vida de átomos radioactivas (Rutherford y Soddy). Cada átomo radioactivo posee una duración de vida que sigue una ley exponencial. En este campo, el parámetro $\\lambda$ se llama la constante de desintegración.\n",
    "\n",
    " Si $t\\mapsto \\rho(t)=\\mathbb{P}(X>t)$ verifica\n",
    "$$\\rho(t+s)=\\rho(t)\\rho(s),$$\n",
    "de manera que (derivando en $s$, con $s=0$),\n",
    "$$\\rho^{\\prime}(t)=-\\rho(t)\\lambda \\qquad \\ \\lambda=-\\rho^{\\prime}(0)\\geq 0.$$\n",
    "Así,\n",
    "$$\\rho(t)=e^{-\\lambda t} \\qquad \\text{y} \\qquad f(t)=\\lambda e^{-\\lambda t} \\ \\  \\rho(0)=1.$$\n",
    "\n",
    "La esperanza y varianza de de una distribución exponencial de la forma $$f_{X}(x)=\\begin{cases}\n",
    "\\frac{1}{\\lambda} e^{-\\frac{x}{\\lambda}} & x>0\\\\\n",
    "0 & \\text{en otro caso} \\end{cases}$$\n",
    "\n",
    "$$\\Rightarrow \\mathbb{E}[X]=\\lambda$$\n",
    "y\n",
    "$$\\Rightarrow \\text{Var}(X) =\\lambda^{2} $$\n"
   ]
  },
  {
   "cell_type": "markdown",
   "id": "16db0a17-704f-4032-a935-9726c59ebdfb",
   "metadata": {},
   "source": [
    "<font color=\"blue\">**EJEMPLO:**</font> Consideremos la variable aleatoria $X$ como el tiempo (en minutos) entre la llegada de dos personas a la fila  de una sucuarsal bancaria.\n",
    "\n",
    "Adicionalmente, el banco ha determinado que solo el $10\\%$ de las veces, el tiempo que transcurre entre la llegada de una persona y otra es mayor a dos minutos.\n",
    "\n",
    "Esto permite calcular el valor de $\\lambda$, ya que\n",
    "$$\\mathbb{P}(X>2)=0.1$$\n",
    "entonces\n",
    "$$1-\\mathbb{P}(X\\le 2) = 1-F_{X}(2) = 0.1$$\n",
    "\n",
    "Notemos que si $X\\sim Exp\\left( \\lambda \\right)$, entonces $F_{X})(x) = 1-e^{-\\frac{x}{\\lambda}}$\n",
    "\n",
    "Por lo que $F_{X}(2)= 1-e^{\\frac{-2}{\\lambda}} =0.9$, entonces\n",
    "$e^{\\frac{-2}{\\lambda}}=0.1$. Por lo que\n",
    "$$\\frac{-2}{\\lambda}=\\ln(0.1) \\Rightarrow \\lambda=0.87$$\n",
    "Por lo tanto $X\\sim\\exp(0.87)$.\n",
    "\n",
    "Ahora queremos calcular la probabilidad de que entre la llegada de una persona y otra transcurra por lo menos un minuto, lo cual puede calcularse de dos formas:\n",
    "\n",
    "\n",
    "\\begin{align*}\n",
    "\\mathbb{P}(X>1) &= \\int_{1}^{\\infty}f_{X}(x)dx = \\int_{1}^{\\infty}\\frac{1}{0.87}e^{\\frac{-x}{0.87}}dx = 0.32 \n",
    "\\end{align*}\n",
    "$ $\n",
    "\n",
    "\\begin{align*}\n",
    "\\mathbb{P}(X>1) &= 1-\\mathbb{P}(X\\le 1) = 1-\\left[1-e^{\\frac{-1}{0.87}}\\right] = -e^{\\frac{-1}{0.87}}\n",
    "\\end{align*}\n",
    "\n"
   ]
  },
  {
   "cell_type": "markdown",
   "id": "f9bb57f8-f039-42a0-989c-9718914a9d60",
   "metadata": {},
   "source": [
    "$\\color{red}{\\text{Ejercicio.}}$ Calcular las probabilidades con Scipy"
   ]
  },
  {
   "cell_type": "code",
   "execution_count": null,
   "id": "d2e949a9-4995-42fb-a3a2-b6a4b5d798fb",
   "metadata": {},
   "outputs": [],
   "source": [
    "from scipy.stats import expon\n",
    "from scipy.integrate import quad\n",
    "\n",
    "# Dato del problema\n",
    "P_X_mayor_2 = 0.1\n",
    "\n",
    "# Encontrar lambda a partir de: e^{-2/λ} = 0.1\n",
    "lambda_ = -2 / np.log(0.1)\n",
    "print(f\"λ = {lambda_:.2f}\")\n",
    "\n",
    "# Definir la distribución exponencial\n",
    "X = expon(scale=lambda_)  # escala = 1/lambda\n",
    "\n",
    "# Forma 1: por integral directa\n",
    "P1, _ = quad(X.pdf, 1, np.inf)\n",
    "\n",
    "# Forma 2: con función de distribución acumulada\n",
    "P2 = 1 - X.cdf(1)\n",
    "\n",
    "print(f\"P(X > 1) por integral = {P1:.4f}\")\n",
    "print(f\"P(X > 1) por CDF = {P2:.4f}\")\n",
    "\n",
    "# Visualización: función de densidad y área desde x=1\n",
    "x_vals = np.linspace(0, 6, 500)\n",
    "y_vals = X.pdf(x_vals)\n",
    "\n",
    "plt.figure(figsize=(10, 5))\n",
    "plt.plot(x_vals, y_vals, label=\"Función de densidad $f_X(x)$\", color='blue')\n",
    "plt.fill_between(x_vals, y_vals, where=(x_vals > 1), color='skyblue', alpha=0.5, label=\"$P(X > 1)$\")\n",
    "plt.axvline(1, color='gray', linestyle='--')\n",
    "plt.title(\"Distribución Exponencial con λ ≈ 0.87\")\n",
    "plt.xlabel(\"x\")\n",
    "plt.ylabel(\"Densidad\")\n",
    "plt.legend()\n",
    "plt.grid(True)\n",
    "plt.show()\n"
   ]
  },
  {
   "cell_type": "markdown",
   "id": "01218b3e-54e1-4798-b603-6b7ff602ab6a",
   "metadata": {},
   "source": [
    "Una propiedad interesante de la distribución exponencial es que puede verse como un análogo continuo de la distribución geométrica. Para ver esto, recuerde el experimento aleatorio detrás de la distribución geométrica: lanza una moneda (repite un experimento de Bernoulli) hasta que observa las primeras caras (éxito).\n",
    "\n",
    "\n",
    "$\\mathbf{Teorema.-}$ Sea $\\varepsilon>0$ y $Y_{\\epsilon}\\sim Geo(p_{\\varepsilon})$. Supongamos que nos encontramos en el regimen:\n",
    "$$\\lim_{\\varepsilon\\to 0}p_{\\varepsilon}=0 \\qquad \\text{y} \\qquad \\varepsilon^{-1}p_{\\varepsilon}\\sim \\lambda>0$$\n",
    "   Sea $X_{\\varepsilon}:=\\varepsilon Y_{\\varepsilon}$. Entonces,\n",
    "   $$\\lim_{\\varepsilon\\to 0}F_{X_{\\varepsilon}}(x)=F_{X}(x),$$\n",
    "   en donde $X\\sim \\exp(\\lambda)$. Este también es un resultado de convergencia en ley.\n",
    "\n",
    "Visualicemos lo anterior:"
   ]
  },
  {
   "cell_type": "code",
   "execution_count": null,
   "id": "8025295b-cfe2-4089-85d6-e653a6b612a7",
   "metadata": {},
   "outputs": [],
   "source": [
    "from scipy.stats import expon\n",
    "\n",
    "# Configuración de estilo\n",
    "sns.set(style=\"whitegrid\")\n",
    "plt.rcParams.update({'font.size': 12})\n",
    "\n",
    "# Parámetros\n",
    "lambda_ = 2\n",
    "epsilons = [0.5, 0.2, 0.1, 0.05]\n",
    "n = 100000\n",
    "\n",
    "# Crear figura\n",
    "fig, axs = plt.subplots(2, 2, figsize=(14, 10), sharex=True, sharey=True)\n",
    "axs = axs.flatten()\n",
    "\n",
    "# Rango para la densidad teórica\n",
    "x = np.linspace(0, 5, 1000)\n",
    "pdf = lambda_ * np.exp(-lambda_ * x)\n",
    "\n",
    "# Dibujar cada histograma\n",
    "for i, epsilon in enumerate(epsilons):\n",
    "    p_epsilon = lambda_ * epsilon\n",
    "    Y = np.random.geometric(p_epsilon, size=n)\n",
    "    X_epsilon = epsilon * Y\n",
    "\n",
    "    sns.histplot(X_epsilon, bins=80, stat='density', element='step',\n",
    "                 fill=True, color='skyblue', edgecolor='blue', alpha=0.4, ax=axs[i])\n",
    "\n",
    "    axs[i].plot(x, pdf, 'r--', linewidth=2, label='Densidad Exponencial')\n",
    "    axs[i].set_title(f'ε = {epsilon}', fontsize=14)\n",
    "    axs[i].legend()\n",
    "    axs[i].set_xlim(0, 5)\n",
    "    axs[i].set_ylim(0, lambda_ + 1)\n",
    "    axs[i].grid(True, linestyle='--', alpha=0.5)\n",
    "\n",
    "# Etiquetas generales\n",
    "fig.suptitle('Convergencia de $X_\\\\varepsilon = \\\\varepsilon Y_\\\\varepsilon$ a una Distribución Exponencial(λ)', fontsize=18)\n",
    "for ax in axs[2:]:\n",
    "    ax.set_xlabel('$x$', fontsize=13)\n",
    "for ax in axs[::2]:\n",
    "    ax.set_ylabel('Densidad', fontsize=13)\n",
    "\n",
    "plt.tight_layout(rect=[0, 0.04, 1, 0.96])\n",
    "plt.show()\n"
   ]
  },
  {
   "cell_type": "markdown",
   "id": "4b6260fe-ec3a-413f-954b-fa784c2ce0c1",
   "metadata": {},
   "source": [
    "También, tenemos el siguiente resultado:\n",
    "\n",
    "$\\mathbf{Teorema.-}$ Sea $X\\sim \\exp(1)$. Si $Y=\\min\\{k\\in \\mathbb{Z}: k\\geq \\lambda X \\}$, con $\\lambda>0$, entonces\n",
    "$$Y\\sim Geo\\left(p=1-e^{-1/\\lambda} \\right).$$"
   ]
  },
  {
   "cell_type": "markdown",
   "id": "d219c015-f2b2-4b56-869e-6bfb60b69a4e",
   "metadata": {},
   "source": [
    "### 2.2.3. Variable aletoria Geométrica."
   ]
  },
  {
   "cell_type": "markdown",
   "id": "50258f3d-4f18-4986-85ff-8d70bb2a17e8",
   "metadata": {},
   "source": [
    "**Definición:** Una **variable aleatoria geométrica** $Y$ con parámetro $p \\in (0,1]$ representa el número de ensayos hasta el primer éxito en una secuencia de ensayos de Bernoulli independientes.\n",
    "\n",
    "Se denota:\n",
    "\n",
    "$$\n",
    "Y \\sim \\text{Geom}(p)\n",
    "$$\n",
    "\n",
    "Su función de masa de probabilidad (pmf)\n",
    "\n",
    "$$\n",
    "\\mathbb{P}(Y = k) = (1 - p)^{k - 1} p, \\quad \\text{para } k = 1, 2, 3, \\dots\n",
    "$$\n",
    "\n",
    "Esto indica que se producen $k - 1$ fracasos antes del primer éxito, que ocurre en el ensayo número $k$.\n",
    "\n",
    "- **Esperanza:**\n",
    "\n",
    "  $$\n",
    "  \\mathbb{E}[Y] = \\frac{1}{p}\n",
    "  $$\n",
    "\n",
    "- **Varianza:**\n",
    "\n",
    "  $$\n",
    "  \\text{Var}(Y) = \\frac{1 - p}{p^2}\n",
    "  $$\n",
    "\n",
    "- **Soporte:** $\\{1, 2, 3, \\dots\\}$\n",
    "\n",
    "- **Propiedad de falta de memoria:**\n",
    "\n",
    "  $$\n",
    "  \\mathbb{P}(Y > m + n \\mid Y > m) = \\mathbb{P}(Y > n)\n",
    "  $$"
   ]
  },
  {
   "cell_type": "markdown",
   "id": "9782acde-c6ab-4f4a-8146-1cd769d52871",
   "metadata": {},
   "source": [
    "#### Gráfica de la v.a. Geométrica."
   ]
  },
  {
   "cell_type": "code",
   "execution_count": null,
   "id": "d1efd8b7-8891-4d4f-bb40-6d1a3c96de7a",
   "metadata": {
    "scrolled": true
   },
   "outputs": [],
   "source": [
    "from scipy.stats import geom\n",
    "\n",
    "# Parámetro de la geométrica\n",
    "p = 0.3\n",
    "\n",
    "# Simular datos\n",
    "np.random.seed(0)\n",
    "muestras = np.random.geometric(p, size=10000)\n",
    "\n",
    "# Graficar histograma\n",
    "plt.figure(figsize=(8, 5))\n",
    "plt.hist(muestras, bins=np.arange(1, 25) - 0.5, density=True, alpha=0.6, color='skyblue', edgecolor='black', label='Simulación')\n",
    "\n",
    "# Comparar con la pmf teórica\n",
    "k = np.arange(1, 25)\n",
    "pmf_teorica = geom.pmf(k, p)\n",
    "plt.plot(k, pmf_teorica, 'o-', color='red', label='PMF teórica')\n",
    "\n",
    "plt.title('Distribución Geométrica (p = 0.3)')\n",
    "plt.xlabel('Número de ensayos hasta el primer éxito')\n",
    "plt.ylabel('Probabilidad')\n",
    "plt.xticks(k)\n",
    "plt.legend()\n",
    "plt.grid(True, linestyle='--', alpha=0.7)\n",
    "plt.show()"
   ]
  },
  {
   "cell_type": "markdown",
   "id": "8769148b-bdf4-4014-820b-d60e933c456e",
   "metadata": {},
   "source": [
    "### 2.2.4.  Variable aleatoria normal con parámetros media $\\mu$ y varianza $\\sigma^{2}$."
   ]
  },
  {
   "cell_type": "markdown",
   "id": "989e6588-dde5-48af-aa1e-1f024ef91755",
   "metadata": {},
   "source": [
    "La **distribución normal** es una de las más importantes y de mayor uso tanto en la teoría de la probabilidad, como en la teoría estadística.\n",
    "\n",
    "También llamada distribución gaussiana, en honor a Gauss, a quien se considera el padre de ésta distribución.\n",
    "\n",
    "La importancia de la distribución normal, radica en el famoso Teorema central del límite. Fue descubierta por De Moivre en 1733 como un límite de la distribución binomial.\n",
    "\n",
    "\n",
    "La importancia de esta distribución radica en que permite modelar numerosos fenómenos naturales, sociales y psicológicos, por ejemplo:\n",
    "* Estatura\n",
    "* Efectos de un fármaco\n",
    "* Consumo de cierto producto por un grupo de individuos\n",
    "* Coeficiente intelectual\n",
    "* Nivel de ruido en telecomunicaciones\n",
    "* Errores cometidos al medir ciertas magnitudes\n",
    "\n",
    "Además, esta distribución juega un papel de suma importancia en la inferencia estadística.\n",
    "\n",
    "**Definición:** Se dice que la variable aleatoria $X$ tiene distribución normal de parámetros $\\mu$ y $\\sigma^{2}$, donde $\\mu,\\sigma\\in\\mathbb{R}$ y $\\sigma>0$, si su función de densidad está dada por:\n",
    "$$f_{X}(x)=\\begin{cases}\n",
    "\t\\frac{1}{\\sqrt{2\\pi\\sigma^{2}}}e^{-\\frac{(x-\\mu)^{2}}{2\\sigma^{2}}} &\\quad \\text{si }  x \\in\\mathbb{R} \\\\\n",
    "\t\\qquad 0 &\\quad \\text{e.o.c}  \n",
    "\\end{cases}$$\n",
    "\n",
    "**Notación.** $X\\sim N(\\mu,\\sigma^{2})$\n",
    "\n",
    "\n",
    "Tal curva (**la campana de Gauss-Bell**) es una función que depende de los parámetros $\\mu$ y $\\sigma^{2}$.\n",
    "\n",
    "Sabemos que:\n",
    "* La varianza es usada como una medida para comparar la dispersión en dos o más conjuntos de observaciones.\n",
    "* Una desviación estándar pequeña indica que los valores de la variable aleatoria se encuentran cercanos a la media.\n",
    "* Una desviación estándar grande indica que los valores de la variable aleatoria se dispersan mucho con respecto a la media.\n",
    "\n",
    "La función de distribución de una variable aleatoria $X\\sim N(\\mu,\\sigma^{2})$ está dada por:\n",
    "$$F_{X}(x) = \\int_{-\\infty}^{x}\\frac{1}{\\sqrt{2\\pi\\sigma^{2}}}e^{-\\frac{(y-\\mu)^{2}}{2\\sigma^{2}}}dy$$\n",
    "\n",
    "- La **media** de la distribución es:\n",
    "\n",
    "  $$\n",
    "  \\mathbb{E}[X] = \\mu\n",
    "  $$\n",
    "\n",
    "- La **varianza** de la distribución es:\n",
    "\n",
    "  $$\n",
    "  \\mathrm{Var}(X) = \\sigma^2\n",
    "  $$\n",
    "\n",
    "\n",
    "Esta nos proporciona la probabilidad de que $X$ tome calores menores o iguales a un valor específico $x$, y corresponde al área bajo la curva en el intervalo $(-\\infty,x]$:\n",
    "\n",
    "No es sencillo calcular $F_{X}(x)$, pero cualquier v.a. gaussiana puede transformarse a una v.a. estandarizada. Existen tablas para esta v.a., lo cual hace los cálculos más fáciles.\n",
    "\n",
    "\n",
    "**Proposición:**  Sea $X\\sim N(\\mu,\\sigma^{2})$, entonces\n",
    "$$Z=\\frac{X-\\mu}{\\sigma}$$\n",
    "tiene una distribución gaussiana con media $0$ y varianza $1$, es decir, $Z\\sim N(0,1)$.\n",
    "\n"
   ]
  },
  {
   "cell_type": "markdown",
   "id": "dca2e2bb-96eb-40fd-ab2d-eb076425564f",
   "metadata": {},
   "source": [
    "#### Gráfica de la v.a. Normal."
   ]
  },
  {
   "cell_type": "code",
   "execution_count": null,
   "id": "6c1df440-2acf-4b6a-ae9f-437afac188fd",
   "metadata": {},
   "outputs": [],
   "source": [
    "from scipy.stats import norm\n",
    "fig, ax = plt.subplots()\n",
    "x= np.arange(-4,4,0.001) #generar valores de x\n",
    "ax.set_title('N(0,$1^2$)')\n",
    "ax.set_xlabel('x')\n",
    "ax.set_ylabel('f(x)')\n",
    "ax.plot(x, norm.pdf(x))\n",
    "ax.set_ylim(0,0.45)\n",
    "plt.show()"
   ]
  },
  {
   "cell_type": "markdown",
   "id": "b242da2a-acce-44c3-966d-a7129d3bfa2e",
   "metadata": {},
   "source": [
    "Propiedades de la función de densidad de probabilidades de una distribución normal estándar:\n",
    "\n",
    "1. Es positiva: $f(x)\\geq 0$ para todo $x$ real.\n",
    "2. Es continua y derivable en todas partes.\n",
    "3. Es simétrica alrededor de $\\mu$.\n",
    "4. Conforme $x$ toma valores muy grandes de manera positiva y negativa, la función decrece hacia cero muy rápidamente.\n",
    "5. Tiene un máximo global.\n",
    "6. El área total bajo la curva es igual a $1$."
   ]
  },
  {
   "cell_type": "markdown",
   "id": "84f2f2f7-8b08-4bf7-a377-050ed7c1897f",
   "metadata": {},
   "source": [
    "Veamos el comportamiento de la función conforme se cambia la varianza."
   ]
  },
  {
   "cell_type": "code",
   "execution_count": null,
   "id": "25327a5c-7bf5-45d2-bf28-16df28d42ef5",
   "metadata": {},
   "outputs": [],
   "source": [
    "from scipy.stats import norm\n",
    "fig, ax = plt.subplots()\n",
    "x = np.linspace(-10,10,100)\n",
    "stdvs = [0.5, 0.7, 1.0, 2.0, 3.0, 4.0]\n",
    "for s in stdvs:\n",
    "    ax.plot(x, norm.pdf(x,scale=s), label='stdv=%.1f' % s)\n",
    "\n",
    "ax.set_xlabel('x')\n",
    "ax.set_ylabel('pdf(x)')\n",
    "ax.set_title('Distribución normal')\n",
    "ax.legend(loc='best', frameon=True)\n",
    "ax.set_ylim(0,1)\n",
    "ax.grid(True)"
   ]
  },
  {
   "cell_type": "code",
   "execution_count": null,
   "id": "22cee00e-9112-4e8b-a628-fe61790508bd",
   "metadata": {
    "scrolled": true
   },
   "outputs": [],
   "source": [
    "from scipy.stats import norm\n",
    "fig, ax = plt.subplots()\n",
    "x = np.linspace(-10,10,100)\n",
    "means = [-1.0,-2.0, -1.0, 0.0, 1.0, 2.0, 5.0]\n",
    "for mean in means:\n",
    "    ax.plot(x, norm.pdf(x,loc=mean), label='mean=%.1f' % mean)\n",
    "\n",
    "ax.set_xlabel('x')\n",
    "ax.set_ylabel('pdf(x)')\n",
    "ax.set_title('Distribución normal')\n",
    "ax.legend(loc='best', frameon=True)\n",
    "ax.set_ylim(0,0.45)\n",
    "ax.grid(True)"
   ]
  },
  {
   "cell_type": "markdown",
   "id": "ea99df3d-3842-4a19-9a69-4523a3dc8952",
   "metadata": {},
   "source": [
    "#### 2.2.4.1. Función de distribución acumulativa de una normal $N(\\mu,\\sigma^2)$.\n",
    "\n",
    "Gracias a las propiedades anteriores, es posible calcular áreas delimitadas de la función $f$. Si $a$ y $b$ son reales cualesquiera, denotaremos por\n",
    "$$P(a\\leq X\\leq b),$$\n",
    "la probabilidad de que $X$ esté en el intervalo $[a,b]$, al área bajo la curva de $f(x)$ sobre el intervalo $[a,b]$.\n",
    "\n",
    "También, $P(X\\leq x)$ denotara al área bajo la curva de la función $f(x)$ sobre el intervalo $(-\\infty,x)$ y $P(X>x)$ denotara al área bajo la curva de la función $f(x)$ sobre el intervalo $(x, \\infty)$."
   ]
  },
  {
   "cell_type": "markdown",
   "id": "2dee80cf-c026-4dca-8fdf-8b66cb23fee6",
   "metadata": {},
   "source": [
    "A la probabilidad $\\text{cdf}(x):=P(X\\leq x)$ se llama la distribución acumulativa (hasta el valor $x$) de $f(x)$.\n",
    "\n",
    "Con la notación anterior,\n",
    "$$P(a\\leq X\\leq b)=\\text{cdf}(b)-\\text{cdf}(a)$$\n",
    "y\n",
    "$$\\text{sf}(a):=P(X>a)=1-\\text{cdf}(a).$$"
   ]
  },
  {
   "cell_type": "markdown",
   "id": "2814dc43-fb4c-4bfb-bd17-2d2c5621f6db",
   "metadata": {},
   "source": [
    "#### Gráfica de la Distribución normal acumulativa."
   ]
  },
  {
   "cell_type": "code",
   "execution_count": null,
   "id": "0b00f442-b7da-486c-a8f2-64dc8236107e",
   "metadata": {},
   "outputs": [],
   "source": [
    "from scipy.stats import norm\n",
    "fig, ax = plt.subplots()\n",
    "# for distribution curve\n",
    "x= np.arange(-4,4,0.001)\n",
    "ax.plot(x, norm.pdf(x))\n",
    "ax.set_title(\"Distribución normal acumulativa\")\n",
    "ax.set_xlabel('x')\n",
    "ax.set_ylabel('pdf(x)')\n",
    "ax.grid(True)\n",
    "# for fill_between\n",
    "px=np.arange(-4,1,0.01)\n",
    "ax.set_ylim(0,0.5)\n",
    "ax.fill_between(px,norm.pdf(px),alpha=0.5, color='g')\n",
    "# for text\n",
    "ax.text(-1,0.1,\"cdf(x)\", fontsize=20)\n",
    "plt.show()"
   ]
  },
  {
   "cell_type": "markdown",
   "id": "8c5052d0-3c0c-492c-9e60-8eeed49f2dad",
   "metadata": {},
   "source": [
    "#### Cálculo de probabilidades de una distribución normal."
   ]
  },
  {
   "cell_type": "markdown",
   "id": "990c2cf8-e7a8-4f61-97dc-167253cf8a00",
   "metadata": {},
   "source": [
    "<font color=\"blue\">**EJEMPLO:**</font> Calculemos $\\text{cdf}(2)=\\mathbb{P}(X<2)$ cuando $X\\sim N(3,2^2)$.\n",
    "$$Z = \\frac{X-\\mu}{\\sqrt{\\sigma^2}} \\sim N(0,1)$$"
   ]
  },
  {
   "cell_type": "code",
   "execution_count": null,
   "id": "4b8fe994-6e29-417e-a20c-e807ac8ac70f",
   "metadata": {},
   "outputs": [],
   "source": [
    "norm.cdf(x=2, loc=3, scale=2) #v.a. con media=3 y st=2"
   ]
  },
  {
   "cell_type": "code",
   "execution_count": null,
   "id": "ca3bafad-7fd6-4d59-86b9-713cde3930eb",
   "metadata": {},
   "outputs": [],
   "source": [
    "from scipy.stats import norm\n",
    "fig, ax = plt.subplots()\n",
    "# for distribution curve\n",
    "x= np.arange(-4,10,0.001)\n",
    "ax.plot(x, norm.pdf(x,loc=3,scale=2))\n",
    "ax.set_title(\"N(3,$2^2$)\")\n",
    "ax.set_xlabel('x')\n",
    "ax.set_ylabel('pdf(x)')\n",
    "ax.grid(True)\n",
    "# for fill_between\n",
    "px=np.arange(-4,2,0.01)\n",
    "ax.set_ylim(0,0.25)\n",
    "ax.fill_between(px,norm.pdf(px,loc=3,scale=2),alpha=0.5, color='g')\n",
    "# for text\n",
    "ax.text(-0.5,0.02,round(norm.cdf(x=2, loc=3, scale=2),2), fontsize=20)\n",
    "plt.show()"
   ]
  },
  {
   "cell_type": "code",
   "execution_count": null,
   "id": "c46686d0-6d46-4d04-b67d-8d7d11c2c587",
   "metadata": {},
   "outputs": [],
   "source": [
    "s=np.sqrt(2)\n",
    "norm(1, s).cdf(2) - norm(1,s).cdf(0.5)"
   ]
  },
  {
   "cell_type": "code",
   "execution_count": null,
   "id": "6ca6ee15-b670-47eb-af09-991cc5b650dd",
   "metadata": {},
   "outputs": [],
   "source": [
    "fig, ax = plt.subplots()\n",
    "x= np.arange(-6,8,0.001)\n",
    "ax.plot(x, norm.pdf(x,loc=1,scale=2))\n",
    "ax.set_title(\"N(1,$2^2$)\")\n",
    "ax.set_xlabel('x')\n",
    "ax.set_ylabel('pdf(x)')\n",
    "ax.grid(True)\n",
    "px=np.arange(0.5,2,0.01)\n",
    "ax.set_ylim(0,0.25)\n",
    "ax.fill_between(px,norm.pdf(px,loc=1,scale=2),alpha=0.5, color='g')\n",
    "pro=norm(1, 2).cdf(2) - norm(1,2).cdf(0.5)\n",
    "ax.text(0.2,0.02,round(pro,2), fontsize=20)\n",
    "plt.show()"
   ]
  },
  {
   "cell_type": "markdown",
   "id": "fbbabe10-53f1-49dc-b8b2-d8ac882080da",
   "metadata": {},
   "source": [
    "<font color=\"blue\">**EJEMPLO IMPORTANTE:**</font> Si $Z\\sim N(0,1)$, encuentra $\\mathbb{P}(-1.93 < Z < 1.93)$. La probabilidad buscada es:"
   ]
  },
  {
   "cell_type": "code",
   "execution_count": null,
   "id": "d04c95ed-f484-4f88-93b0-8bb0f01bfb26",
   "metadata": {},
   "outputs": [],
   "source": [
    "norm(0,1).cdf(1.93)-norm(0,1).cdf(-1.93)"
   ]
  },
  {
   "cell_type": "code",
   "execution_count": null,
   "id": "98958ef4-dbf1-4d0a-9e55-ee3dc3b7f80f",
   "metadata": {},
   "outputs": [],
   "source": [
    "fig, ax = plt.subplots()\n",
    "# for distribution curve\n",
    "x= np.arange(-3,3,0.001)\n",
    "ax.plot(x, norm.pdf(x,loc=0,scale=1))\n",
    "ax.set_title(\"N(0,$1^2$)\")\n",
    "ax.set_xlabel('x')\n",
    "ax.set_ylabel('pdf(x)')\n",
    "ax.grid(True)\n",
    "px=np.arange(-1.93,1.93,0.01)\n",
    "ax.set_ylim(0,0.45)\n",
    "ax.fill_between(px,norm.pdf(px,loc=0,scale=1),alpha=0.5, color='g')\n",
    "pro=norm(0, 1).cdf(1.93) - norm(0,1).cdf(-1.93)\n",
    "ax.text(0.2,0.02,round(pro,2), fontsize=20)\n",
    "plt.show()"
   ]
  },
  {
   "cell_type": "markdown",
   "id": "a596545f-90e1-43e1-b5b4-9c69a6e72c23",
   "metadata": {},
   "source": [
    "**Cálculo de probabilidades:**\n",
    "$\\mathbb{P}(0<Z<b)$: \n",
    "Queremos calcular $\\mathbb{P}(0<Z<0.43)$, lo cuál puede realizarse de la siguiente manera:\n",
    "* Tablas de área a la derecha: $\\mathbb{P}(0<Z<0.43) = 0.1664$\n",
    "\n",
    "$\\mathbb{P}(-b<Z<b)$: Queremos calcular $\\mathbb{P}(-0.16<Z<0.16)$, lo cuál puede realizarse de la siguiente manera:\n",
    "* Tablas de área a la derecha:  $\\mathbb{P}(-0.16<Z<0.16) = \\mathbb{P}(-0.16<Z<0)+\\mathbb{P} (0<Z<0.16) = \\mathbb{P}(0<Z<0.16)+\\mathbb{P}(0<Z<0.16) = 2\\mathbb{P}(0<Z<0.16) = 2(0.0636) = 0.1272$\n",
    "\n",
    "$\\mathbb{P}(Z<-b)$: Queremos calcular $\\mathbb{P}(Z<-1.94)$, lo cuál puede realizarse de la siguiente manera:\n",
    "* Tablas de área a la derecha: $\\mathbb{P}(Z<-1.94) = \\mathbb{P}(Z<0)+\\mathbb{P}(-1.94<Z<0) = \\mathbb{P}(Z<0) + \\mathbb{P}(0<Z<1.94) = 0.5 - 0.4738 = 0.0262$\n",
    "\n",
    "$\\mathbb{P}(Z>-b)$: Queremos calcular $(Z>-0.07)$, lo cuál puede realizarse de la siguiente manera:\n",
    "* Tablas de área a la derecha: $\\mathbb{P}(Z>-0.07) = \\mathbb{P}(-0.07<Z<0) + \\mathbb{P}(Z>0) = \\mathbb{P}(0<Z<0.07) + \\mathbb{P}(Z>0) = 0.0279 + 0.5 = 0.5279$"
   ]
  },
  {
   "cell_type": "code",
   "execution_count": null,
   "id": "fdea8c28-3b6d-4f20-9959-7c5002f677c1",
   "metadata": {
    "scrolled": true
   },
   "outputs": [],
   "source": [
    "import numpy as np\n",
    "import matplotlib.pyplot as plt\n",
    "from scipy.stats import norm\n",
    "\n",
    "# Rango de valores Z para la gráfica\n",
    "z = np.linspace(-3, 3, 1000)\n",
    "pdf = norm.pdf(z)\n",
    "\n",
    "# Crear figura y subplots\n",
    "fig, axs = plt.subplots(2, 2, figsize=(12, 8))\n",
    "fig.suptitle('Distribución Normal Estándar - Probabilidades', fontsize=16)\n",
    "\n",
    "# --- Cuadrante 1: P(0 < Z < 0.43) ---\n",
    "x1 = np.linspace(0, 0.43, 100)\n",
    "axs[0, 0].plot(z, pdf, color='blue')\n",
    "axs[0, 0].fill_between(x1, norm.pdf(x1), color='orange', alpha=0.5)\n",
    "axs[0, 0].set_title(r'$\\mathbb{P}(0 < Z < 0.43)$')\n",
    "axs[0, 0].grid(True)\n",
    "\n",
    "# --- Cuadrante 2: P(-0.16 < Z < 0.16) ---\n",
    "x2 = np.linspace(-0.16, 0.16, 100)\n",
    "axs[0, 1].plot(z, pdf, color='blue')\n",
    "axs[0, 1].fill_between(x2, norm.pdf(x2), color='green', alpha=0.5)\n",
    "axs[0, 1].set_title(r'$\\mathbb{P}(-0.16 < Z < 0.16)$')\n",
    "axs[0, 1].grid(True)\n",
    "\n",
    "# --- Cuadrante 3: P(Z < -1.94) ---\n",
    "x3 = np.linspace(-3, -1.94, 100)\n",
    "axs[1, 0].plot(z, pdf, color='blue')\n",
    "axs[1, 0].fill_between(x3, norm.pdf(x3), color='red', alpha=0.5)\n",
    "axs[1, 0].set_title(r'$\\mathbb{P}(Z < -1.94)$')\n",
    "axs[1, 0].grid(True)\n",
    "\n",
    "# --- Cuadrante 4: P(Z > -0.07) ---\n",
    "x4 = np.linspace(-0.07, 3, 1000)\n",
    "axs[1, 1].plot(z, pdf, color='blue')\n",
    "axs[1, 1].fill_between(x4, norm.pdf(x4), color='purple', alpha=0.5)\n",
    "axs[1, 1].set_title(r'$\\mathbb{P}(Z > -0.07)$')\n",
    "axs[1, 1].grid(True)\n",
    "\n",
    "# Ajustar distribución de subplots\n",
    "for ax in axs.flat:\n",
    "    ax.set_xlim([-3, 3])\n",
    "    ax.set_ylim([0, 0.45])\n",
    "    ax.axhline(0, color='black', linewidth=0.5)\n",
    "    ax.axvline(0, color='black', linewidth=0.5)\n",
    "\n",
    "plt.tight_layout(rect=[0, 0.03, 1, 0.95])\n",
    "plt.show()\n"
   ]
  },
  {
   "cell_type": "markdown",
   "id": "c61d3e00-fb04-4a68-add7-9a0b1a02ae20",
   "metadata": {},
   "source": [
    "### 2.2.5. Variable aleatoria Gamma con parámetros $\\alpha$ y $\\lambda$."
   ]
  },
  {
   "cell_type": "markdown",
   "id": "1fc33fe0-8f04-4cc1-9f5b-e05d8e6d7bf8",
   "metadata": {},
   "source": [
    "La distribución gamma se obtiene al considerar el tiempo que transcurre entre cierto número de ocurrencias de eventos que ocurren aleatoriamente en el tiempo\n",
    "\n",
    "La función gamma $\\Gamma:(0,\\infty)\\to \\mathbb{R}$ está definida como\n",
    "\t$$\\Gamma(\\alpha)=\\int_{0}^{\\infty}t^{\\alpha-1}e^{-t}dt.$$\n",
    "\n",
    "\n",
    "\n",
    "*Propiedades de la función gamma*.\n",
    "- $\\Gamma(\\alpha)<\\infty$ para cualquier $\\alpha>0$.\n",
    "- $\\Gamma(\\alpha+1)=\\alpha\\Gamma(\\alpha)$.\n",
    "- Si $n\\geq 1$ $\\Gamma(n)=(n-1)!$\n",
    "- $\\Gamma\\left(\\frac{1}{2} \\right)=\\sqrt{\\pi}$.\n",
    "\n",
    "\n",
    "\n",
    " Si $\\alpha$ y $\\lambda$ son reales positivos, decimos que una variable aleatoria $X$ tiene distribución gamma con parámetros $\\alpha$ y $\\lambda$ si tiene por función de densidad:\n",
    "\t$$\\displaystyle f_{X}(x)=\\begin{cases}\n",
    "\t\\displaystyle \\frac{\\lambda^{\\alpha}x^{\\alpha-1}e^{-\\lambda x} }{\\Gamma(\\alpha)} & x>0\\\\\n",
    "\t0 & \\text{en otro caso}\n",
    "\t\\end{cases}$$\n",
    "En esta caso, escribimos la información anterior como $X\\sim \\Gamma(\\alpha,\\lambda) $\n",
    "La esperanza, $\\text{E}[X]$ para una variable aleatoria $X\\sim Γ(\\alpha, \\lambda)$ es:\n",
    "\n",
    "$$\n",
    "\\mathbb{E}(X) = \\frac{\\alpha}{\\lambda}\n",
    "$$\n",
    "y su varianza es:\n",
    "$$\n",
    "\\text{Var}(X) = \\frac{\\alpha}{\\lambda^2}\n",
    "$$\n",
    "\n",
    "\n",
    "\n",
    "La distribución gamma es esencial en varios campos por su capacidad para modelar tiempos de espera y eventos con tasas constantes. Sus aplicaciones incluyen:\n",
    "\n",
    "  * $\\textbf{Teoría de colas y procesos estocásticos:}$ Modela el tiempo de espera hasta el k-ésimo evento.\n",
    "  * $\\textbf{Confiabilidad y análisis de supervivencia:}$ Utilizada para tiempos de fallo y eventos críticos en medicina.\n",
    "  * $\\textbf{Hidrología y meteorología:}$ Aplica en la modelación de precipitaciones acumuladas y tamaños de gotas.\n",
    "  * $\\textbf{Procesamiento de imágenes y señales:}$ En el ajuste de modelos a datos de intensidades.\n",
    "  * $\\textbf{Finanzas:}$ Para rendimientos de activos que no siguen distribuciones normales.\n",
    "  * $\\textbf{Biología y ecología:}$ Para tasas de crecimiento y tiempos entre eventos biológicos.\n",
    "  * $\\textbf{Física:}$ Describe tiempos de decaimiento y distribuciones de energía.\n"
   ]
  },
  {
   "cell_type": "markdown",
   "id": "628e6219-c7c2-434d-b0bb-2be228a3e233",
   "metadata": {},
   "source": [
    "<font color=\"blue\">**EJEMPLO:**</font> Una computadora cuántica cuenta con un tipo de aparato de medición, el cual tiene un tiempo de vida que se distribuye exponencialmente, de tal manera que su tiempo promedio de vida es de  $1000$ horas. Si se utilizan $10$ de estos aparatos en forma consecutiva, uno de ellos después de que el anterior ya no funciona. ¿Cuál es la probabilidad de que alguno de los aparatos estará funcionando después de $10,000$ horas?\n",
    "\n",
    "\n",
    "**Solución.**\n",
    "Sea $X$ el tiempo total de vida de los $5$ aparatos, usados, como se indica, uno después del otro. Entonces $X\\sim \\Gamma(10, 0.001)$. Así,\n",
    "$$\\mathbb{P}(X>10000)=\\int_{10000}^{\\infty}\\frac{(0.001)^{10}}{9!}x^{9}e^{-0.001x}dx=0.4579.$$"
   ]
  },
  {
   "cell_type": "code",
   "execution_count": null,
   "id": "f8d99741-a494-47d8-9b3f-2d1556cadaff",
   "metadata": {},
   "outputs": [],
   "source": [
    "from scipy.stats import gamma\n",
    "\n",
    "# Parámetros de la distribución\n",
    "k = 10            # parámetro de forma\n",
    "theta = 1000      # parámetro de escala (theta = 1/lambda)\n",
    "x = 10000\n",
    "\n",
    "# Calcular la probabilidad P(X > 10000)\n",
    "prob = gamma.sf(x, a=k, scale=theta)\n",
    "\n",
    "print(f\"P(X > {x}) = {prob:.4f}\")\n"
   ]
  },
  {
   "cell_type": "markdown",
   "id": "b9ceb362-dba5-405e-a649-a20f08c6bce2",
   "metadata": {},
   "source": [
    "<font color=\"blue\">**EJEMPLO:**</font>  Consideremos un call center donde los tiempos entre llamadas son independientes y se distribuyen exponencialmente con una media de 3 minutos. Supongamos que queremos encontrar la probabilidad de que transcurran más de 30 minutos antes de recibir 10 llamadas.\n",
    "\n",
    "\n",
    "**Solución.**\n",
    "Sea $X$ el tiempo total para recibir $10$ llamadas. Dado que el tiempo medio entre llamadas es de $3$ minutos. Entonces $X \\sim \\Gamma(10, \\frac{1}{3})$. Así\n",
    "$$P(X > 30) = \\int_{30}^{\\infty} \\frac{\\left(\\frac{1}{3}\\right)^{10} x^{9} e^{-\\frac{x}{3}}}{9!} \\, dx = 0.45793.$$\n",
    "\n",
    "**Nota.** Si $X\\sim N(0,1)$, entonces $X^{2}\\sim \\Gamma\\left(\\frac{1}{2}, \\frac{1}{2} \\right)$.\n",
    "En efecto, Para $z>0$, se tiene:\n",
    "\t$$F_{X^{2}}(z)=\\mathbb{P}(X^2\\leq z)=\\mathbb{P}(-\\sqrt{z}\\leq X\\leq \\sqrt{z})=F_{X}(\\sqrt{z})-F_{X}(-\\sqrt{z}).$$\n",
    "Por lo tanto,\n",
    "$$f_{X^2}(z)=\\frac{d F_{X^{2}}(z)}{dz}=\\frac{1}{2\\sqrt{z}}f_{X}(\\sqrt{z})+\\frac{1}{2\\sqrt{z}}f_{X}(-\\sqrt{z})=\\frac{1}{\\sqrt{z}}f_{X}(z).$$\n",
    "Ahora,\n",
    "$$f_{X}(\\sqrt{z})=\\frac{1}{\\sqrt{2\\pi}}e^{-\\frac{1}{2}z}.$$"
   ]
  },
  {
   "cell_type": "code",
   "execution_count": null,
   "id": "a15f956d-0ec8-491e-9146-7187e2438449",
   "metadata": {},
   "outputs": [],
   "source": [
    "from scipy.stats import gamma\n",
    "\n",
    "# Parámetros de la distribución Gamma\n",
    "k = 10          # parámetro de forma\n",
    "theta = 3       # parámetro de escala (theta = 1 / lambda)\n",
    "x = 30\n",
    "\n",
    "# Calcular P(X > 30)\n",
    "prob = gamma.sf(x, a=k, scale=theta)\n",
    "\n",
    "print(f\"P(X > {x}) = {prob:.5f}\")\n"
   ]
  },
  {
   "cell_type": "markdown",
   "id": "d2d731c5-df90-44bb-a964-d9bf22764729",
   "metadata": {},
   "source": [
    "#### Gráfica de la v.a. Gamma"
   ]
  },
  {
   "cell_type": "code",
   "execution_count": null,
   "id": "95967c50-5dbd-4837-9967-24a95b41f6a5",
   "metadata": {},
   "outputs": [],
   "source": [
    "import numpy as np\n",
    "import matplotlib.pyplot as plt\n",
    "from scipy.stats import gamma\n",
    "\n",
    "# Parámetros de la distribución Gamma\n",
    "shape_param = 2  # Parámetro de forma (k o α)\n",
    "scale_param = 1  # Parámetro de escala (θ)\n",
    "\n",
    "# Generar valores de x\n",
    "x = np.linspace(0, 10, 1000)\n",
    "\n",
    "# Calcular la PDF de la distribución Gamma\n",
    "gamma_pdf = gamma.pdf(x, a=shape_param, scale=scale_param)\n",
    "\n",
    "# Graficar la PDF de la distribución Gamma\n",
    "plt.figure(figsize=(8, 5))\n",
    "plt.plot(x, gamma_pdf, label=f'Gamma(α={shape_param}, θ={scale_param})', color='purple')\n",
    "plt.xlabel('x')\n",
    "plt.ylabel('Densidad de probabilidad')\n",
    "plt.title('Función de Densidad de la Distribución Gamma')\n",
    "plt.grid(True)\n",
    "plt.legend()\n",
    "plt.show()"
   ]
  },
  {
   "cell_type": "markdown",
   "id": "670868ce-e047-4598-92b0-a6e5f615c1ee",
   "metadata": {},
   "source": [
    "- Si $\\alpha = 1$, $\\lambda > 0 \\Rightarrow$ v.a. exponencial.\n",
    "\n",
    "- Si $\\lambda = \\frac{1}{2}$, $\\alpha = \\frac{k}{2}$, $k \\in \\mathbb{Z}^{+} \\Rightarrow$ ji-cuadrada.\n",
    "\n",
    "- Si $\\lambda > 1$ y $\\alpha > 1 \\Rightarrow$ Erlang $\\Rightarrow$ aplicaciones."
   ]
  },
  {
   "cell_type": "markdown",
   "id": "bccec098-d6fc-4cb6-a3de-d6054c10d608",
   "metadata": {},
   "source": [
    "### 2.2.6. Variable aleatoria Beta con parámetros $\\alpha$ y $\\beta$."
   ]
  },
  {
   "cell_type": "markdown",
   "id": "1d3d8f38-4649-43b3-a3b1-fa148b9e94e3",
   "metadata": {},
   "source": [
    "La distribución beta es una familia de distribuciones de probabilidad continua definida en el intervalo [0, 1]. Es particularmente útil para modelar variables que representan proporciones y porcentajes.\n",
    "\n",
    "La función beta, $B(\\alpha, \\beta)$, se define como:\n",
    "\n",
    "$$\n",
    "B(\\alpha, \\beta) = \\int_0^1 t^{\\alpha-1}(1-t)^{\\beta-1} dt = \\frac{\\Gamma(\\alpha) \\Gamma(\\beta)}{\\Gamma(\\alpha + \\beta)}\n",
    "$$\n",
    "\n",
    "La función de densidad de probabilidad de la distribución beta se expresa como:\n",
    "\n",
    "$$\n",
    "f_X(x) = \\frac{x^{\\alpha-1}(1-x)^{\\beta-1}}{B(\\alpha, \\beta)},\n",
    "$$\n",
    "con $x\\in (0,1)$.\n",
    "\n",
    "**Notación.** $X\\sim \\text{Beta}(\\alpha, \\beta)$.\n",
    "\n",
    "\n",
    "\n",
    "**Esperanza y Varianza.**\n",
    "Si $X\\sim \\text{Beta}(\\alpha, \\beta)$, entonces\n",
    "  $$\\mathbb{E}[X] = \\frac{\\alpha}{\\alpha + \\beta}$$\n",
    "y\n",
    "  $$\\text{Var}(X) = \\frac{\\alpha \\beta}{(\\alpha + \\beta)^2 (\\alpha + \\beta + 1)}.$$"
   ]
  },
  {
   "cell_type": "markdown",
   "id": "2022b93b-0bdf-4c67-a535-dca791f9ffec",
   "metadata": {},
   "source": [
    "#### Gráfica de la v.a. Beta"
   ]
  },
  {
   "cell_type": "code",
   "execution_count": null,
   "id": "c1b40b63-5fad-4a90-814c-c776d4210aea",
   "metadata": {},
   "outputs": [],
   "source": [
    "from scipy.stats import beta\n",
    "\n",
    "def funcion_beta(alpha, beta_param, size=1000):\n",
    "    # Generar una muestra de la distribución Beta\n",
    "    muestra = beta.rvs(alpha, beta_param, size=size)\n",
    "    \n",
    "    # Graficar el histograma de la muestra\n",
    "    plt.hist(muestra, bins=30, density=True, alpha=0.6, color='g')\n",
    "    \n",
    "    # Graficar la función de densidad de la distribución Beta\n",
    "    x = np.linspace(0, 1, 1000)\n",
    "    y = beta.pdf(x, alpha, beta_param)\n",
    "    plt.plot(x, y, 'r-', lw=2)\n",
    "    \n",
    "    plt.title(f\"Distribución Beta con alpha={alpha}, beta={beta_param}\")\n",
    "    plt.xlabel('x')\n",
    "    plt.ylabel('Densidad')\n",
    "    plt.show()\n",
    "\n",
    "# Ejemplo de uso\n",
    "funcion_beta(2, 5)\n"
   ]
  },
  {
   "cell_type": "markdown",
   "id": "c5cdaf49-87b2-4845-adaa-e1a22e83cd76",
   "metadata": {},
   "source": [
    "**Aplicaciones en la Vida Real**\n",
    "\n",
    "La distribución beta se utiliza en una variedad de campos, incluyendo:\n",
    "- Finanzas: para modelar la variabilidad en tasas de retorno de inversiones.\n",
    "- Mercadotecnia: para analizar proporciones de respuesta de consumidores.\n",
    "- Ciencias de la salud: en la evaluación de la efectividad de tratamientos médicos.\n",
    "- Ecología: para estimar proporciones en estudios de biodiversidad."
   ]
  },
  {
   "cell_type": "markdown",
   "id": "70bd0e84-f4b8-4c25-8288-fb89fc7c5bdf",
   "metadata": {},
   "source": [
    "<font color=\"blue\">**EJEMPLO:**</font> Supongamos que un análisis sugiere que una nueva inversión tiene una alta probabilidad de éxito. Usando una distribución beta con $\\alpha = 5$ y $\\beta = 1$, entonces:\n",
    "\n",
    "$$\n",
    "f_{X}(x) = 5x^4, \\quad \\mathbb{E}[X] = \\frac{5}{6}, \\quad \\text{Var}(X) = \\frac{5}{252}\n",
    "$$"
   ]
  },
  {
   "cell_type": "code",
   "execution_count": null,
   "id": "04741226-e478-44cc-b886-d2e2315e9358",
   "metadata": {},
   "outputs": [],
   "source": [
    "import numpy as np\n",
    "import matplotlib.pyplot as plt\n",
    "from scipy.stats import beta\n",
    "\n",
    "# Parámetros\n",
    "alpha = 5\n",
    "beta_param = 1\n",
    "\n",
    "# Definir el rango de x\n",
    "x = np.linspace(0, 1, 1000)\n",
    "pdf = beta.pdf(x, a=alpha, b=beta_param)\n",
    "\n",
    "# Calcular esperanza y varianza\n",
    "mean = beta.mean(a=alpha, b=beta_param)\n",
    "variance = beta.var(a=alpha, b=beta_param)\n",
    "\n",
    "# Mostrar resultados\n",
    "print(f\"E[X] = {mean:.5f}\")\n",
    "print(f\"Var(X) = {variance:.5f}\")\n",
    "\n",
    "# Graficar la función de densidad\n",
    "plt.figure(figsize=(8, 5))\n",
    "plt.plot(x, pdf, color='darkorange', label=r'$f_X(x) = 5x^4$')\n",
    "plt.title(r'Distribución Beta(5, 1)')\n",
    "plt.xlabel('x')\n",
    "plt.ylabel('Densidad')\n",
    "plt.grid(True)\n",
    "plt.legend()\n",
    "plt.show()\n"
   ]
  },
  {
   "cell_type": "markdown",
   "id": "2059799c-698e-4bad-ab0b-b9d80e60940e",
   "metadata": {},
   "source": [
    "## 2.3. Simulación de Variables Aleatorias."
   ]
  },
  {
   "cell_type": "markdown",
   "id": "87616898-5c62-488b-8658-5cc64a3f1385",
   "metadata": {},
   "source": [
    "Daremos recopilación de métodos para generar variables aleatorias utilizados en simulación computacional. Se abordan distribuciones uniformes, exponenciales, normales, binomiales y Poisson, entre otras, así como técnicas como la transformada inversa y el método del rechazo.\n",
    "\n",
    "Ejemplos comunes en simulación:\n",
    "- Tiempo entre llegada de cada persona  \n",
    "- Número de personas por minuto  \n",
    "- Número de artículos por persona  \n",
    "- Cantidad de dinero ganado cada hora  \n",
    "- Tiempo de atención por cliente  \n",
    "- Número de veces que la cajera solicita ayuda durante la jornada  \n",
    "- Cantidad de gente que está formada  \n",
    "- Número de personas que pagan con tarjeta"
   ]
  },
  {
   "cell_type": "markdown",
   "id": "753c2235-5e84-4e12-8ff5-f553a4056c2a",
   "metadata": {},
   "source": [
    "### 2.3.1. Métodos de generación de números aleatorios rectangulares."
   ]
  },
  {
   "cell_type": "markdown",
   "id": "7f097af0-a9ef-4875-b2b1-815277c79e62",
   "metadata": {},
   "source": [
    "La generación de variables aleatorias con esta distribución es importante porque las variables que tengan una distribución diferente, tendrán que usar a ésta como base.\n",
    "\n",
    "- Cada posible resultado entre $a$ y $b$ tiene la misma probabilidad $1/n$.\n",
    "\n",
    "Las variables generadas deben cumplir con:\n",
    "- Los valores generados deben ser independientes y estar idénticamente distribuidos\n",
    "- La secuencia generada debe ser lo más larga posible y ser reproducibles\n",
    "- Debe permitir generar múltiples secuencias\n",
    "- Que usen poca memoria\n",
    "\n",
    "Históricamente se han usado cuatro tipos de métodos para generar sucesiones de números rectangulares:\n",
    "- Métodos manuales\n",
    "- Tablas de biblioteca\n",
    "- Computación analógica\n",
    "- Computación digital"
   ]
  },
  {
   "cell_type": "markdown",
   "id": "8e024aa7-ba9f-4c7f-911f-15b531417947",
   "metadata": {},
   "source": [
    "La generación de los números aleatorios rectangulares debe realizarse a través de relaciones matemáticas de recurrencia. Por esta razón se consideran **pseudoaleatorios**, ya que el proceso para generarlos es determinístico.\n",
    "\n",
    "Hay dos métodos que son los más utilizados para la generación. Ambos se basan en la siguiente definición:\n",
    "\n",
    "**Definición.** Dos enteros $a$ y $b$ son congruentes módulo $m$ si su diferencia es un múltiplo entero de $m$ y se expresa como\n",
    "$$𝑎 \\equiv 𝑏 ( \\text{𝑚o𝑑 } 𝑚)$$\n",
    "Como consecuencia:\n",
    "- $(a-b)$ es divisible entre $m$\n",
    "- $a$ y $b$ dan el mismo residuo al ser divididos entre $m$"
   ]
  },
  {
   "cell_type": "markdown",
   "id": "e6682183-46c4-4179-b6f9-c1c1eea525f2",
   "metadata": {},
   "source": [
    "#### 2.3.1.1. Método congruencial multiplicativo."
   ]
  },
  {
   "cell_type": "markdown",
   "id": "11380b86-0614-4f68-81de-de616ba41ea1",
   "metadata": {},
   "source": [
    "Generar una secuencia de números pseudoaleatorios uniformes en el intervalo (0, 1) usando la siguiente fórmula recursiva:\n",
    "\n",
    "$$n_{i+1} = a n_i \\mod m$$\n",
    "- $m$ debe ser tan grande como sea posible, dependiendo de los bits por palabra que maneje la computadora, descontando el bit del signo ($b$). Por lo tanto: $m = 2^b$\n",
    "- $a$ debe satisfacer que $a \\approx 2^{(b+1)/2}$ y que $a \\equiv \\pm 3 \\mod 8$. La segunda expresión equivale a $( a-(\\pm3 ) )$ es múltiplo de $8$.\n",
    "- $n_0$: entero positivo impar menor a $m$\n",
    "- El periodo será de longitud: $m/4$"
   ]
  },
  {
   "cell_type": "markdown",
   "id": "1aeec43f-f771-48af-b125-9c022e80fa1d",
   "metadata": {},
   "source": [
    "<font color=\"blue\">**EJEMPLO:**</font>"
   ]
  },
  {
   "cell_type": "code",
   "execution_count": null,
   "id": "593ae537-333a-4b3e-a858-673206ea727f",
   "metadata": {},
   "outputs": [],
   "source": [
    "# n0 : valor inicial o semilla\n",
    "# a : multiplicador\n",
    "# m : modulo (2^b)\n",
    "# n : el número de numeros que quiero generar\n",
    "\n",
    "def multiplicativo(n0,a,m,n):\n",
    "    secuencia = []\n",
    "    ni = n0 # iniciar con una semilla\n",
    "    for _ in range(n):\n",
    "        ni = (a * ni) % m # calculo el sig numero utilizando la formula recurrente\n",
    "        secuencia.append(ni/m) # normaliza entre 0 y 1\n",
    "    return secuencia"
   ]
  },
  {
   "cell_type": "code",
   "execution_count": null,
   "id": "dc0b809d-908b-4e8b-b855-9d52c3783bb1",
   "metadata": {},
   "outputs": [],
   "source": [
    "m = 2**31\n",
    "a = 65539 # a ≡  +-3 mod 8\n",
    "n0 = 12345\n",
    "n=10\n",
    "\n",
    "secuencia_mult = multiplicativo(n0,a,m,n)\n",
    "print(secuencia_mult)"
   ]
  },
  {
   "cell_type": "code",
   "execution_count": null,
   "id": "94268977-f62e-4d62-9e62-afb07bb70abe",
   "metadata": {},
   "outputs": [],
   "source": [
    "import numpy as np\n",
    "import plotly.graph_objects as go # Para gráficos interactivos\n",
    "\n",
    "# Generamos ambas secuencias\n",
    "secuencia_mult = multiplicativo(n0,a,m,n)\n",
    "secuencia_numpy = np.random.uniform(0,1,n)\n",
    "\n",
    "# figura con Plotly\n",
    "fig = go.Figure()\n",
    "\n",
    "# Añadir los histogramas\n",
    "fig.add_trace(go.Histogram(\n",
    "    x=secuencia_mult,\n",
    "    nbinsx = 40,\n",
    "    opacity = 0.6,\n",
    "    name = 'Método multiplicativo',\n",
    "    marker_color='red'\n",
    "))\n",
    "\n",
    "fig.add_trace(go.Histogram(\n",
    "    x=secuencia_numpy,\n",
    "    nbinsx = 40,\n",
    "    opacity = 0.6,\n",
    "    name = 'Numpy random uniform',\n",
    "    marker_color='blue'\n",
    "))\n",
    "\n",
    "fig.update_layout(\n",
    "    barmode='overlay', #superpone los histogramas\n",
    "    title = 'Compararación: Método multiplicativo -vs- Numpy',\n",
    "    xaxis_title='valor generado',\n",
    "    yaxis_title='Frecuencia',\n",
    "    legend_title='Método',\n",
    "    bargap=0.05\n",
    ")\n",
    "\n",
    "fig.show()"
   ]
  },
  {
   "cell_type": "markdown",
   "id": "1d447141-25aa-4c4a-a362-a3d02b7a0860",
   "metadata": {},
   "source": [
    "#### 2.3.1.2. Método congruencial mixto."
   ]
  },
  {
   "cell_type": "markdown",
   "id": "1e9fda8a-543c-477f-97b0-dc953c2d9c8f",
   "metadata": {},
   "source": [
    "Este método genera números pseudoaleatorios con la fórmula: \n",
    "$$n_{i+1} = (a n_i + c) \\mod m$$\n",
    "\n",
    "**Obs.** Se le llama “mixto” porque incluye una constante adicional $c$ (a diferencia del método multiplicativo).\n",
    "\n",
    "- $m = 2^b$\n",
    "- $a \\approx 2^{(b-1)/2}$, $a \\equiv 1 \\mod 4$\n",
    "- $c$, $n_0$: enteros positivos impares $< m$"
   ]
  },
  {
   "cell_type": "markdown",
   "id": "f43ac846-f8a5-4e2b-97bd-8e3774b182b8",
   "metadata": {},
   "source": [
    "<font color=\"blue\">**EJEMPLO:**</font>"
   ]
  },
  {
   "cell_type": "code",
   "execution_count": null,
   "id": "fe15a2c1-c64e-4fff-9b51-13593a562eff",
   "metadata": {},
   "outputs": [],
   "source": [
    "# n0 : valor inicial o semilla\n",
    "# a : multiplicador\n",
    "# c : deber ser impar\n",
    "# m : modulo (2^b)\n",
    "# n : el número de numeros que quiero generar\n",
    "\n",
    "def mixto(n0,a,c,m,n):\n",
    "    secuencia = []\n",
    "    ni = n0 # iniciar con una semilla\n",
    "    for _ in range(n):\n",
    "        ni = (a * ni + c) % m # calculo el sig numero utilizando la formula recurrente\n",
    "        secuencia.append(ni/m) # normaliza entre 0 y 1\n",
    "    return secuencia"
   ]
  },
  {
   "cell_type": "code",
   "execution_count": null,
   "id": "a227b5fe-1c7f-4157-9bfe-b7c485b5e971",
   "metadata": {},
   "outputs": [],
   "source": [
    "m = 2**31\n",
    "a = 1103515245 # a cong 1 mod----\n",
    "c = 12345\n",
    "n0 = 42\n",
    "n= 10\n",
    "\n",
    "secuencia_mixto = mixto(n0,a,c,m,n)\n",
    "print(secuencia_mixto)"
   ]
  },
  {
   "cell_type": "code",
   "execution_count": null,
   "id": "2affc650-e46b-4001-bf74-b36c76cfe179",
   "metadata": {},
   "outputs": [],
   "source": [
    "# Generamos ambas secuencias\n",
    "secuencia_mixto = mixto(n0,a,c,m,n)\n",
    "secuencia_numpy = np.random.uniform(0,1,n)\n",
    "\n",
    "# figura con Plotly\n",
    "fig = go.Figure()\n",
    "\n",
    "# Añadir los histogramas\n",
    "fig.add_trace(go.Histogram(\n",
    "    x=secuencia_mixto,\n",
    "    nbinsx = 40,\n",
    "    opacity = 0.6,\n",
    "    name = 'Método mixto',\n",
    "    marker_color='red'\n",
    "))\n",
    "\n",
    "fig.add_trace(go.Histogram(\n",
    "    x=secuencia_numpy,\n",
    "    nbinsx = 40,\n",
    "    opacity = 0.6,\n",
    "    name = 'Numpy random uniform',\n",
    "    marker_color='blue'\n",
    "))\n",
    "\n",
    "fig.update_layout(\n",
    "    barmode='overlay', #superpone los histogramas\n",
    "    title = 'Compararación: Método mixto -vs- Numpy',\n",
    "    xaxis_title='valor generado',\n",
    "    yaxis_title='Frecuencia',\n",
    "    legend_title='Método',\n",
    "    bargap=0.05\n",
    ")\n",
    "\n",
    "fig.show()"
   ]
  },
  {
   "cell_type": "markdown",
   "id": "6e07c22b-50fb-4be2-97ab-5d7af5c93483",
   "metadata": {},
   "source": [
    "| **Método**     | **Fórmula**                            | **Ventajas**                                          | **Riesgos / Limitaciones**                                |\n",
    "|----------------|----------------------------------------|-------------------------------------------------------|------------------------------------------------------------|\n",
    "| Multiplicativo | \\( n_{i+1} = a n_i \\mod m \\)           | Rápido, menos memoria                                 | Menor aleatoriedad, requiere \\( a, m, n_0 \\) bien elegidos |\n",
    "| Mixto          | \\( n_{i+1} = (a n_i + c) \\mod m \\)     | Mejor distribución, periodo completo posible          | Más complejo, pero más robusto                             |\n",
    "| NumPy (`uniform`) | Motor moderno y validado           | Alta calidad, probado, rápido                         | Caja negra, sin control del generador interno              |\n"
   ]
  },
  {
   "cell_type": "code",
   "execution_count": null,
   "id": "eab0144d-8284-49c0-8072-11c2f043c997",
   "metadata": {},
   "outputs": [],
   "source": [
    "import random\n",
    "n = 1000\n",
    "\n",
    "# Generar secuencia usando random.random()\n",
    "secuencia_random = [random.random() for _ in range(n)]\n",
    "\n",
    "# Generar secuencia usando numpy\n",
    "secuencia_numpy = np.random.uniform(0, 1, n)\n",
    "\n",
    "# Graficar histogramas\n",
    "fig = go.Figure()\n",
    "\n",
    "fig.add_trace(go.Histogram(\n",
    "    x=secuencia_random,\n",
    "    nbinsx=40,\n",
    "    opacity=0.6,\n",
    "    name='random.random()',\n",
    "    marker_color='crimson'\n",
    "))\n",
    "\n",
    "fig.add_trace(go.Histogram(\n",
    "    x=secuencia_numpy,\n",
    "    nbinsx=40,\n",
    "    opacity=0.6,\n",
    "    name='numpy.random.uniform',\n",
    "    marker_color='royalblue'\n",
    "))\n",
    "\n",
    "fig.update_layout(\n",
    "    barmode='overlay',\n",
    "    title='Comparación: random.random() vs numpy.random.uniform',\n",
    "    xaxis_title='Valor generado',\n",
    "    yaxis_title='Frecuencia',\n",
    "    legend_title='Método',\n",
    "    bargap=0.05\n",
    ")\n",
    "\n",
    "fig.show()"
   ]
  },
  {
   "cell_type": "markdown",
   "id": "3861e358-d4da-46d3-99cc-713c71c6f588",
   "metadata": {},
   "source": [
    "### 2.3.2. Métodos de generación de números aleatorios no rectangulares."
   ]
  },
  {
   "cell_type": "markdown",
   "id": "a1e7a8cd-5014-4309-87a0-61b1e20a6b1a",
   "metadata": {},
   "source": [
    "Los **métodos de generación de números aleatorios no rectangulares** son técnicas utilizadas para generar muestras aleatorias a partir de distribuciones de probabilidad que no tienen una forma rectangular o uniforme. Es decir, se emplean cuando la distribución de probabilidad no tiene una densidad constante, sino que es más compleja o depende de otros parámetros.\n",
    "\n",
    "Estos métodos son necesarios cuando la distribución que queremos simular tiene una forma específica que no puede ser directamente modelada usando la distribución uniforme $U(0,1)$."
   ]
  },
  {
   "cell_type": "markdown",
   "id": "07509e25-3654-4f99-85d5-88f9040deac9",
   "metadata": {},
   "source": [
    "#### 2.3.2.1. Método de la transformada inversa."
   ]
  },
  {
   "cell_type": "markdown",
   "id": "c9d11570-e289-493c-b3d3-e14de494d9e2",
   "metadata": {},
   "source": [
    "El método utiliza la función de distribución $F(x)$ de la distribución que se va a simular \n",
    "$$F(x) = \\int_{-\\infty}^{x} f(t)\\,dt$$"
   ]
  },
  {
   "cell_type": "code",
   "execution_count": null,
   "id": "03f8935b-2852-404c-8606-457dc5909da2",
   "metadata": {},
   "outputs": [],
   "source": [
    "import numpy as np\n",
    "import matplotlib.pyplot as plt\n",
    "from scipy.stats import beta\n",
    "\n",
    "# Parámetros de la distribución Beta\n",
    "alpha = 2\n",
    "beta_param = 5\n",
    "\n",
    "# Rango de x\n",
    "x = np.linspace(0, 1, 1000)\n",
    "\n",
    "# Función de densidad y distribución acumulada\n",
    "pdf = beta.pdf(x, alpha, beta_param)\n",
    "cdf = beta.cdf(x, alpha, beta_param)\n",
    "\n",
    "# Crear la figura con dos subplots\n",
    "fig, axs = plt.subplots(1, 2, figsize=(12, 5))\n",
    "\n",
    "# Gráfica de f(x)\n",
    "axs[0].plot(x, pdf, color='blue')\n",
    "axs[0].set_title(r'$f(x)$ - Densidad Beta(2, 5)')\n",
    "axs[0].set_xlabel('x')\n",
    "axs[0].set_ylabel('Densidad')\n",
    "axs[0].grid(True)\n",
    "\n",
    "# Gráfica de F(x)\n",
    "axs[1].plot(x, cdf, color='green')\n",
    "axs[1].set_title(r'$F(x)$ - Función de distribución acumulada')\n",
    "axs[1].set_xlabel('x')\n",
    "axs[1].set_ylabel('Probabilidad acumulada')\n",
    "axs[1].grid(True)\n",
    "\n",
    "plt.tight_layout()\n",
    "plt.show()\n"
   ]
  },
  {
   "cell_type": "markdown",
   "id": "eb4d0407-d8d4-4763-b973-984aecfc6754",
   "metadata": {},
   "source": [
    "Como se sabe, los valores de $F(x)$ están en el intervalo $(0,1)$ al igual que los números rectangulares $U$. \n",
    "\n",
    "El método genera un $U$ y trata de determinar el valor de la variable aleatoria para la cual $F(x)$ sea igual a $U$.\n",
    "\n",
    "Si $U \\in (0,1)$:\n",
    "$$ F(x) = U \\quad \\Rightarrow \\quad x = F^{-1}(U)$$"
   ]
  },
  {
   "cell_type": "code",
   "execution_count": null,
   "id": "aada5a40-141f-4f6a-9c2f-0fd870a3a865",
   "metadata": {},
   "outputs": [],
   "source": [
    "import numpy as np\n",
    "import matplotlib.pyplot as plt\n",
    "from scipy.stats import beta\n",
    "\n",
    "# Parámetros Beta(2,5)\n",
    "alpha = 2\n",
    "beta_param = 5\n",
    "\n",
    "# Dominio x y valores de F(x)\n",
    "x = np.linspace(0, 1, 1000)\n",
    "cdf = beta.cdf(x, alpha, beta_param)\n",
    "\n",
    "# Valor uniforme simulado\n",
    "u = 0.7  # Puedes cambiarlo\n",
    "x_inv = beta.ppf(u, alpha, beta_param)\n",
    "\n",
    "# Gráfica\n",
    "plt.figure(figsize=(8, 5))\n",
    "plt.plot(x, cdf, label=r'$F(x)$ - CDF Beta(2,5)', color='green')\n",
    "plt.axhline(u, color='blue', linestyle='--', label=fr'$U = {u}$')\n",
    "plt.axvline(x_inv, color='red', linestyle='--', label=fr'$x = F^{{-1}}({u:.2f}) \\approx {x_inv:.3f}$')\n",
    "\n",
    "# Anotaciones\n",
    "plt.title('Método de la Transformada Inversa sobre la CDF de Beta(2,5)')\n",
    "plt.xlabel('x')\n",
    "plt.ylabel('F(x)')\n",
    "plt.legend()\n",
    "plt.grid(True)\n",
    "plt.show()\n"
   ]
  },
  {
   "cell_type": "markdown",
   "id": "47844bfd-eb84-4338-8824-4dd8b6f16138",
   "metadata": {},
   "source": [
    "$\\mathbf{Teorema}.$ Sea $X$ una variable aleatoria real. Supongamos que su función de distribución $F$ es estrictamente creciente (por lo que $F$ es una biyección de $\\mathbb{R}$ sobre $(0,1)$ y podemos denotar por $F^{-1}$ a su inversa). Sea $U\\sim \\text{unif}[0,1]$. Entonces $F^{-1}(U)$ tiene la misma ley que $X$.\n",
    "\n",
    "Si $F$ no es estrictamente creciente, hemos visto que el teorema precedente sigue siendo válido bajo la condición de definir \n",
    "$$F^{-1}(u)=\\inf\\{ x\\in \\mathbb{R} : F(x)\\geq u\\},$$\n",
    "la inversa generalizada de $F$."
   ]
  },
  {
   "cell_type": "markdown",
   "id": "efb66fa8-d676-47d8-b7c6-74e8d27cddf8",
   "metadata": {},
   "source": [
    "<font color=\"blue\">**EJEMPLO:**</font> v.a Bernoulli."
   ]
  },
  {
   "cell_type": "code",
   "execution_count": null,
   "id": "b65b6026-5e83-4c21-8436-86cdc2570e64",
   "metadata": {},
   "outputs": [],
   "source": [
    "# Vamos a simular una v.a. Bernoulli usando una Uniforme\n",
    "import random\n",
    "def bernoulli(p):\n",
    "    u = random.random() # U -> Unif(0,1)\n",
    "    return 1 if u <= p else 0"
   ]
  },
  {
   "cell_type": "code",
   "execution_count": null,
   "id": "2a39a576-057a-417e-80c3-bdbcb3048c62",
   "metadata": {},
   "outputs": [],
   "source": [
    "# Simulamos n valores con p de éxito\n",
    "p = 0.5\n",
    "simulaciones = [bernoulli(p) for _ in range(100)]\n",
    "print(simulaciones)"
   ]
  },
  {
   "cell_type": "code",
   "execution_count": null,
   "id": "7539bfed-2a57-47f1-8c0b-89253d84678c",
   "metadata": {},
   "outputs": [],
   "source": [
    "sum(simulaciones)"
   ]
  },
  {
   "cell_type": "markdown",
   "id": "594804dc-c6c6-4a74-a0c9-40dc743f4325",
   "metadata": {},
   "source": [
    "<font color=\"blue\">**EJEMPLO:**</font> Distribución exponencial.\n",
    "\n",
    "Sea $\\theta,\\lambda>0$, entonces a través del teorema se puede generar una v.a. exponencial.\n",
    "\n",
    "Sea $U \\sim Unif[0,1]$, entonces si $X\\sim Exp(\\lambda)$, entonces\n",
    "\n",
    "$$f_{X}(x) = \\lambda e^{-\\lambda x}$$ \n",
    "y que \n",
    "$$ F_X(x) = 1-e^{-\\lambda x} $$\n",
    "\n",
    "Sabemos que $1-e^{-\\lambda x} = U$, entonces $1-U = e^{-\\lambda x}$, y tomando logaritmo, se tiene que \n",
    "$ \\ln(1-U) = -\\lambda x$ y como $U$ es uniforme entonces $U \\sim 1-U$, por lo que depejando a $x$, se tiene que \n",
    "$$ X = -\\frac{\\ln(U)}{\\lambda} \\sim Exp(\\lambda) $$"
   ]
  },
  {
   "cell_type": "code",
   "execution_count": null,
   "id": "cd03fee5-f3a5-47fb-b172-2d6aab4aa70b",
   "metadata": {},
   "outputs": [],
   "source": [
    "import numpy as np\n",
    "import plotly.graph_objects as go\n",
    "\n",
    "# Semilla\n",
    "np.random.seed(123)\n",
    "\n",
    "# Parámetro de la exponencial\n",
    "lambd = 4\n",
    "n = 10000\n",
    "\n",
    "# Simulación usando transformada inversa\n",
    "uniformes = np.random.random(n)\n",
    "exponenciales = -np.log(uniformes) / lambd\n",
    "\n",
    "# Curva teórica\n",
    "x_vals = np.linspace(0, exponenciales.max(), 300)\n",
    "y_vals = lambd * np.exp(-lambd * x_vals)\n",
    "\n",
    "# Gráfico\n",
    "fig = go.Figure()\n",
    "\n",
    "fig.add_trace(go.Histogram(\n",
    "    x=exponenciales,\n",
    "    nbinsx=40,\n",
    "    histnorm='probability density',\n",
    "    marker_color='skyblue',\n",
    "    name='Simulación'\n",
    "))\n",
    "\n",
    "fig.add_trace(go.Scatter(\n",
    "    x=x_vals,\n",
    "    y=y_vals,\n",
    "    mode='lines',\n",
    "    name='Densidad teórica',\n",
    "    line=dict(color='darkblue')\n",
    "))\n",
    "\n",
    "fig.update_layout(\n",
    "    title='Distribución Exponencial simulada vs teórica (λ = 1)',\n",
    "    xaxis_title='x',\n",
    "    yaxis_title='Densidad',\n",
    "    bargap=0.05\n",
    ")\n",
    "\n",
    "fig.show()"
   ]
  },
  {
   "cell_type": "markdown",
   "id": "0fbe4720-32f3-4e98-a988-79ab6be64076",
   "metadata": {},
   "source": [
    "<font color=\"blue\">**EJEMPLO:**</font> Distribución Uniforme Continua.\n",
    "$$f(x) = \\frac{1}{b-a}, \\quad a \\leq x \\leq b$$\n",
    "$$F(x) = \\frac{x-a}{b-a} = U \\Rightarrow x = a + (b-a)U$$"
   ]
  },
  {
   "cell_type": "code",
   "execution_count": null,
   "id": "596c7c87-eb52-4d86-93cb-7e42a29549e4",
   "metadata": {
    "scrolled": true
   },
   "outputs": [],
   "source": [
    "# Parámetros de la uniforme\n",
    "a, b = 2, 5\n",
    "n = 10000\n",
    "\n",
    "# Simulación por transformación lineal\n",
    "uniformes = np.random.random(n)\n",
    "uniforme_continua = a + (b - a) * uniformes\n",
    "\n",
    "# Densidad teórica (constante)\n",
    "x_vals = np.linspace(a, b, 300)\n",
    "y_vals = np.ones_like(x_vals) * (1 / (b - a))\n",
    "\n",
    "# Gráfico\n",
    "fig = go.Figure()\n",
    "\n",
    "fig.add_trace(go.Histogram(\n",
    "    x=uniforme_continua,\n",
    "    nbinsx=40,\n",
    "    histnorm='probability density',\n",
    "    marker_color='orange',\n",
    "    name='Simulación'\n",
    "))\n",
    "\n",
    "fig.add_trace(go.Scatter(\n",
    "    x=x_vals,\n",
    "    y=y_vals,\n",
    "    mode='lines',\n",
    "    name='Densidad teórica',\n",
    "    line=dict(color='red')\n",
    "))\n",
    "\n",
    "fig.update_layout(\n",
    "    title='Distribución Uniforme Continua simulada vs teórica [2, 5]',\n",
    "    xaxis_title='x',\n",
    "    yaxis_title='Densidad',\n",
    "    bargap=0.05\n",
    ")\n",
    "\n",
    "fig.show()\n"
   ]
  },
  {
   "cell_type": "markdown",
   "id": "5cf22ae1-8786-4a2d-91be-6ff48b9e8321",
   "metadata": {},
   "source": [
    "$\\color{red}{\\text{Ejercicio.}}$ Simulemos **la variable aleatoria de Cauchy** de parámetro $1$ que tiene por función de densidad\n",
    "$$\\frac{1}{\\pi}\\frac{1}{1+x^{2}}.$$\n",
    "Por el teorema anterior, para $u\\in (0,1)$\n",
    "$$u=\\frac{1}{\\pi}\\arctan(x)+\\frac{1}{2} \\qquad \\text{si y sólo si} \\qquad x=\\tan\\left({\\pi}\\left(u-\\frac{1}{2} \\right) \\right).$$"
   ]
  },
  {
   "cell_type": "code",
   "execution_count": null,
   "id": "3d48fc38-9b91-40e1-ac7f-df2cd58133cb",
   "metadata": {},
   "outputs": [],
   "source": [
    "import plotly.graph_objects as go"
   ]
  },
  {
   "cell_type": "code",
   "execution_count": null,
   "id": "4928be92-63c8-4e13-90eb-c30a08044b9d",
   "metadata": {},
   "outputs": [],
   "source": [
    "# Semilla\n",
    "np.random.seed(123)\n",
    "# 1. Parámetros\n",
    "n = 10000"
   ]
  },
  {
   "cell_type": "code",
   "execution_count": null,
   "id": "ed0c1de3-cc55-4a45-8248-25ab43739602",
   "metadata": {},
   "outputs": [],
   "source": [
    "# Simulación de la variable Cauchy a partir de una uniforme\n",
    "uniformes = np.random.random(n)\n",
    "cauchy_simulada = np.tan(np.pi * (uniformes - 0.5))"
   ]
  },
  {
   "cell_type": "code",
   "execution_count": null,
   "id": "4ff15227-e85e-4510-8438-79d8bd1b59e7",
   "metadata": {},
   "outputs": [],
   "source": [
    "# Definir la función de densidad de Cauchy\n",
    "def f_cauchy(x):\n",
    "    return (1 / np.pi) * (1 / (1 + x**2))"
   ]
  },
  {
   "cell_type": "code",
   "execution_count": null,
   "id": "d721d18a-91f7-4e75-9858-da607a851da8",
   "metadata": {},
   "outputs": [],
   "source": [
    "# Generar valores teóricos para la curva\n",
    "x_vals = np.linspace(-10, 10, 500)\n",
    "y_vals = f_cauchy(x_vals)"
   ]
  },
  {
   "cell_type": "code",
   "execution_count": null,
   "id": "c09110cc-251a-4b53-8971-2123bfc4166d",
   "metadata": {},
   "outputs": [],
   "source": [
    "# Crear gráfico interactivo con Plotly\n",
    "fig = go.Figure()\n",
    "fig.add_trace(go.Histogram(\n",
    "    x=cauchy_simulada,\n",
    "    nbinsx=100,\n",
    "    histnorm='probability density',\n",
    "    marker_color='blue',\n",
    "    name='Simulación'\n",
    "))"
   ]
  },
  {
   "cell_type": "code",
   "execution_count": null,
   "id": "6745f6c8-2f8c-4d6d-a923-5c03279ce5cc",
   "metadata": {
    "scrolled": true
   },
   "outputs": [],
   "source": [
    "# Curva Teorica\n",
    "fig.add_trace(go.Scatter(\n",
    "    x=x_vals,\n",
    "    y=y_vals,\n",
    "    mode='lines',\n",
    "    name='Densidad teórica',\n",
    "    line=dict(color='red')\n",
    "))\n",
    "\n",
    "fig.update_layout(\n",
    "    title='Distribución Cauchy simulada vs teórica',\n",
    "    xaxis_title='x',\n",
    "    yaxis_title='Densidad',\n",
    "    bargap=0.05\n",
    ")\n",
    "\n",
    "fig.show()"
   ]
  },
  {
   "cell_type": "markdown",
   "id": "67670060-dc4f-4722-9d76-4fea06916515",
   "metadata": {},
   "source": [
    "## 2.4. Conceptos Adicionales."
   ]
  },
  {
   "cell_type": "markdown",
   "id": "e7c3fae8-7aec-4227-bf54-a412a9a91ab8",
   "metadata": {},
   "source": [
    "### 2.4.1. Función Generadora de Momentos (FGM)"
   ]
  },
  {
   "cell_type": "markdown",
   "id": "1f77d513-3096-4d16-b874-dc7d200664a2",
   "metadata": {},
   "source": [
    "La **Función Generadora de Momentos (FGM)** de una variable aleatoria  $X$ es una herramienta que se usa para caracterizar la distribución de \\( X \\) a través de sus momentos (esperanza, varianza, etc.). Se define como:\n",
    "\n",
    "$$\n",
    "M_X(t) = \\mathbb{E}[e^{tX}]\n",
    "$$\n",
    "\n",
    "donde $t$ es un parámetro real y $\\mathbb{E}$ denota el valor esperado.\n",
    "\n",
    "**Usos de la FGM:**\n",
    "\n",
    "1. **Cálculo de Momentos:** La FGM es útil para calcular los **momentos** de una distribución. Los momentos de $X$ se obtienen mediante derivadas de $M_X(t)$ evaluadas en $t=0$:\n",
    "\n",
    "   - **Primer momento (esperanza):** \n",
    "   $$\n",
    "   \\mathbb{E}[X] = M_X'(0)\n",
    "   $$\n",
    "\n",
    "   - **Segundo momento (varianza):** \n",
    "   $$\n",
    "   \\text{Var}(X) = M_X''(0) - (M_X'(0))^2\n",
    "   $$\n",
    "\n",
    "2. **Convolución de Distribuciones:** Si \\( X \\) y \\( Y \\) son variables aleatorias independientes, la FGM de la suma \\( X + Y \\) es el producto de las FGM de \\( X \\) y \\( Y \\):\n",
    "   $$\n",
    "   M_{X+Y}(t) = M_X(t) \\cdot M_Y(t)\n",
    "   $$\n",
    "\n",
    "3. **Simplificación en Cálculos:** Es útil cuando se requiere calcular distribuciones o momentos de variables aleatorias sin tener que trabajar directamente con sus densidades de probabilidad.\n"
   ]
  },
  {
   "cell_type": "markdown",
   "id": "9364ba31-15d0-42ee-99e5-5c6fbbecdda5",
   "metadata": {},
   "source": [
    "<font color=\"blue\">**EJEMPLO:**</font> "
   ]
  },
  {
   "cell_type": "code",
   "execution_count": null,
   "id": "7655ac4d-0aa8-4bc4-902f-87bad9969d10",
   "metadata": {},
   "outputs": [],
   "source": [
    "import numpy as np\n",
    "import matplotlib.pyplot as plt\n",
    "from scipy.stats import norm\n",
    "\n",
    "# Parámetros de la distribución normal\n",
    "mu = 0  # media\n",
    "sigma = 1  # desviación estándar\n",
    "\n",
    "# Función Generadora de Momentos (FGM) para una normal\n",
    "def moment_generating_function(t, mu, sigma):\n",
    "    return np.exp(mu * t + 0.5 * sigma**2 * t**2)\n",
    "\n",
    "# Valores para t\n",
    "t = np.linspace(-5, 5, 1000)\n",
    "\n",
    "# Cálculo de la FGM\n",
    "mgf = moment_generating_function(t, mu, sigma)\n",
    "\n",
    "# Gráfico de la Función Generadora de Momentos (FGM)\n",
    "plt.figure(figsize=(6, 6))\n",
    "plt.plot(t, np.real(mgf), label='Real part of MGF', color='b')\n",
    "plt.title('Función Generadora de Momentos (MGF)')\n",
    "plt.xlabel('t')\n",
    "plt.ylabel('Real(MGF)')\n",
    "plt.grid(True)\n",
    "plt.legend()\n",
    "plt.show()\n"
   ]
  },
  {
   "cell_type": "markdown",
   "id": "d2d6885c-02aa-4c17-a694-e8a99177fd44",
   "metadata": {},
   "source": [
    "### 2.4.2. Función Característica (FC)"
   ]
  },
  {
   "cell_type": "markdown",
   "id": "c31b357d-1cc8-43ff-863e-79c84df0a757",
   "metadata": {},
   "source": [
    "La **Función Característica (FC)** de una variable aleatoria $ X $ se define como la esperanza del complejo exponencial de $ X $, es decir:\n",
    "\n",
    "$$\n",
    "\\varphi_X(t) = \\mathbb{E}[e^{itX}]\n",
    "$$\n",
    "\n",
    "donde $ i $ es la unidad imaginaria y $ t $ es un parámetro real.\n",
    "\n",
    "**Usos de la FC:**\n",
    "\n",
    "1. **Caracterización de Distribuciones:** Al igual que la FGM, la función característica caracteriza completamente la distribución de una variable aleatoria. A través de su uso, podemos obtener momentos y propiedades como la varianza, la simetría, etc.\n",
    "   \n",
    "2. **Transformaciones y Sumas de Variables Aleatorias:** Para dos variables aleatorias independientes $ X $ y $ Y $, la función característica de la suma $ X+Y $ es el producto de las funciones características de $ X $ y $ Y $:\n"
   ]
  },
  {
   "cell_type": "markdown",
   "id": "e7a02399-5434-436a-8b64-080b3f8d4c29",
   "metadata": {},
   "source": [
    "<font color=\"blue\">**EJEMPLO:**</font> "
   ]
  },
  {
   "cell_type": "code",
   "execution_count": null,
   "id": "aaae3282-26d8-4db2-8d7d-b6d8eb86e9b5",
   "metadata": {},
   "outputs": [],
   "source": [
    "import numpy as np\n",
    "import matplotlib.pyplot as plt\n",
    "from scipy.stats import norm\n",
    "\n",
    "# Parámetros de la distribución normal\n",
    "mu = 0  # media\n",
    "sigma = 1  # desviación estándar\n",
    "\n",
    "# Función Característica (FC) para una normal\n",
    "def characteristic_function(t, mu, sigma):\n",
    "    return np.exp(1j * mu * t - 0.5 * sigma**2 * t**2)\n",
    "\n",
    "# Valores para t\n",
    "t = np.linspace(-5, 5, 1000)\n",
    "\n",
    "# Cálculo de la FC\n",
    "fc = characteristic_function(t, mu, sigma)\n",
    "\n",
    "# Gráfico de la Función Característica (FC)\n",
    "plt.figure(figsize=(6, 6))\n",
    "plt.plot(t, np.real(fc), label='Real part of CF', color='r')\n",
    "plt.plot(t, np.imag(fc), label='Imaginary part of CF', color='g', linestyle='--')\n",
    "plt.title('Función Característica (CF)')\n",
    "plt.xlabel('t')\n",
    "plt.ylabel('CF')\n",
    "plt.grid(True)\n",
    "plt.legend()\n",
    "plt.show()\n"
   ]
  },
  {
   "cell_type": "markdown",
   "id": "02fe71c0-900c-47ea-ae8b-d3ab6d6eb37a",
   "metadata": {},
   "source": [
    "## 2.4. Ley de los grandes números (LGN)."
   ]
  },
  {
   "cell_type": "markdown",
   "id": "b848fed1-15ee-4445-8be5-4ffb835854f7",
   "metadata": {},
   "source": [
    "La Ley de los Grandes Números establece que, a medida que el número de ensayos de un experimento aleatorio aumenta, la media de los resultados observados se acerca a la esperanza matemática (media) de la distribución.\n",
    "\n",
    "Formalmente:\n",
    "\n",
    "$$\n",
    "\\lim_{n \\to \\infty} \\frac{1}{n} \\sum_{i=1}^{n} X_i = \\mathbb{E}[X]\n",
    "$$\n",
    "\n",
    "donde $ X_1, X_2, \\dots, X_n $ son variables aleatorias independientes e idénticamente distribuidas con esperanza $ \\mathbb{E}[X] $.\n"
   ]
  },
  {
   "cell_type": "markdown",
   "id": "1fcb5442-3157-4751-8170-ba18ff913107",
   "metadata": {},
   "source": [
    "#### Simulación de LGN."
   ]
  },
  {
   "cell_type": "markdown",
   "id": "4b59b3ad-5bb2-40d9-93e1-c55d02cd34d5",
   "metadata": {},
   "source": [
    "Simualaremos los lanzamientos de un dado y calcularemos la media \n",
    "\n",
    "$$ \\Omega = \\{ 1,2,3,4,5,6, \\}$$\n",
    "\n",
    "La media teórica : $$\\mathbb{E}[X] = 3.5$$"
   ]
  },
  {
   "cell_type": "code",
   "execution_count": null,
   "id": "5d7fbf4e-8859-40a8-832e-d36a4a9baa64",
   "metadata": {},
   "outputs": [],
   "source": [
    "import numpy as np\n",
    "import pandas as pd #Manejo y manipulacion de datos\n",
    "import matplotlib.pyplot as plt\n",
    "import seaborn as sns #Visualizacion de datos"
   ]
  },
  {
   "cell_type": "code",
   "execution_count": null,
   "id": "ac604149-81c4-47e8-ad8f-4254ffbd2039",
   "metadata": {},
   "outputs": [],
   "source": [
    "np.random.seed(42) # numeros pseudoaletorios sean reproducibles\n",
    "lanzamientos = np.random.randint(1,7,10000)"
   ]
  },
  {
   "cell_type": "code",
   "execution_count": null,
   "id": "bec70647-a4b5-4443-9955-972e586108f3",
   "metadata": {},
   "outputs": [],
   "source": [
    "media_acum = np.cumsum(lanzamientos) / np.arange(1,10001)\n",
    "df = pd.DataFrame( {\n",
    "    'Lanzamiento': np.arange(1,10001),\n",
    "    'Media Acumulada': media_acum } )"
   ]
  },
  {
   "cell_type": "code",
   "execution_count": null,
   "id": "67c00a19-1632-4bd9-9ec9-f0b355dae3cc",
   "metadata": {},
   "outputs": [],
   "source": [
    "plt.figure(figsize=(10,6))\n",
    "plt.plot(df['Lanzamiento'], df['Media Acumulada'], label='media muestral')\n",
    "plt.axhline(3.5, color= 'red', linestyle='--', label='media teórica (3.5)')\n",
    "plt.xlabel('Número de lanzamientos')\n",
    "plt.ylabel('Media')\n",
    "plt.title('LGN en lanzamientos de un dado')\n",
    "plt.legend()\n",
    "plt.show()"
   ]
  },
  {
   "cell_type": "markdown",
   "id": "2dec5380-c173-439f-b495-0e54fd6d8fdc",
   "metadata": {},
   "source": [
    "<font color=\"blue\">**EJEMPLO:**</font> Problema de la Ajuga de Bufon.\n",
    "\n",
    "**Enunciado del Problema:**\n",
    "Imagina que tienes una hoja de papel con líneas paralelas, cada una separada por una distancia $ d $. Una aguja de longitud $ l $ se lanza al azar sobre la hoja. El problema consiste en calcular la probabilidad de que la aguja cruce una de las líneas en la hoja.\n",
    "\n",
    "**Supuestos:**\n",
    "- La longitud de la aguja $ l $ es menor o igual a la distancia entre las líneas $ d $, es decir, $ l \\leq d $.\n",
    "- La aguja se lanza de manera completamente aleatoria sobre la hoja, es decir, puede caer en cualquier ángulo y posición.\n",
    "\n",
    "**Solución Teórica:**\n",
    "La probabilidad de que la aguja cruce una de las líneas es dada por la fórmula:\n",
    "\n",
    "$$\n",
    "P = \\frac{2l}{\\pi d}\n",
    "$$\n",
    "\n",
    "Esta fórmula permite estimar el valor de $ \\pi $ si se conoce la probabilidad de que la aguja cruce una línea, la longitud de la aguja y la distancia entre las líneas.\n"
   ]
  },
  {
   "cell_type": "code",
   "execution_count": null,
   "id": "ec5ecf70-4e88-40b3-aa0e-35b1439280bb",
   "metadata": {},
   "outputs": [],
   "source": [
    "##Solución Computacional\n",
    "\n",
    "import numpy as np\n",
    "import matplotlib.pyplot as plt\n",
    "\n",
    "# Parámetros del problema\n",
    "L = 1.0  # Longitud de la aguja\n",
    "d = 1.0  # Distancia entre las líneas paralelas\n",
    "num_trials = 100000  # Número total de lanzamientos\n",
    "step = 1000  # Número de lanzamientos por paso para la estimación de pi\n",
    "\n",
    "# Listas para almacenar los valores de pi estimados y los lanzamientos\n",
    "pi_estimates = []\n",
    "trial_steps = []\n",
    "\n",
    "# Contador para cuántas agujas cruzan una línea\n",
    "crossed_lines = 0\n",
    "\n",
    "# Simulación de lanzamientos de la aguja y estimación de pi en pasos\n",
    "for trial in range(1, num_trials + 1):\n",
    "    # Posición del centro de la aguja\n",
    "    center_position = np.random.uniform(0, d / 2)\n",
    "\n",
    "    # Ángulo aleatorio entre 0 y pi (ángulo en radianes)\n",
    "    angle = np.random.uniform(0, np.pi)\n",
    "\n",
    "    # Distancia desde el centro de la aguja hasta la línea más cercana\n",
    "    distance_to_nearest_line = L / 2 * np.sin(angle)\n",
    "\n",
    "    # Verificamos si la aguja cruza una línea\n",
    "    if center_position <= distance_to_nearest_line:\n",
    "        crossed_lines += 1\n",
    "\n",
    "    # Estimación de pi en pasos\n",
    "    if trial % step == 0 and crossed_lines > 0:\n",
    "        pi_estimate = (2 * L * trial) / (crossed_lines * d)\n",
    "        pi_estimates.append(pi_estimate)\n",
    "        trial_steps.append(trial)\n",
    "\n",
    "print(f\"Estimación de pi: {pi_estimate}\")\n",
    "\n",
    "# Plot de la estimación de pi a lo largo de los lanzamientos\n",
    "plt.figure(figsize=(10, 6))\n",
    "plt.plot(trial_steps, pi_estimates, label=\"Estimación de π\", color=\"blue\")\n",
    "plt.axhline(y=np.pi, color=\"red\", linestyle=\"--\", label=\"Valor real de π\")\n",
    "plt.xlabel('Número de lanzamientos')\n",
    "plt.ylabel('Estimación de π')\n",
    "plt.title('Convergencia de la estimación de π con el problema de la aguja de Buffon')\n",
    "plt.legend()\n",
    "plt.grid(True)\n",
    "plt.show()"
   ]
  },
  {
   "cell_type": "markdown",
   "id": "63b25213-c042-4732-a712-4b68469c85de",
   "metadata": {},
   "source": [
    "## 2.5. Teorema central del límite (TCL)."
   ]
  },
  {
   "cell_type": "markdown",
   "id": "8ff887f8-e4ed-457d-b02e-af008bfaabc8",
   "metadata": {},
   "source": [
    "El Teorema Central del Límite establece que, bajo ciertas condiciones, la distribución de la suma (o media) de un gran número de variables aleatorias independientes e idénticamente distribuidas tiende a una distribución normal, sin importar la distribución original de las variables.\n",
    "\n",
    "Formalmente, si $ X_1, X_2, \\dots, X_n $ son variables aleatorias independientes e idénticamente distribuidas con esperanza $ \\mu $ y varianza $ \\sigma^2 $, entonces:\n",
    "\n",
    "$$\n",
    "\\frac{\\sum_{i=1}^{n} X_i - n\\mu}{\\sigma \\sqrt{n}} \\xrightarrow{d} N(0, 1) \\quad \\text{cuando} \\quad n \\to \\infty\n",
    "$$\n",
    "\n",
    "donde $ N(0, 1) $ es la distribución normal estándar.\n"
   ]
  },
  {
   "cell_type": "markdown",
   "id": "c7c15a27-0b94-41ea-8445-f614cb37f8c2",
   "metadata": {},
   "source": [
    "#### Simulación de TCL."
   ]
  },
  {
   "cell_type": "code",
   "execution_count": null,
   "id": "212af27e-186d-4f8d-89d8-a958f715f1b0",
   "metadata": {},
   "outputs": [],
   "source": [
    "# Crear el DataFrame con 50 muestras, cada una con 10 observaciones de una binomial(n=1000, p=0.6)\n",
    "df = pd.DataFrame()\n",
    "\n",
    "for i in range(1,51):\n",
    "  muestra = np.random.binomial(1000,0.6,10)  # Muestra aleatoria de binomiales de 10 éxitos, se realiza 1000 veces el experimento \n",
    "  col = f\"muestra {i}\"\n",
    "  df[col] = muestra\n",
    "\n",
    "df.head(5)  # Mostrar las primeras 5 filas\n",
    "\n",
    "# Calcular el promedio de cada muestra\n",
    "df_muestra_medias = pd.DataFrame(df.mean(), columns=[\"Media de la muestra\"])\n",
    "\n",
    "# Visualizar la distribución de las medias\n",
    "sns.distplot(df_muestra_medias)\n",
    "#sns.histplot(df_muestra_medias[\"Media de la muestra\"], kde=True)\n",
    "plt.title(\"Distribución de medias muestrales\")\n",
    "plt.xlabel(\"Media\")\n",
    "plt.ylabel(\"Frecuencia\")\n",
    "plt.show()"
   ]
  },
  {
   "cell_type": "code",
   "execution_count": null,
   "id": "efee5bbe-911c-4011-90b6-49297f01d882",
   "metadata": {},
   "outputs": [],
   "source": [
    "import numpy as np\n",
    "import matplotlib.pyplot as plt\n",
    "\n",
    "# Parámetros\n",
    "num_trials = 10000  # Número de experimentos\n",
    "n_values = [10, 100, 1000]  # Diferentes valores de n\n",
    "\n",
    "# Realizar simulaciones para cada n\n",
    "plt.figure(figsize=(12, 8))\n",
    "\n",
    "for n in n_values:\n",
    "    # Simular n lanzamientos de dados, repetidos 'num_trials' veces\n",
    "    sums = np.sum(np.random.randint(1, 7, size=(num_trials, n)), axis=1)\n",
    "\n",
    "    # Graficar la distribución de las sumas\n",
    "    plt.hist(sums, bins=30, density=True, alpha=0.6, label=f'n = {n}')\n",
    "\n",
    "# Títulos y etiquetas\n",
    "plt.title('Distribución de la Suma de Lanzamientos de Dados')\n",
    "plt.xlabel('Suma de los lanzamientos')\n",
    "plt.ylabel('Frecuencia')\n",
    "plt.legend()\n",
    "\n",
    "# Mostrar gráfico\n",
    "plt.grid(True)\n",
    "plt.show()\n"
   ]
  },
  {
   "cell_type": "code",
   "execution_count": null,
   "id": "61950b0f-ad42-4cab-abb8-7c7ff86a46d9",
   "metadata": {},
   "outputs": [],
   "source": []
  }
 ],
 "metadata": {
  "colab": {
   "provenance": []
  },
  "kernelspec": {
   "display_name": "Python 3 (ipykernel)",
   "language": "python",
   "name": "python3"
  },
  "language_info": {
   "codemirror_mode": {
    "name": "ipython",
    "version": 3
   },
   "file_extension": ".py",
   "mimetype": "text/x-python",
   "name": "python",
   "nbconvert_exporter": "python",
   "pygments_lexer": "ipython3",
   "version": "3.11.0"
  }
 },
 "nbformat": 4,
 "nbformat_minor": 5
}
